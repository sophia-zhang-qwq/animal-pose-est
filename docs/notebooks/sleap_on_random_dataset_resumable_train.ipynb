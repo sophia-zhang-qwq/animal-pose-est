{
  "cells": [
    {
      "cell_type": "markdown",
      "metadata": {
        "id": "view-in-github",
        "colab_type": "text"
      },
      "source": [
        "<a href=\"https://colab.research.google.com/github/sophia-zhang-qwq/animal-pose-est/blob/main/docs/notebooks/sleap_on_random_dataset_resumable_train.ipynb\" target=\"_parent\"><img src=\"https://colab.research.google.com/assets/colab-badge.svg\" alt=\"Open In Colab\"/></a>"
      ]
    },
    {
      "cell_type": "markdown",
      "metadata": {
        "id": "DpvQa3M3n7jC"
      },
      "source": [
        "# Interactive and resumable training\n",
        "\n",
        "Most of the time, you will be training models through the GUI or using the [`sleap-train` CLI](https://sleap.ai/guides/cli.html#sleap-train).\n",
        "\n",
        "If you'd like to customize the training process, however, you can use SLEAP's low-level training functionality interactively. This allows you to define scripts that train models according to your own workflow, for example, to **resume training** on an already trained model. Another possible application would be to train a model using **transfer learning**, where a pretrained model can be used to initialize the weights of the new model.\n",
        "\n",
        "In this notebook we will explore how to set up a training job and train a model for multiple rounds without the GUI or CLI."
      ]
    },
    {
      "cell_type": "markdown",
      "metadata": {
        "id": "BeeqrLbdupmE"
      },
      "source": [
        "## 1. Setup SLEAP\n",
        "\n",
        "Run this cell first to install SLEAP. If you get a dependency error in subsequent cells, just click **Runtime** → **Restart runtime** to reload the packages.\n",
        "\n",
        "Don't forget to set **Runtime** → **Change runtime type** → **GPU** as the accelerator."
      ]
    },
    {
      "cell_type": "code",
      "execution_count": 1,
      "metadata": {
        "colab": {
          "base_uri": "https://localhost:8080/"
        },
        "id": "BYxJ2rJOMW8B",
        "outputId": "e0411b5c-cde1-46b0-8d3a-0b2d50ddac50"
      },
      "outputs": [
        {
          "output_type": "stream",
          "name": "stdout",
          "text": [
            "--2025-04-21 01:26:57--  https://repo.anaconda.com/miniconda/Miniconda3-py310_22.11.1-1-Linux-x86_64.sh\n",
            "Resolving repo.anaconda.com (repo.anaconda.com)... 104.16.32.241, 104.16.191.158, 2606:4700::6810:20f1, ...\n",
            "Connecting to repo.anaconda.com (repo.anaconda.com)|104.16.32.241|:443... connected.\n",
            "HTTP request sent, awaiting response... 200 OK\n",
            "Length: 72402405 (69M) [application/x-sh]\n",
            "Saving to: ‘mini.sh’\n",
            "\n",
            "mini.sh             100%[===================>]  69.05M   305MB/s    in 0.2s    \n",
            "\n",
            "2025-04-21 01:26:57 (305 MB/s) - ‘mini.sh’ saved [72402405/72402405]\n",
            "\n",
            "PREFIX=/usr/local\n",
            "Unpacking payload ...\n",
            "                                                                                           \n",
            "Installing base environment...\n",
            "\n",
            "\n",
            "Downloading and Extracting Packages\n",
            "\n",
            "\n",
            "Downloading and Extracting Packages\n",
            "\n",
            "Preparing transaction: - \b\b\\ \b\b| \b\bdone\n",
            "Executing transaction: - \b\b\\ \b\b| \b\b/ \b\b- \b\b\\ \b\b| \b\b/ \b\b- \b\b\\ \b\b| \b\b/ \b\b- \b\b\\ \b\b| \b\bdone\n",
            "installation finished.\n",
            "WARNING:\n",
            "    You currently have a PYTHONPATH environment variable set. This may cause\n",
            "    unexpected behavior when running the Python interpreter in Miniconda3.\n",
            "    For best results, please verify that your PYTHONPATH only points to\n",
            "    directories of packages that are compatible with the Python interpreter\n",
            "    in Miniconda3: /usr/local\n",
            "Collecting package metadata (current_repodata.json): ...working... done\n",
            "Solving environment: ...working... \n",
            "The environment is inconsistent, please check the package plan carefully\n",
            "The following packages are causing the inconsistency:\n",
            "\n",
            "  - defaults/linux-64::libpq==17.4=hdbd6064_0\n",
            "  - defaults/linux-64::jupyterlab==4.3.4=py310h06a4308_0\n",
            "  - defaults/linux-64::libedit==3.1.20230828=h5eee18b_0\n",
            "  - defaults/linux-64::libxml2==2.13.7=hfdd30dd_0\n",
            "  - defaults/linux-64::libxkbcommon==1.0.1=h097e994_2\n",
            "  - defaults/linux-64::qt-main==5.15.2=hb6262e9_12\n",
            "  - defaults/linux-64::libnghttp2==1.57.0=h2d74bed_0\n",
            "  - defaults/linux-64::libcups==2.4.2=h2d74bed_1\n",
            "  - defaults/linux-64::qtconsole==5.6.1=py310h06a4308_1\n",
            "  - defaults/linux-64::fontconfig==2.14.1=h55d465d_3\n",
            "  - defaults/linux-64::zstd==1.5.6=hc292b87_0\n",
            "  - conda-forge/noarch::google-colab==1.0.0=pyh44b312d_0\n",
            "  - defaults/linux-64::krb5==1.20.1=h143b758_1\n",
            "  - defaults/linux-64::jupyter==1.1.1=py310h06a4308_0\n",
            "  - defaults/linux-64::mysql==8.4.0=h721767e_2\n",
            "  - defaults/linux-64::notebook==7.3.2=py310h06a4308_0\n",
            "  - defaults/linux-64::openldap==2.6.4=h42fbc30_0\n",
            "  - defaults/linux-64::libssh2==1.11.1=h251f7ec_0\n",
            "  - defaults/linux-64::libcurl==8.12.1=hc9e6f67_0\n",
            "  - defaults/linux-64::pyqt==5.15.10=py310h6a678d5_1\n",
            "  - defaults/linux-64::cyrus-sasl==2.1.28=h52b45da_1\n",
            "  - defaults/linux-64::jupyterlab_server==2.27.3=py310h06a4308_0\n",
            "done\n",
            "\n",
            "## Package Plan ##\n",
            "\n",
            "  environment location: /usr/local\n",
            "\n",
            "  added / updated specs:\n",
            "    - jupyter\n",
            "\n",
            "\n",
            "The following packages will be UPDATED:\n",
            "\n",
            "  ca-certificates                     2022.10.11-h06a4308_0 --> 2025.2.25-h06a4308_0 \n",
            "  certifi                         2022.12.7-py310h06a4308_0 --> 2025.1.31-py310h06a4308_0 \n",
            "  ncurses                                    6.3-h5eee18b_3 --> 6.4-h6a678d5_0 \n",
            "  openssl                                 1.1.1s-h7f8727e_0 --> 3.0.16-h5eee18b_0 \n",
            "  python                                  3.10.8-h7a1cb2a_1 --> 3.10.16-he870216_1 \n",
            "  requests                           2.28.1-py310h06a4308_0 --> 2.32.3-py310h06a4308_1 \n",
            "  sqlite                                  3.40.0-h5082296_0 --> 3.45.3-h5eee18b_0 \n",
            "  tk                                      8.6.12-h1ccaba5_0 --> 8.6.14-h39e8969_0 \n",
            "  xz                                       5.2.8-h5eee18b_0 --> 5.6.4-h5eee18b_1 \n",
            "\n",
            "\n",
            "Preparing transaction: ...working... done\n",
            "Verifying transaction: ...working... done\n",
            "Executing transaction: ...working... done\n",
            "Collecting package metadata (current_repodata.json): ...working... done\n",
            "Solving environment: ...working... done\n",
            "\n",
            "## Package Plan ##\n",
            "\n",
            "  environment location: /usr/local\n",
            "\n",
            "  added / updated specs:\n",
            "    - google-colab\n",
            "\n",
            "\n",
            "The following packages will be SUPERSEDED by a higher-priority channel:\n",
            "\n",
            "  ca-certificates    pkgs/main::ca-certificates-2025.2.25-~ --> conda-forge::ca-certificates-2025.1.31-hbcca054_0 \n",
            "  certifi            pkgs/main/linux-64::certifi-2025.1.31~ --> conda-forge/noarch::certifi-2025.1.31-pyhd8ed1ab_0 \n",
            "  conda              pkgs/main::conda-22.11.1-py310h06a430~ --> conda-forge::conda-22.11.1-py310hff52083_1 \n",
            "\n",
            "\n",
            "Preparing transaction: ...working... done\n",
            "Verifying transaction: ...working... done\n",
            "Executing transaction: ...working... done\n",
            "Installed kernelspec py310 in /root/.local/share/jupyter/kernels/py310\n",
            "Requirement already satisfied: sleap[pypi] in /usr/local/lib/python3.10/site-packages (1.4.1)\n",
            "Requirement already satisfied: imgstore<0.3.0 in /usr/local/lib/python3.10/site-packages (from sleap[pypi]) (0.2.9)\n",
            "Requirement already satisfied: nixio>=1.5.3 in /usr/local/lib/python3.10/site-packages (from sleap[pypi]) (1.5.4)\n",
            "Requirement already satisfied: segmentation-models in /usr/local/lib/python3.10/site-packages (from sleap[pypi]) (1.0.1)\n",
            "Requirement already satisfied: pynwb>=2.3.3 in /usr/local/lib/python3.10/site-packages (from sleap[pypi]) (2.8.3)\n",
            "Requirement already satisfied: qimage2ndarray in /usr/local/lib/python3.10/site-packages (from sleap[pypi]) (1.10.0)\n",
            "Requirement already satisfied: opencv-python<=4.7.0,>=4.2.0 in /usr/local/lib/python3.10/site-packages (from sleap[pypi]) (4.6.0.66)\n",
            "Requirement already satisfied: pykalman==0.9.5 in /usr/local/lib/python3.10/site-packages (from sleap[pypi]) (0.9.5)\n",
            "Requirement already satisfied: ndx-pose<0.2.0 in /usr/local/lib/python3.10/site-packages (from sleap[pypi]) (0.1.1)\n",
            "Requirement already satisfied: albumentations in /usr/local/lib/python3.10/site-packages (from sleap[pypi]) (1.3.1)\n",
            "Requirement already satisfied: tensorflow<2.9,>=2.6.3 in /usr/local/lib/python3.10/site-packages (from sleap[pypi]) (2.8.4)\n",
            "Requirement already satisfied: qtpy>=2.0.1 in /usr/local/lib/python3.10/site-packages (from sleap[pypi]) (2.4.1)\n",
            "Requirement already satisfied: pillow<=8.4.0,>=8.3.1 in /usr/local/lib/python3.10/site-packages (from sleap[pypi]) (8.4.0)\n",
            "Requirement already satisfied: protobuf<3.20 in /usr/local/lib/python3.10/site-packages (from sleap[pypi]) (3.19.6)\n",
            "Requirement already satisfied: imageio in /usr/local/lib/python3.10/site-packages (from sleap[pypi]) (2.37.0)\n",
            "Requirement already satisfied: pyyaml in /usr/local/lib/python3.10/site-packages (from sleap[pypi]) (6.0.2)\n",
            "Requirement already satisfied: urllib3<2.0 in /usr/local/lib/python3.10/site-packages (from sleap[pypi]) (1.26.13)\n",
            "Requirement already satisfied: jsmin in /usr/local/lib/python3.10/site-packages (from sleap[pypi]) (3.0.1)\n",
            "Requirement already satisfied: pyzmq in /usr/local/lib/python3.10/site-packages (from sleap[pypi]) (26.2.0)\n",
            "Requirement already satisfied: cattrs==1.1.1 in /usr/local/lib/python3.10/site-packages (from sleap[pypi]) (1.1.1)\n",
            "Requirement already satisfied: numpy<1.23.0,>=1.19.5 in /usr/local/lib/python3.10/site-packages (from sleap[pypi]) (1.22.4)\n",
            "Requirement already satisfied: attrs<=21.4.0,>=21.2.0 in /usr/local/lib/python3.10/site-packages (from sleap[pypi]) (21.4.0)\n",
            "Requirement already satisfied: scikit-image in /usr/local/lib/python3.10/site-packages (from sleap[pypi]) (0.19.3)\n",
            "Requirement already satisfied: tensorflow-hub<=0.14.0 in /usr/local/lib/python3.10/site-packages (from sleap[pypi]) (0.14.0)\n",
            "Requirement already satisfied: imgaug==0.4.0 in /usr/local/lib/python3.10/site-packages (from sleap[pypi]) (0.4.0)\n",
            "Requirement already satisfied: rich==10.16.1 in /usr/local/lib/python3.10/site-packages (from sleap[pypi]) (10.16.1)\n",
            "Requirement already satisfied: imageio-ffmpeg in /usr/local/lib/python3.10/site-packages (from sleap[pypi]) (0.6.0)\n",
            "Requirement already satisfied: scikit-learn==1.0.* in /usr/local/lib/python3.10/site-packages (from sleap[pypi]) (1.0.2)\n",
            "Requirement already satisfied: seaborn in /usr/local/lib/python3.10/site-packages (from sleap[pypi]) (0.13.2)\n",
            "Requirement already satisfied: PySide2<=5.14.1,>=5.13.2 in /usr/local/lib/python3.10/site-packages (from sleap[pypi]) (5.13.2)\n",
            "Requirement already satisfied: pandas in /usr/local/lib/python3.10/site-packages (from sleap[pypi]) (2.2.3)\n",
            "Requirement already satisfied: python-rapidjson in /usr/local/lib/python3.10/site-packages (from sleap[pypi]) (1.20)\n",
            "Requirement already satisfied: scikit-video in /usr/local/lib/python3.10/site-packages (from sleap[pypi]) (1.1.11)\n",
            "Requirement already satisfied: psutil in /usr/local/lib/python3.10/site-packages (from sleap[pypi]) (5.9.0)\n",
            "Requirement already satisfied: networkx in /usr/local/lib/python3.10/site-packages (from sleap[pypi]) (3.4.2)\n",
            "Requirement already satisfied: scipy<=1.9.0,>=1.4.1 in /usr/local/lib/python3.10/site-packages (from sleap[pypi]) (1.9.0)\n",
            "Requirement already satisfied: jsonpickle==1.2 in /usr/local/lib/python3.10/site-packages (from sleap[pypi]) (1.2)\n",
            "Requirement already satisfied: matplotlib in /usr/local/lib/python3.10/site-packages (from imgaug==0.4.0->sleap[pypi]) (3.8.4)\n",
            "Requirement already satisfied: six in /usr/local/lib/python3.10/site-packages (from imgaug==0.4.0->sleap[pypi]) (1.16.0)\n",
            "Requirement already satisfied: Shapely in /usr/local/lib/python3.10/site-packages (from imgaug==0.4.0->sleap[pypi]) (2.1.0)\n",
            "Requirement already satisfied: commonmark<0.10.0,>=0.9.0 in /usr/local/lib/python3.10/site-packages (from rich==10.16.1->sleap[pypi]) (0.9.1)\n",
            "Requirement already satisfied: colorama<0.5.0,>=0.4.0 in /usr/local/lib/python3.10/site-packages (from rich==10.16.1->sleap[pypi]) (0.4.6)\n",
            "Requirement already satisfied: pygments<3.0.0,>=2.6.0 in /usr/local/lib/python3.10/site-packages (from rich==10.16.1->sleap[pypi]) (2.19.1)\n",
            "Requirement already satisfied: threadpoolctl>=2.0.0 in /usr/local/lib/python3.10/site-packages (from scikit-learn==1.0.*->sleap[pypi]) (3.6.0)\n",
            "Requirement already satisfied: joblib>=0.11 in /usr/local/lib/python3.10/site-packages (from scikit-learn==1.0.*->sleap[pypi]) (1.4.2)\n",
            "Requirement already satisfied: tzlocal in /usr/local/lib/python3.10/site-packages (from imgstore<0.3.0->sleap[pypi]) (5.3.1)\n",
            "Requirement already satisfied: python-dateutil in /usr/local/lib/python3.10/site-packages (from imgstore<0.3.0->sleap[pypi]) (2.9.0.post0)\n",
            "Requirement already satisfied: pytz in /usr/local/lib/python3.10/site-packages (from imgstore<0.3.0->sleap[pypi]) (2025.2)\n",
            "Requirement already satisfied: hdmf<4,>=2.5.6 in /usr/local/lib/python3.10/site-packages (from ndx-pose<0.2.0->sleap[pypi]) (3.14.6)\n",
            "Requirement already satisfied: h5py in /usr/local/lib/python3.10/site-packages (from nixio>=1.5.3->sleap[pypi]) (3.13.0)\n",
            "Requirement already satisfied: tzdata>=2022.7 in /usr/local/lib/python3.10/site-packages (from pandas->sleap[pypi]) (2025.2)\n",
            "Requirement already satisfied: shiboken2==5.13.2 in /usr/local/lib/python3.10/site-packages (from PySide2<=5.14.1,>=5.13.2->sleap[pypi]) (5.13.2)\n",
            "Requirement already satisfied: packaging in /usr/local/lib/python3.10/site-packages (from qtpy>=2.0.1->sleap[pypi]) (24.2)\n",
            "Requirement already satisfied: PyWavelets>=1.1.1 in /usr/local/lib/python3.10/site-packages (from scikit-image->sleap[pypi]) (1.6.0)\n",
            "Requirement already satisfied: tifffile>=2019.7.26 in /usr/local/lib/python3.10/site-packages (from scikit-image->sleap[pypi]) (2025.3.30)\n",
            "Requirement already satisfied: tensorflow-io-gcs-filesystem>=0.23.1 in /usr/local/lib/python3.10/site-packages (from tensorflow<2.9,>=2.6.3->sleap[pypi]) (0.37.1)\n",
            "Requirement already satisfied: setuptools in /usr/local/lib/python3.10/site-packages (from tensorflow<2.9,>=2.6.3->sleap[pypi]) (65.5.0)\n",
            "Requirement already satisfied: grpcio<2.0,>=1.24.3 in /usr/local/lib/python3.10/site-packages (from tensorflow<2.9,>=2.6.3->sleap[pypi]) (1.71.0)\n",
            "Requirement already satisfied: libclang>=9.0.1 in /usr/local/lib/python3.10/site-packages (from tensorflow<2.9,>=2.6.3->sleap[pypi]) (18.1.1)\n",
            "Requirement already satisfied: astunparse>=1.6.0 in /usr/local/lib/python3.10/site-packages (from tensorflow<2.9,>=2.6.3->sleap[pypi]) (1.6.3)\n",
            "Requirement already satisfied: gast>=0.2.1 in /usr/local/lib/python3.10/site-packages (from tensorflow<2.9,>=2.6.3->sleap[pypi]) (0.6.0)\n",
            "Requirement already satisfied: absl-py>=0.4.0 in /usr/local/lib/python3.10/site-packages (from tensorflow<2.9,>=2.6.3->sleap[pypi]) (2.2.2)\n",
            "Requirement already satisfied: keras-preprocessing>=1.1.1 in /usr/local/lib/python3.10/site-packages (from tensorflow<2.9,>=2.6.3->sleap[pypi]) (1.1.2)\n",
            "Requirement already satisfied: termcolor>=1.1.0 in /usr/local/lib/python3.10/site-packages (from tensorflow<2.9,>=2.6.3->sleap[pypi]) (3.0.1)\n",
            "Requirement already satisfied: wrapt>=1.11.0 in /usr/local/lib/python3.10/site-packages (from tensorflow<2.9,>=2.6.3->sleap[pypi]) (1.17.2)\n",
            "Requirement already satisfied: keras<2.9,>=2.8.0rc0 in /usr/local/lib/python3.10/site-packages (from tensorflow<2.9,>=2.6.3->sleap[pypi]) (2.8.0)\n",
            "Requirement already satisfied: tensorboard<2.9,>=2.8 in /usr/local/lib/python3.10/site-packages (from tensorflow<2.9,>=2.6.3->sleap[pypi]) (2.8.0)\n",
            "Requirement already satisfied: google-pasta>=0.1.1 in /usr/local/lib/python3.10/site-packages (from tensorflow<2.9,>=2.6.3->sleap[pypi]) (0.2.0)\n",
            "Requirement already satisfied: flatbuffers>=1.12 in /usr/local/lib/python3.10/site-packages (from tensorflow<2.9,>=2.6.3->sleap[pypi]) (25.2.10)\n",
            "Requirement already satisfied: typing-extensions>=3.6.6 in /usr/local/lib/python3.10/site-packages (from tensorflow<2.9,>=2.6.3->sleap[pypi]) (4.12.2)\n",
            "Requirement already satisfied: opt-einsum>=2.3.2 in /usr/local/lib/python3.10/site-packages (from tensorflow<2.9,>=2.6.3->sleap[pypi]) (3.4.0)\n",
            "Requirement already satisfied: tensorflow-estimator<2.9,>=2.8 in /usr/local/lib/python3.10/site-packages (from tensorflow<2.9,>=2.6.3->sleap[pypi]) (2.8.0)\n",
            "Requirement already satisfied: opencv-python-headless>=4.1.1 in /usr/local/lib/python3.10/site-packages (from albumentations->sleap[pypi]) (4.11.0.86)\n",
            "Requirement already satisfied: qudida>=0.0.4 in /usr/local/lib/python3.10/site-packages (from albumentations->sleap[pypi]) (0.0.4)\n",
            "Requirement already satisfied: keras-applications<=1.0.8,>=1.0.7 in /usr/local/lib/python3.10/site-packages (from segmentation-models->sleap[pypi]) (1.0.8)\n",
            "Requirement already satisfied: image-classifiers==1.0.0 in /usr/local/lib/python3.10/site-packages (from segmentation-models->sleap[pypi]) (1.0.0)\n",
            "Requirement already satisfied: efficientnet==1.0.0 in /usr/local/lib/python3.10/site-packages (from segmentation-models->sleap[pypi]) (1.0.0)\n",
            "Requirement already satisfied: wheel<1.0,>=0.23.0 in /usr/local/lib/python3.10/site-packages (from astunparse>=1.6.0->tensorflow<2.9,>=2.6.3->sleap[pypi]) (0.37.1)\n",
            "Requirement already satisfied: ruamel-yaml>=0.16 in /usr/local/lib/python3.10/site-packages (from hdmf<4,>=2.5.6->ndx-pose<0.2.0->sleap[pypi]) (0.17.21)\n",
            "Requirement already satisfied: jsonschema>=2.6.0 in /usr/local/lib/python3.10/site-packages (from hdmf<4,>=2.5.6->ndx-pose<0.2.0->sleap[pypi]) (4.17.3)\n",
            "Requirement already satisfied: contourpy>=1.0.1 in /usr/local/lib/python3.10/site-packages (from matplotlib->imgaug==0.4.0->sleap[pypi]) (1.2.1)\n",
            "Requirement already satisfied: pyparsing>=2.3.1 in /usr/local/lib/python3.10/site-packages (from matplotlib->imgaug==0.4.0->sleap[pypi]) (3.2.3)\n",
            "Requirement already satisfied: cycler>=0.10 in /usr/local/lib/python3.10/site-packages (from matplotlib->imgaug==0.4.0->sleap[pypi]) (0.12.1)\n",
            "Requirement already satisfied: fonttools>=4.22.0 in /usr/local/lib/python3.10/site-packages (from matplotlib->imgaug==0.4.0->sleap[pypi]) (4.57.0)\n",
            "Requirement already satisfied: kiwisolver>=1.3.1 in /usr/local/lib/python3.10/site-packages (from matplotlib->imgaug==0.4.0->sleap[pypi]) (1.4.8)\n",
            "Requirement already satisfied: google-auth<3,>=1.6.3 in /usr/local/lib/python3.10/site-packages (from tensorboard<2.9,>=2.8->tensorflow<2.9,>=2.6.3->sleap[pypi]) (2.17.0)\n",
            "Requirement already satisfied: requests<3,>=2.21.0 in /usr/local/lib/python3.10/site-packages (from tensorboard<2.9,>=2.8->tensorflow<2.9,>=2.6.3->sleap[pypi]) (2.32.3)\n",
            "Requirement already satisfied: google-auth-oauthlib<0.5,>=0.4.1 in /usr/local/lib/python3.10/site-packages (from tensorboard<2.9,>=2.8->tensorflow<2.9,>=2.6.3->sleap[pypi]) (0.4.6)\n",
            "Requirement already satisfied: werkzeug>=0.11.15 in /usr/local/lib/python3.10/site-packages (from tensorboard<2.9,>=2.8->tensorflow<2.9,>=2.6.3->sleap[pypi]) (3.1.3)\n",
            "Requirement already satisfied: markdown>=2.6.8 in /usr/local/lib/python3.10/site-packages (from tensorboard<2.9,>=2.8->tensorflow<2.9,>=2.6.3->sleap[pypi]) (3.8)\n",
            "Requirement already satisfied: tensorboard-data-server<0.7.0,>=0.6.0 in /usr/local/lib/python3.10/site-packages (from tensorboard<2.9,>=2.8->tensorflow<2.9,>=2.6.3->sleap[pypi]) (0.6.1)\n",
            "Requirement already satisfied: tensorboard-plugin-wit>=1.6.0 in /usr/local/lib/python3.10/site-packages (from tensorboard<2.9,>=2.8->tensorflow<2.9,>=2.6.3->sleap[pypi]) (1.8.1)\n",
            "Requirement already satisfied: pyasn1-modules>=0.2.1 in /usr/local/lib/python3.10/site-packages (from google-auth<3,>=1.6.3->tensorboard<2.9,>=2.8->tensorflow<2.9,>=2.6.3->sleap[pypi]) (0.4.2)\n",
            "Requirement already satisfied: rsa<5,>=3.1.4 in /usr/local/lib/python3.10/site-packages (from google-auth<3,>=1.6.3->tensorboard<2.9,>=2.8->tensorflow<2.9,>=2.6.3->sleap[pypi]) (4.9.1)\n",
            "Requirement already satisfied: cachetools<6.0,>=2.0.0 in /usr/local/lib/python3.10/site-packages (from google-auth<3,>=1.6.3->tensorboard<2.9,>=2.8->tensorflow<2.9,>=2.6.3->sleap[pypi]) (5.5.2)\n",
            "Requirement already satisfied: requests-oauthlib>=0.7.0 in /usr/local/lib/python3.10/site-packages (from google-auth-oauthlib<0.5,>=0.4.1->tensorboard<2.9,>=2.8->tensorflow<2.9,>=2.6.3->sleap[pypi]) (2.0.0)\n",
            "Requirement already satisfied: pyrsistent!=0.17.0,!=0.17.1,!=0.17.2,>=0.14.0 in /usr/local/lib/python3.10/site-packages (from jsonschema>=2.6.0->hdmf<4,>=2.5.6->ndx-pose<0.2.0->sleap[pypi]) (0.20.0)\n",
            "Requirement already satisfied: certifi>=2017.4.17 in /usr/local/lib/python3.10/site-packages (from requests<3,>=2.21.0->tensorboard<2.9,>=2.8->tensorflow<2.9,>=2.6.3->sleap[pypi]) (2025.1.31)\n",
            "Requirement already satisfied: charset-normalizer<4,>=2 in /usr/local/lib/python3.10/site-packages (from requests<3,>=2.21.0->tensorboard<2.9,>=2.8->tensorflow<2.9,>=2.6.3->sleap[pypi]) (2.0.4)\n",
            "Requirement already satisfied: idna<4,>=2.5 in /usr/local/lib/python3.10/site-packages (from requests<3,>=2.21.0->tensorboard<2.9,>=2.8->tensorflow<2.9,>=2.6.3->sleap[pypi]) (3.4)\n",
            "Requirement already satisfied: ruamel.yaml.clib>=0.2.6 in /usr/local/lib/python3.10/site-packages (from ruamel-yaml>=0.16->hdmf<4,>=2.5.6->ndx-pose<0.2.0->sleap[pypi]) (0.2.6)\n",
            "Requirement already satisfied: MarkupSafe>=2.1.1 in /usr/local/lib/python3.10/site-packages (from werkzeug>=0.11.15->tensorboard<2.9,>=2.8->tensorflow<2.9,>=2.6.3->sleap[pypi]) (3.0.2)\n",
            "Requirement already satisfied: pyasn1<0.7.0,>=0.6.1 in /usr/local/lib/python3.10/site-packages (from pyasn1-modules>=0.2.1->google-auth<3,>=1.6.3->tensorboard<2.9,>=2.8->tensorflow<2.9,>=2.6.3->sleap[pypi]) (0.6.1)\n",
            "Requirement already satisfied: oauthlib>=3.0.0 in /usr/local/lib/python3.10/site-packages (from requests-oauthlib>=0.7.0->google-auth-oauthlib<0.5,>=0.4.1->tensorboard<2.9,>=2.8->tensorflow<2.9,>=2.6.3->sleap[pypi]) (3.2.2)\n"
          ]
        }
      ],
      "source": [
        "# override and install python 3.10\n",
        "! wget -O mini.sh https://repo.anaconda.com/miniconda/Miniconda3-py310_22.11.1-1-Linux-x86_64.sh\n",
        "! chmod +x mini.sh\n",
        "! bash ./mini.sh -b -f -p /usr/local\n",
        "! conda install -q -y jupyter\n",
        "! conda install -q -y google-colab -c conda-forge\n",
        "! python -m ipykernel install --name \"py310\" --user\n",
        "\n",
        "# install sleap and dependencies\n",
        "! pip install sleap[pypi]"
      ]
    },
    {
      "cell_type": "code",
      "source": [
        "# install additional sleap dependencies and load GPU support through CUDA\n",
        "! pip install matplotlib-inline\n",
        "! pip install ipython\n",
        "! apt-get install cuda-11-8\n",
        "! apt-get install -y libcudnn8=8.6.0.163-1+cuda11.8\n",
        "! pip install numpy==1.23\n",
        "\n",
        "! export PATH=/usr/local/cuda-11.8/bin:$PATH\n",
        "! export LD_LIBRARY_PATH=/usr/local/cuda-11.8/lib64:$LD_LIBRARY_PATH\n",
        "! export CUDNN_INCLUDE_DIR=/usr/local/cuda/include\n",
        "! export CUDNN_LIB_DIR=/usr/local/cuda/lib64\n"
      ],
      "metadata": {
        "id": "yeYu3sdP9KPk",
        "outputId": "4c04a8fa-e08e-4a87-bbcb-26adb69da30d",
        "colab": {
          "base_uri": "https://localhost:8080/"
        }
      },
      "execution_count": 2,
      "outputs": [
        {
          "output_type": "stream",
          "name": "stdout",
          "text": [
            "Requirement already satisfied: matplotlib-inline in /usr/local/lib/python3.10/site-packages (0.1.6)\n",
            "Requirement already satisfied: traitlets in /usr/local/lib/python3.10/site-packages (from matplotlib-inline) (5.14.3)\n",
            "Requirement already satisfied: ipython in /usr/local/lib/python3.10/site-packages (8.30.0)\n",
            "Requirement already satisfied: prompt-toolkit<3.1.0,>=3.0.41 in /usr/local/lib/python3.10/site-packages (from ipython) (3.0.43)\n",
            "Requirement already satisfied: pygments>=2.4.0 in /usr/local/lib/python3.10/site-packages (from ipython) (2.19.1)\n",
            "Requirement already satisfied: pexpect>4.3 in /usr/local/lib/python3.10/site-packages (from ipython) (4.8.0)\n",
            "Requirement already satisfied: decorator in /usr/local/lib/python3.10/site-packages (from ipython) (5.1.1)\n",
            "Requirement already satisfied: typing-extensions>=4.6 in /usr/local/lib/python3.10/site-packages (from ipython) (4.12.2)\n",
            "Requirement already satisfied: exceptiongroup in /usr/local/lib/python3.10/site-packages (from ipython) (1.2.0)\n",
            "Requirement already satisfied: stack-data in /usr/local/lib/python3.10/site-packages (from ipython) (0.2.0)\n",
            "Requirement already satisfied: jedi>=0.16 in /usr/local/lib/python3.10/site-packages (from ipython) (0.19.2)\n",
            "Requirement already satisfied: matplotlib-inline in /usr/local/lib/python3.10/site-packages (from ipython) (0.1.6)\n",
            "Requirement already satisfied: traitlets>=5.13.0 in /usr/local/lib/python3.10/site-packages (from ipython) (5.14.3)\n",
            "Requirement already satisfied: parso<0.9.0,>=0.8.4 in /usr/local/lib/python3.10/site-packages (from jedi>=0.16->ipython) (0.8.4)\n",
            "Requirement already satisfied: ptyprocess>=0.5 in /usr/local/lib/python3.10/site-packages (from pexpect>4.3->ipython) (0.7.0)\n",
            "Requirement already satisfied: wcwidth in /usr/local/lib/python3.10/site-packages (from prompt-toolkit<3.1.0,>=3.0.41->ipython) (0.2.5)\n",
            "Requirement already satisfied: pure-eval in /usr/local/lib/python3.10/site-packages (from stack-data->ipython) (0.2.2)\n",
            "Requirement already satisfied: executing in /usr/local/lib/python3.10/site-packages (from stack-data->ipython) (0.8.3)\n",
            "Requirement already satisfied: asttokens in /usr/local/lib/python3.10/site-packages (from stack-data->ipython) (3.0.0)\n",
            "Reading package lists... Done\n",
            "Building dependency tree... Done\n",
            "Reading state information... Done\n",
            "The following additional packages will be installed:\n",
            "  cpp-12 cuda-cccl-11-8 cuda-command-line-tools-11-8 cuda-compiler-11-8\n",
            "  cuda-cudart-11-8 cuda-cudart-dev-11-8 cuda-cuobjdump-11-8 cuda-cupti-11-8\n",
            "  cuda-cupti-dev-11-8 cuda-cuxxfilt-11-8 cuda-demo-suite-11-8\n",
            "  cuda-documentation-11-8 cuda-driver-dev-11-8 cuda-drivers cuda-drivers-570\n",
            "  cuda-gdb-11-8 cuda-libraries-11-8 cuda-libraries-dev-11-8 cuda-memcheck-11-8\n",
            "  cuda-nsight-11-8 cuda-nsight-compute-11-8 cuda-nsight-systems-11-8\n",
            "  cuda-nvcc-11-8 cuda-nvdisasm-11-8 cuda-nvml-dev-11-8 cuda-nvprof-11-8\n",
            "  cuda-nvprune-11-8 cuda-nvrtc-11-8 cuda-nvrtc-dev-11-8 cuda-nvtx-11-8\n",
            "  cuda-nvvp-11-8 cuda-profiler-api-11-8 cuda-runtime-11-8 cuda-sanitizer-11-8\n",
            "  cuda-toolkit-11-8 cuda-toolkit-11-8-config-common\n",
            "  cuda-toolkit-11-config-common cuda-tools-11-8 cuda-visual-tools-11-8\n",
            "  dctrl-tools default-jre default-jre-headless dkms fakeroot fonts-dejavu-core\n",
            "  fonts-dejavu-extra gcc-12 gds-tools-11-8 keyboard-configuration libasan8\n",
            "  libatk-wrapper-java libatk-wrapper-java-jni libcublas-11-8\n",
            "  libcublas-dev-11-8 libcufft-11-8 libcufft-dev-11-8 libcufile-11-8\n",
            "  libcufile-dev-11-8 libcurand-11-8 libcurand-dev-11-8 libcusolver-11-8\n",
            "  libcusolver-dev-11-8 libcusparse-11-8 libcusparse-dev-11-8 libfakeroot\n",
            "  libgail-common libgail18 libgcc-12-dev libgtk2.0-0 libgtk2.0-bin\n",
            "  libgtk2.0-common libgudev-1.0-0 libjansson4 liblocale-gettext-perl\n",
            "  libnpp-11-8 libnpp-dev-11-8 libnvidia-cfg1-570 libnvidia-common-570\n",
            "  libnvidia-compute-570 libnvidia-decode-570 libnvidia-encode-570\n",
            "  libnvidia-extra-570 libnvidia-fbc1-570 libnvidia-gl-570 libnvjpeg-11-8\n",
            "  libnvjpeg-dev-11-8 librsvg2-common libtinfo5 libtsan2 libudev1 libxcb-icccm4\n",
            "  libxcb-image0 libxcb-keysyms1 libxcb-render-util0 libxcb-util1\n",
            "  libxcb-xinerama0 libxcb-xinput0 libxcb-xkb1 libxcvt0 libxkbcommon-x11-0\n",
            "  libxtst6 libxxf86dga1 nsight-compute-2022.3.0 nsight-systems-2022.4.2\n",
            "  nvidia-compute-utils-570 nvidia-dkms-570 nvidia-driver-570\n",
            "  nvidia-firmware-570-570.124.06 nvidia-kernel-common-570\n",
            "  nvidia-kernel-source-570 nvidia-modprobe nvidia-settings nvidia-utils-570\n",
            "  openjdk-11-jre python3-xkit screen-resolution-extra switcheroo-control\n",
            "  systemd-hwe-hwdb udev x11-utils xcvt xserver-xorg-core\n",
            "  xserver-xorg-video-nvidia-570\n",
            "Suggested packages:\n",
            "  gcc-12-locales cpp-12-doc debtags menu gcc-12-multilib gcc-12-doc gvfs\n",
            "  mesa-utils xfonts-100dpi | xfonts-75dpi xfonts-scalable\n",
            "Recommended packages:\n",
            "  libnvidia-compute-570:i386 libnvidia-decode-570:i386\n",
            "  libnvidia-encode-570:i386 libnvidia-fbc1-570:i386 libnvidia-gl-570:i386\n",
            "The following NEW packages will be installed:\n",
            "  cpp-12 cuda-11-8 cuda-cccl-11-8 cuda-command-line-tools-11-8\n",
            "  cuda-compiler-11-8 cuda-cudart-11-8 cuda-cudart-dev-11-8 cuda-cuobjdump-11-8\n",
            "  cuda-cupti-11-8 cuda-cupti-dev-11-8 cuda-cuxxfilt-11-8 cuda-demo-suite-11-8\n",
            "  cuda-documentation-11-8 cuda-driver-dev-11-8 cuda-drivers cuda-drivers-570\n",
            "  cuda-gdb-11-8 cuda-libraries-11-8 cuda-libraries-dev-11-8 cuda-memcheck-11-8\n",
            "  cuda-nsight-11-8 cuda-nsight-compute-11-8 cuda-nsight-systems-11-8\n",
            "  cuda-nvcc-11-8 cuda-nvdisasm-11-8 cuda-nvml-dev-11-8 cuda-nvprof-11-8\n",
            "  cuda-nvprune-11-8 cuda-nvrtc-11-8 cuda-nvrtc-dev-11-8 cuda-nvtx-11-8\n",
            "  cuda-nvvp-11-8 cuda-profiler-api-11-8 cuda-runtime-11-8 cuda-sanitizer-11-8\n",
            "  cuda-toolkit-11-8 cuda-toolkit-11-8-config-common\n",
            "  cuda-toolkit-11-config-common cuda-tools-11-8 cuda-visual-tools-11-8\n",
            "  dctrl-tools default-jre default-jre-headless dkms fakeroot fonts-dejavu-core\n",
            "  fonts-dejavu-extra gcc-12 gds-tools-11-8 keyboard-configuration libasan8\n",
            "  libatk-wrapper-java libatk-wrapper-java-jni libcublas-11-8\n",
            "  libcublas-dev-11-8 libcufft-11-8 libcufft-dev-11-8 libcufile-11-8\n",
            "  libcufile-dev-11-8 libcurand-11-8 libcurand-dev-11-8 libcusolver-11-8\n",
            "  libcusolver-dev-11-8 libcusparse-11-8 libcusparse-dev-11-8 libfakeroot\n",
            "  libgail-common libgail18 libgcc-12-dev libgtk2.0-0 libgtk2.0-bin\n",
            "  libgtk2.0-common libgudev-1.0-0 libjansson4 liblocale-gettext-perl\n",
            "  libnpp-11-8 libnpp-dev-11-8 libnvidia-cfg1-570 libnvidia-common-570\n",
            "  libnvidia-compute-570 libnvidia-decode-570 libnvidia-encode-570\n",
            "  libnvidia-extra-570 libnvidia-fbc1-570 libnvidia-gl-570 libnvjpeg-11-8\n",
            "  libnvjpeg-dev-11-8 librsvg2-common libtinfo5 libtsan2 libxcb-icccm4\n",
            "  libxcb-image0 libxcb-keysyms1 libxcb-render-util0 libxcb-util1\n",
            "  libxcb-xinerama0 libxcb-xinput0 libxcb-xkb1 libxcvt0 libxkbcommon-x11-0\n",
            "  libxtst6 libxxf86dga1 nsight-compute-2022.3.0 nsight-systems-2022.4.2\n",
            "  nvidia-compute-utils-570 nvidia-dkms-570 nvidia-driver-570\n",
            "  nvidia-firmware-570-570.124.06 nvidia-kernel-common-570\n",
            "  nvidia-kernel-source-570 nvidia-modprobe nvidia-settings nvidia-utils-570\n",
            "  openjdk-11-jre python3-xkit screen-resolution-extra switcheroo-control\n",
            "  systemd-hwe-hwdb udev x11-utils xcvt xserver-xorg-core\n",
            "  xserver-xorg-video-nvidia-570\n",
            "The following packages will be upgraded:\n",
            "  libudev1\n",
            "1 upgraded, 123 newly installed, 0 to remove and 33 not upgraded.\n",
            "Need to get 3,068 MB/3,116 MB of archives.\n",
            "After this operation, 7,843 MB of additional disk space will be used.\n",
            "Get:1 https://developer.download.nvidia.com/compute/cuda/repos/ubuntu2204/x86_64  cuda-cudart-11-8 11.8.89-1 [165 kB]\n",
            "Get:2 http://archive.ubuntu.com/ubuntu jammy-updates/main amd64 libgtk2.0-common all 2.24.33-2ubuntu2.1 [125 kB]\n",
            "Get:3 http://archive.ubuntu.com/ubuntu jammy-updates/main amd64 libgtk2.0-0 amd64 2.24.33-2ubuntu2.1 [2,038 kB]\n",
            "Get:4 https://developer.download.nvidia.com/compute/cuda/repos/ubuntu2204/x86_64  cuda-nvrtc-11-8 11.8.89-1 [16.4 MB]\n",
            "Get:5 http://archive.ubuntu.com/ubuntu jammy-updates/main amd64 libgail18 amd64 2.24.33-2ubuntu2.1 [15.9 kB]\n",
            "Get:6 http://archive.ubuntu.com/ubuntu jammy-updates/main amd64 libgail-common amd64 2.24.33-2ubuntu2.1 [132 kB]\n",
            "Get:7 http://archive.ubuntu.com/ubuntu jammy-updates/main amd64 libgtk2.0-bin amd64 2.24.33-2ubuntu2.1 [7,936 B]\n",
            "Get:8 http://archive.ubuntu.com/ubuntu jammy/main amd64 libgudev-1.0-0 amd64 1:237-2build1 [16.3 kB]\n",
            "Get:9 http://archive.ubuntu.com/ubuntu jammy-updates/main amd64 librsvg2-common amd64 2.52.5+dfsg-3ubuntu0.2 [17.7 kB]\n",
            "Get:10 http://archive.ubuntu.com/ubuntu jammy/main amd64 python3-xkit all 0.5.0ubuntu5 [18.5 kB]\n",
            "Get:11 http://archive.ubuntu.com/ubuntu jammy/main amd64 screen-resolution-extra all 0.18.2 [4,396 B]\n",
            "Get:12 http://archive.ubuntu.com/ubuntu jammy/main amd64 switcheroo-control amd64 2.4-3build2 [16.5 kB]\n",
            "Get:13 http://archive.ubuntu.com/ubuntu jammy-updates/main amd64 systemd-hwe-hwdb all 249.11.5 [3,228 B]\n",
            "Get:14 http://archive.ubuntu.com/ubuntu jammy/main amd64 xcvt amd64 0.1.1-3 [7,140 B]\n",
            "Get:15 https://developer.download.nvidia.com/compute/cuda/repos/ubuntu2204/x86_64  libcublas-11-8 11.11.3.6-1 [248 MB]\n",
            "Get:16 https://developer.download.nvidia.com/compute/cuda/repos/ubuntu2204/x86_64  libcufft-11-8 10.9.0.58-1 [94.2 MB]\n",
            "Get:17 https://developer.download.nvidia.com/compute/cuda/repos/ubuntu2204/x86_64  libcufile-11-8 1.4.0.31-1 [474 kB]\n",
            "Get:18 https://developer.download.nvidia.com/compute/cuda/repos/ubuntu2204/x86_64  libcurand-11-8 10.3.0.86-1 [42.2 MB]\n",
            "Get:19 https://developer.download.nvidia.com/compute/cuda/repos/ubuntu2204/x86_64  libcusolver-11-8 11.4.1.48-1 [52.3 MB]\n",
            "Get:20 https://developer.download.nvidia.com/compute/cuda/repos/ubuntu2204/x86_64  libcusparse-11-8 11.7.5.86-1 [116 MB]\n",
            "Get:21 https://developer.download.nvidia.com/compute/cuda/repos/ubuntu2204/x86_64  libnpp-11-8 11.8.0.86-1 [102 MB]\n",
            "Get:22 https://developer.download.nvidia.com/compute/cuda/repos/ubuntu2204/x86_64  libnvjpeg-11-8 11.9.0.86-1 [1,865 kB]\n",
            "Get:23 https://developer.download.nvidia.com/compute/cuda/repos/ubuntu2204/x86_64  cuda-libraries-11-8 11.8.0-1 [2,518 B]\n",
            "Get:24 https://developer.download.nvidia.com/compute/cuda/repos/ubuntu2204/x86_64  libnvidia-common-570 570.124.06-0ubuntu1 [15.9 kB]\n",
            "Get:25 https://developer.download.nvidia.com/compute/cuda/repos/ubuntu2204/x86_64  libnvidia-gl-570 570.124.06-0ubuntu1 [162 MB]\n",
            "Get:26 https://developer.download.nvidia.com/compute/cuda/repos/ubuntu2204/x86_64  nvidia-kernel-source-570 570.124.06-0ubuntu1 [73.2 MB]\n",
            "Get:27 https://developer.download.nvidia.com/compute/cuda/repos/ubuntu2204/x86_64  nvidia-firmware-570-570.124.06 570.124.06-0ubuntu1 [64.5 MB]\n",
            "Get:28 https://developer.download.nvidia.com/compute/cuda/repos/ubuntu2204/x86_64  nvidia-modprobe 570.124.06-0ubuntu1 [14.9 kB]\n",
            "Get:29 https://developer.download.nvidia.com/compute/cuda/repos/ubuntu2204/x86_64  nvidia-kernel-common-570 570.124.06-0ubuntu1 [98.6 kB]\n",
            "Get:30 https://developer.download.nvidia.com/compute/cuda/repos/ubuntu2204/x86_64  nvidia-dkms-570 570.124.06-0ubuntu1 [14.9 kB]\n",
            "Get:31 https://developer.download.nvidia.com/compute/cuda/repos/ubuntu2204/x86_64  libnvidia-decode-570 570.124.06-0ubuntu1 [2,434 kB]\n",
            "Get:32 https://developer.download.nvidia.com/compute/cuda/repos/ubuntu2204/x86_64  libnvidia-compute-570 570.124.06-0ubuntu1 [44.1 MB]\n",
            "Get:33 https://developer.download.nvidia.com/compute/cuda/repos/ubuntu2204/x86_64  libnvidia-extra-570 570.124.06-0ubuntu1 [72.7 kB]\n",
            "Get:34 https://developer.download.nvidia.com/compute/cuda/repos/ubuntu2204/x86_64  nvidia-compute-utils-570 570.124.06-0ubuntu1 [109 kB]\n",
            "Get:35 https://developer.download.nvidia.com/compute/cuda/repos/ubuntu2204/x86_64  libnvidia-encode-570 570.124.06-0ubuntu1 [105 kB]\n",
            "Get:36 https://developer.download.nvidia.com/compute/cuda/repos/ubuntu2204/x86_64  nvidia-utils-570 570.124.06-0ubuntu1 [521 kB]\n",
            "Get:37 https://developer.download.nvidia.com/compute/cuda/repos/ubuntu2204/x86_64  libnvidia-cfg1-570 570.124.06-0ubuntu1 [145 kB]\n",
            "Get:38 https://developer.download.nvidia.com/compute/cuda/repos/ubuntu2204/x86_64  xserver-xorg-video-nvidia-570 570.124.06-0ubuntu1 [1,694 kB]\n",
            "Get:39 https://developer.download.nvidia.com/compute/cuda/repos/ubuntu2204/x86_64  libnvidia-fbc1-570 570.124.06-0ubuntu1 [98.2 kB]\n",
            "Get:40 https://developer.download.nvidia.com/compute/cuda/repos/ubuntu2204/x86_64  nvidia-driver-570 570.124.06-0ubuntu1 [491 kB]\n",
            "Get:41 https://developer.download.nvidia.com/compute/cuda/repos/ubuntu2204/x86_64  cuda-drivers-570 570.124.06-0ubuntu1 [2,554 B]\n",
            "Get:42 https://developer.download.nvidia.com/compute/cuda/repos/ubuntu2204/x86_64  cuda-drivers 570.124.06-0ubuntu1 [2,502 B]\n",
            "Get:43 https://developer.download.nvidia.com/compute/cuda/repos/ubuntu2204/x86_64  cuda-runtime-11-8 11.8.0-1 [2,424 B]\n",
            "Get:44 https://developer.download.nvidia.com/compute/cuda/repos/ubuntu2204/x86_64  cuda-cuobjdump-11-8 11.8.86-1 [165 kB]\n",
            "Get:45 https://developer.download.nvidia.com/compute/cuda/repos/ubuntu2204/x86_64  cuda-cuxxfilt-11-8 11.8.86-1 [189 kB]\n",
            "Get:46 https://developer.download.nvidia.com/compute/cuda/repos/ubuntu2204/x86_64  cuda-cccl-11-8 11.8.89-1 [1,040 kB]\n",
            "Get:47 https://developer.download.nvidia.com/compute/cuda/repos/ubuntu2204/x86_64  cuda-driver-dev-11-8 11.8.89-1 [27.3 kB]\n",
            "Get:48 https://developer.download.nvidia.com/compute/cuda/repos/ubuntu2204/x86_64  cuda-cudart-dev-11-8 11.8.89-1 [820 kB]\n",
            "Get:49 https://developer.download.nvidia.com/compute/cuda/repos/ubuntu2204/x86_64  cuda-nvcc-11-8 11.8.89-1 [43.5 MB]\n",
            "Get:50 https://developer.download.nvidia.com/compute/cuda/repos/ubuntu2204/x86_64  cuda-nvprune-11-8 11.8.86-1 [58.1 kB]\n",
            "Get:51 https://developer.download.nvidia.com/compute/cuda/repos/ubuntu2204/x86_64  cuda-compiler-11-8 11.8.0-1 [2,432 B]\n",
            "Get:52 https://developer.download.nvidia.com/compute/cuda/repos/ubuntu2204/x86_64  cuda-profiler-api-11-8 11.8.86-1 [18.5 kB]\n",
            "Get:53 https://developer.download.nvidia.com/compute/cuda/repos/ubuntu2204/x86_64  cuda-nvrtc-dev-11-8 11.8.89-1 [13.5 MB]\n",
            "Get:54 https://developer.download.nvidia.com/compute/cuda/repos/ubuntu2204/x86_64  libcublas-dev-11-8 11.11.3.6-1 [269 MB]\n",
            "Get:55 https://developer.download.nvidia.com/compute/cuda/repos/ubuntu2204/x86_64  libcufft-dev-11-8 10.9.0.58-1 [189 MB]\n",
            "Get:56 https://developer.download.nvidia.com/compute/cuda/repos/ubuntu2204/x86_64  libcufile-dev-11-8 1.4.0.31-1 [1,062 kB]\n",
            "Get:57 https://developer.download.nvidia.com/compute/cuda/repos/ubuntu2204/x86_64  libcurand-dev-11-8 10.3.0.86-1 [42.9 MB]\n",
            "Get:58 https://developer.download.nvidia.com/compute/cuda/repos/ubuntu2204/x86_64  libcusolver-dev-11-8 11.4.1.48-1 [35.7 MB]\n",
            "Get:59 https://developer.download.nvidia.com/compute/cuda/repos/ubuntu2204/x86_64  libcusparse-dev-11-8 11.7.5.86-1 [116 MB]\n",
            "Get:60 https://developer.download.nvidia.com/compute/cuda/repos/ubuntu2204/x86_64  libnpp-dev-11-8 11.8.0.86-1 [100 MB]\n",
            "Get:61 https://developer.download.nvidia.com/compute/cuda/repos/ubuntu2204/x86_64  libnvjpeg-dev-11-8 11.9.0.86-1 [1,536 kB]\n",
            "Get:62 https://developer.download.nvidia.com/compute/cuda/repos/ubuntu2204/x86_64  cuda-libraries-dev-11-8 11.8.0-1 [2,554 B]\n",
            "Get:63 https://developer.download.nvidia.com/compute/cuda/repos/ubuntu2204/x86_64  cuda-cupti-11-8 11.8.87-1 [15.4 MB]\n",
            "Get:64 https://developer.download.nvidia.com/compute/cuda/repos/ubuntu2204/x86_64  cuda-cupti-dev-11-8 11.8.87-1 [2,552 kB]\n",
            "Get:65 https://developer.download.nvidia.com/compute/cuda/repos/ubuntu2204/x86_64  cuda-nvdisasm-11-8 11.8.86-1 [50.8 MB]\n",
            "Get:66 https://developer.download.nvidia.com/compute/cuda/repos/ubuntu2204/x86_64  cuda-gdb-11-8 11.8.86-1 [4,138 kB]\n",
            "Get:67 https://developer.download.nvidia.com/compute/cuda/repos/ubuntu2204/x86_64  cuda-memcheck-11-8 11.8.86-1 [142 kB]\n",
            "Get:68 https://developer.download.nvidia.com/compute/cuda/repos/ubuntu2204/x86_64  cuda-nvprof-11-8 11.8.87-1 [1,959 kB]\n",
            "Get:69 https://developer.download.nvidia.com/compute/cuda/repos/ubuntu2204/x86_64  cuda-nvtx-11-8 11.8.86-1 [51.3 kB]\n",
            "Get:70 https://developer.download.nvidia.com/compute/cuda/repos/ubuntu2204/x86_64  cuda-sanitizer-11-8 11.8.86-1 [8,784 kB]\n",
            "Get:71 https://developer.download.nvidia.com/compute/cuda/repos/ubuntu2204/x86_64  cuda-command-line-tools-11-8 11.8.0-1 [2,472 B]\n",
            "Get:72 https://developer.download.nvidia.com/compute/cuda/repos/ubuntu2204/x86_64  nsight-compute-2022.3.0 2022.3.0.22-1 [580 MB]\n",
            "Get:73 https://developer.download.nvidia.com/compute/cuda/repos/ubuntu2204/x86_64  cuda-nsight-compute-11-8 11.8.0-1 [3,790 B]\n",
            "Get:74 https://developer.download.nvidia.com/compute/cuda/repos/ubuntu2204/x86_64  nsight-systems-2022.4.2 2022.4.2.50-32196742v0 [286 MB]\n",
            "Get:75 https://developer.download.nvidia.com/compute/cuda/repos/ubuntu2204/x86_64  cuda-nsight-systems-11-8 11.8.0-1 [3,310 B]\n",
            "Get:76 https://developer.download.nvidia.com/compute/cuda/repos/ubuntu2204/x86_64  cuda-nsight-11-8 11.8.86-1 [119 MB]\n",
            "Get:77 https://developer.download.nvidia.com/compute/cuda/repos/ubuntu2204/x86_64  cuda-nvml-dev-11-8 11.8.86-1 [81.4 kB]\n",
            "Get:78 https://developer.download.nvidia.com/compute/cuda/repos/ubuntu2204/x86_64  cuda-nvvp-11-8 11.8.87-1 [114 MB]\n",
            "Get:79 https://developer.download.nvidia.com/compute/cuda/repos/ubuntu2204/x86_64  cuda-visual-tools-11-8 11.8.0-1 [2,870 B]\n",
            "Get:80 https://developer.download.nvidia.com/compute/cuda/repos/ubuntu2204/x86_64  gds-tools-11-8 1.4.0.31-1 [38.7 MB]\n",
            "Get:81 https://developer.download.nvidia.com/compute/cuda/repos/ubuntu2204/x86_64  cuda-tools-11-8 11.8.0-1 [2,390 B]\n",
            "Get:82 https://developer.download.nvidia.com/compute/cuda/repos/ubuntu2204/x86_64  cuda-documentation-11-8 11.8.86-1 [49.8 kB]\n",
            "Get:83 https://developer.download.nvidia.com/compute/cuda/repos/ubuntu2204/x86_64  cuda-toolkit-11-8 11.8.0-1 [3,374 B]\n",
            "Get:84 https://developer.download.nvidia.com/compute/cuda/repos/ubuntu2204/x86_64  cuda-demo-suite-11-8 11.8.86-1 [3,997 kB]\n",
            "Get:85 https://developer.download.nvidia.com/compute/cuda/repos/ubuntu2204/x86_64  cuda-11-8 11.8.0-1 [2,450 B]\n",
            "Get:86 https://developer.download.nvidia.com/compute/cuda/repos/ubuntu2204/x86_64  nvidia-settings 570.124.06-0ubuntu1 [960 kB]\n",
            "Fetched 3,068 MB in 3min 2s (16.9 MB/s)\n",
            "Extracting templates from packages: 100%\n",
            "Preconfiguring packages ...\n",
            "Selecting previously unselected package liblocale-gettext-perl.\n",
            "(Reading database ... 126332 files and directories currently installed.)\n",
            "Preparing to unpack .../0-liblocale-gettext-perl_1.07-4build3_amd64.deb ...\n",
            "Unpacking liblocale-gettext-perl (1.07-4build3) ...\n",
            "Selecting previously unselected package keyboard-configuration.\n",
            "Preparing to unpack .../1-keyboard-configuration_1.205ubuntu3_all.deb ...\n",
            "Unpacking keyboard-configuration (1.205ubuntu3) ...\n",
            "Selecting previously unselected package cpp-12.\n",
            "Preparing to unpack .../2-cpp-12_12.3.0-1ubuntu1~22.04_amd64.deb ...\n",
            "Unpacking cpp-12 (12.3.0-1ubuntu1~22.04) ...\n",
            "Selecting previously unselected package libasan8:amd64.\n",
            "Preparing to unpack .../3-libasan8_12.3.0-1ubuntu1~22.04_amd64.deb ...\n",
            "Unpacking libasan8:amd64 (12.3.0-1ubuntu1~22.04) ...\n",
            "Selecting previously unselected package libtsan2:amd64.\n",
            "Preparing to unpack .../4-libtsan2_12.3.0-1ubuntu1~22.04_amd64.deb ...\n",
            "Unpacking libtsan2:amd64 (12.3.0-1ubuntu1~22.04) ...\n",
            "Selecting previously unselected package libgcc-12-dev:amd64.\n",
            "Preparing to unpack .../5-libgcc-12-dev_12.3.0-1ubuntu1~22.04_amd64.deb ...\n",
            "Unpacking libgcc-12-dev:amd64 (12.3.0-1ubuntu1~22.04) ...\n",
            "Selecting previously unselected package gcc-12.\n",
            "Preparing to unpack .../6-gcc-12_12.3.0-1ubuntu1~22.04_amd64.deb ...\n",
            "Unpacking gcc-12 (12.3.0-1ubuntu1~22.04) ...\n",
            "Selecting previously unselected package dctrl-tools.\n",
            "Preparing to unpack .../7-dctrl-tools_2.24-3build2_amd64.deb ...\n",
            "Unpacking dctrl-tools (2.24-3build2) ...\n",
            "Selecting previously unselected package dkms.\n",
            "Preparing to unpack .../8-dkms_2.8.7-2ubuntu2.2_all.deb ...\n",
            "Unpacking dkms (2.8.7-2ubuntu2.2) ...\n",
            "Preparing to unpack .../9-libudev1_249.11-0ubuntu3.15_amd64.deb ...\n",
            "Unpacking libudev1:amd64 (249.11-0ubuntu3.15) over (249.11-0ubuntu3.12) ...\n",
            "Setting up libudev1:amd64 (249.11-0ubuntu3.15) ...\n",
            "Selecting previously unselected package udev.\n",
            "(Reading database ... 126692 files and directories currently installed.)\n",
            "Preparing to unpack .../000-udev_249.11-0ubuntu3.15_amd64.deb ...\n",
            "Unpacking udev (249.11-0ubuntu3.15) ...\n",
            "Selecting previously unselected package libjansson4:amd64.\n",
            "Preparing to unpack .../001-libjansson4_2.13.1-1.1build3_amd64.deb ...\n",
            "Unpacking libjansson4:amd64 (2.13.1-1.1build3) ...\n",
            "Selecting previously unselected package cuda-toolkit-11-config-common.\n",
            "Preparing to unpack .../002-cuda-toolkit-11-config-common_11.8.89-1_all.deb ...\n",
            "Unpacking cuda-toolkit-11-config-common (11.8.89-1) ...\n",
            "Selecting previously unselected package cuda-toolkit-11-8-config-common.\n",
            "Preparing to unpack .../003-cuda-toolkit-11-8-config-common_11.8.89-1_all.deb ...\n",
            "Unpacking cuda-toolkit-11-8-config-common (11.8.89-1) ...\n",
            "Selecting previously unselected package cuda-cudart-11-8.\n",
            "Preparing to unpack .../004-cuda-cudart-11-8_11.8.89-1_amd64.deb ...\n",
            "Unpacking cuda-cudart-11-8 (11.8.89-1) ...\n",
            "Selecting previously unselected package cuda-nvrtc-11-8.\n",
            "Preparing to unpack .../005-cuda-nvrtc-11-8_11.8.89-1_amd64.deb ...\n",
            "Unpacking cuda-nvrtc-11-8 (11.8.89-1) ...\n",
            "Selecting previously unselected package libcublas-11-8.\n",
            "Preparing to unpack .../006-libcublas-11-8_11.11.3.6-1_amd64.deb ...\n",
            "Unpacking libcublas-11-8 (11.11.3.6-1) ...\n",
            "Selecting previously unselected package libcufft-11-8.\n",
            "Preparing to unpack .../007-libcufft-11-8_10.9.0.58-1_amd64.deb ...\n",
            "Unpacking libcufft-11-8 (10.9.0.58-1) ...\n",
            "Selecting previously unselected package libcufile-11-8.\n",
            "Preparing to unpack .../008-libcufile-11-8_1.4.0.31-1_amd64.deb ...\n",
            "Unpacking libcufile-11-8 (1.4.0.31-1) ...\n",
            "Selecting previously unselected package libcurand-11-8.\n",
            "Preparing to unpack .../009-libcurand-11-8_10.3.0.86-1_amd64.deb ...\n",
            "Unpacking libcurand-11-8 (10.3.0.86-1) ...\n",
            "Selecting previously unselected package libcusolver-11-8.\n",
            "Preparing to unpack .../010-libcusolver-11-8_11.4.1.48-1_amd64.deb ...\n",
            "Unpacking libcusolver-11-8 (11.4.1.48-1) ...\n",
            "Selecting previously unselected package libcusparse-11-8.\n",
            "Preparing to unpack .../011-libcusparse-11-8_11.7.5.86-1_amd64.deb ...\n",
            "Unpacking libcusparse-11-8 (11.7.5.86-1) ...\n",
            "Selecting previously unselected package libnpp-11-8.\n",
            "Preparing to unpack .../012-libnpp-11-8_11.8.0.86-1_amd64.deb ...\n",
            "Unpacking libnpp-11-8 (11.8.0.86-1) ...\n",
            "Selecting previously unselected package libnvjpeg-11-8.\n",
            "Preparing to unpack .../013-libnvjpeg-11-8_11.9.0.86-1_amd64.deb ...\n",
            "Unpacking libnvjpeg-11-8 (11.9.0.86-1) ...\n",
            "Selecting previously unselected package cuda-libraries-11-8.\n",
            "Preparing to unpack .../014-cuda-libraries-11-8_11.8.0-1_amd64.deb ...\n",
            "Unpacking cuda-libraries-11-8 (11.8.0-1) ...\n",
            "Selecting previously unselected package libnvidia-common-570.\n",
            "Preparing to unpack .../015-libnvidia-common-570_570.124.06-0ubuntu1_all.deb ...\n",
            "Unpacking libnvidia-common-570 (570.124.06-0ubuntu1) ...\n",
            "Selecting previously unselected package libnvidia-gl-570:amd64.\n",
            "Preparing to unpack .../016-libnvidia-gl-570_570.124.06-0ubuntu1_amd64.deb ...\n",
            "dpkg-query: no packages found matching libnvidia-gl-535\n",
            "Unpacking libnvidia-gl-570:amd64 (570.124.06-0ubuntu1) ...\n",
            "Selecting previously unselected package nvidia-kernel-source-570.\n",
            "Preparing to unpack .../017-nvidia-kernel-source-570_570.124.06-0ubuntu1_amd64.deb ...\n",
            "Unpacking nvidia-kernel-source-570 (570.124.06-0ubuntu1) ...\n",
            "Selecting previously unselected package nvidia-firmware-570-570.124.06.\n",
            "Preparing to unpack .../018-nvidia-firmware-570-570.124.06_570.124.06-0ubuntu1_amd64.deb ...\n",
            "Unpacking nvidia-firmware-570-570.124.06 (570.124.06-0ubuntu1) ...\n",
            "Selecting previously unselected package nvidia-modprobe.\n",
            "Preparing to unpack .../019-nvidia-modprobe_570.124.06-0ubuntu1_amd64.deb ...\n",
            "Unpacking nvidia-modprobe (570.124.06-0ubuntu1) ...\n",
            "Selecting previously unselected package nvidia-kernel-common-570.\n",
            "Preparing to unpack .../020-nvidia-kernel-common-570_570.124.06-0ubuntu1_amd64.deb ...\n",
            "Unpacking nvidia-kernel-common-570 (570.124.06-0ubuntu1) ...\n",
            "Selecting previously unselected package nvidia-dkms-570.\n",
            "Preparing to unpack .../021-nvidia-dkms-570_570.124.06-0ubuntu1_amd64.deb ...\n",
            "Unpacking nvidia-dkms-570 (570.124.06-0ubuntu1) ...\n",
            "Selecting previously unselected package libnvidia-decode-570:amd64.\n",
            "Preparing to unpack .../022-libnvidia-decode-570_570.124.06-0ubuntu1_amd64.deb ...\n",
            "Unpacking libnvidia-decode-570:amd64 (570.124.06-0ubuntu1) ...\n",
            "Selecting previously unselected package libnvidia-compute-570:amd64.\n",
            "Preparing to unpack .../023-libnvidia-compute-570_570.124.06-0ubuntu1_amd64.deb ...\n",
            "Unpacking libnvidia-compute-570:amd64 (570.124.06-0ubuntu1) ...\n",
            "Selecting previously unselected package libnvidia-extra-570:amd64.\n",
            "Preparing to unpack .../024-libnvidia-extra-570_570.124.06-0ubuntu1_amd64.deb ...\n",
            "Unpacking libnvidia-extra-570:amd64 (570.124.06-0ubuntu1) ...\n",
            "Selecting previously unselected package nvidia-compute-utils-570.\n",
            "Preparing to unpack .../025-nvidia-compute-utils-570_570.124.06-0ubuntu1_amd64.deb ...\n",
            "Unpacking nvidia-compute-utils-570 (570.124.06-0ubuntu1) ...\n",
            "Selecting previously unselected package libnvidia-encode-570:amd64.\n",
            "Preparing to unpack .../026-libnvidia-encode-570_570.124.06-0ubuntu1_amd64.deb ...\n",
            "Unpacking libnvidia-encode-570:amd64 (570.124.06-0ubuntu1) ...\n",
            "Selecting previously unselected package nvidia-utils-570.\n",
            "Preparing to unpack .../027-nvidia-utils-570_570.124.06-0ubuntu1_amd64.deb ...\n",
            "Unpacking nvidia-utils-570 (570.124.06-0ubuntu1) ...\n",
            "Selecting previously unselected package libnvidia-cfg1-570:amd64.\n",
            "Preparing to unpack .../028-libnvidia-cfg1-570_570.124.06-0ubuntu1_amd64.deb ...\n",
            "Unpacking libnvidia-cfg1-570:amd64 (570.124.06-0ubuntu1) ...\n",
            "Selecting previously unselected package libxcvt0:amd64.\n",
            "Preparing to unpack .../029-libxcvt0_0.1.1-3_amd64.deb ...\n",
            "Unpacking libxcvt0:amd64 (0.1.1-3) ...\n",
            "Selecting previously unselected package xserver-xorg-core.\n",
            "Preparing to unpack .../030-xserver-xorg-core_2%3a21.1.4-2ubuntu1.7~22.04.14_amd64.deb ...\n",
            "Unpacking xserver-xorg-core (2:21.1.4-2ubuntu1.7~22.04.14) ...\n",
            "Selecting previously unselected package xserver-xorg-video-nvidia-570.\n",
            "Preparing to unpack .../031-xserver-xorg-video-nvidia-570_570.124.06-0ubuntu1_amd64.deb ...\n",
            "Unpacking xserver-xorg-video-nvidia-570 (570.124.06-0ubuntu1) ...\n",
            "Selecting previously unselected package libnvidia-fbc1-570:amd64.\n",
            "Preparing to unpack .../032-libnvidia-fbc1-570_570.124.06-0ubuntu1_amd64.deb ...\n",
            "Unpacking libnvidia-fbc1-570:amd64 (570.124.06-0ubuntu1) ...\n",
            "Selecting previously unselected package nvidia-driver-570.\n",
            "Preparing to unpack .../033-nvidia-driver-570_570.124.06-0ubuntu1_amd64.deb ...\n",
            "Unpacking nvidia-driver-570 (570.124.06-0ubuntu1) ...\n",
            "Selecting previously unselected package cuda-drivers-570.\n",
            "Preparing to unpack .../034-cuda-drivers-570_570.124.06-0ubuntu1_amd64.deb ...\n",
            "Unpacking cuda-drivers-570 (570.124.06-0ubuntu1) ...\n",
            "Selecting previously unselected package cuda-drivers.\n",
            "Preparing to unpack .../035-cuda-drivers_570.124.06-0ubuntu1_amd64.deb ...\n",
            "Unpacking cuda-drivers (570.124.06-0ubuntu1) ...\n",
            "Selecting previously unselected package cuda-runtime-11-8.\n",
            "Preparing to unpack .../036-cuda-runtime-11-8_11.8.0-1_amd64.deb ...\n",
            "Unpacking cuda-runtime-11-8 (11.8.0-1) ...\n",
            "Selecting previously unselected package cuda-cuobjdump-11-8.\n",
            "Preparing to unpack .../037-cuda-cuobjdump-11-8_11.8.86-1_amd64.deb ...\n",
            "Unpacking cuda-cuobjdump-11-8 (11.8.86-1) ...\n",
            "Selecting previously unselected package cuda-cuxxfilt-11-8.\n",
            "Preparing to unpack .../038-cuda-cuxxfilt-11-8_11.8.86-1_amd64.deb ...\n",
            "Unpacking cuda-cuxxfilt-11-8 (11.8.86-1) ...\n",
            "Selecting previously unselected package cuda-cccl-11-8.\n",
            "Preparing to unpack .../039-cuda-cccl-11-8_11.8.89-1_amd64.deb ...\n",
            "Unpacking cuda-cccl-11-8 (11.8.89-1) ...\n",
            "Selecting previously unselected package cuda-driver-dev-11-8.\n",
            "Preparing to unpack .../040-cuda-driver-dev-11-8_11.8.89-1_amd64.deb ...\n",
            "Unpacking cuda-driver-dev-11-8 (11.8.89-1) ...\n",
            "Selecting previously unselected package cuda-cudart-dev-11-8.\n",
            "Preparing to unpack .../041-cuda-cudart-dev-11-8_11.8.89-1_amd64.deb ...\n",
            "Unpacking cuda-cudart-dev-11-8 (11.8.89-1) ...\n",
            "Selecting previously unselected package cuda-nvcc-11-8.\n",
            "Preparing to unpack .../042-cuda-nvcc-11-8_11.8.89-1_amd64.deb ...\n",
            "Unpacking cuda-nvcc-11-8 (11.8.89-1) ...\n",
            "Selecting previously unselected package cuda-nvprune-11-8.\n",
            "Preparing to unpack .../043-cuda-nvprune-11-8_11.8.86-1_amd64.deb ...\n",
            "Unpacking cuda-nvprune-11-8 (11.8.86-1) ...\n",
            "Selecting previously unselected package cuda-compiler-11-8.\n",
            "Preparing to unpack .../044-cuda-compiler-11-8_11.8.0-1_amd64.deb ...\n",
            "Unpacking cuda-compiler-11-8 (11.8.0-1) ...\n",
            "Selecting previously unselected package cuda-profiler-api-11-8.\n",
            "Preparing to unpack .../045-cuda-profiler-api-11-8_11.8.86-1_amd64.deb ...\n",
            "Unpacking cuda-profiler-api-11-8 (11.8.86-1) ...\n",
            "Selecting previously unselected package cuda-nvrtc-dev-11-8.\n",
            "Preparing to unpack .../046-cuda-nvrtc-dev-11-8_11.8.89-1_amd64.deb ...\n",
            "Unpacking cuda-nvrtc-dev-11-8 (11.8.89-1) ...\n",
            "Selecting previously unselected package libcublas-dev-11-8.\n",
            "Preparing to unpack .../047-libcublas-dev-11-8_11.11.3.6-1_amd64.deb ...\n",
            "Unpacking libcublas-dev-11-8 (11.11.3.6-1) ...\n",
            "Selecting previously unselected package libcufft-dev-11-8.\n",
            "Preparing to unpack .../048-libcufft-dev-11-8_10.9.0.58-1_amd64.deb ...\n",
            "Unpacking libcufft-dev-11-8 (10.9.0.58-1) ...\n",
            "Selecting previously unselected package libcufile-dev-11-8.\n",
            "Preparing to unpack .../049-libcufile-dev-11-8_1.4.0.31-1_amd64.deb ...\n",
            "Unpacking libcufile-dev-11-8 (1.4.0.31-1) ...\n",
            "Selecting previously unselected package libcurand-dev-11-8.\n",
            "Preparing to unpack .../050-libcurand-dev-11-8_10.3.0.86-1_amd64.deb ...\n",
            "Unpacking libcurand-dev-11-8 (10.3.0.86-1) ...\n",
            "Selecting previously unselected package libcusolver-dev-11-8.\n",
            "Preparing to unpack .../051-libcusolver-dev-11-8_11.4.1.48-1_amd64.deb ...\n",
            "Unpacking libcusolver-dev-11-8 (11.4.1.48-1) ...\n",
            "Selecting previously unselected package libcusparse-dev-11-8.\n",
            "Preparing to unpack .../052-libcusparse-dev-11-8_11.7.5.86-1_amd64.deb ...\n",
            "Unpacking libcusparse-dev-11-8 (11.7.5.86-1) ...\n",
            "Selecting previously unselected package libnpp-dev-11-8.\n",
            "Preparing to unpack .../053-libnpp-dev-11-8_11.8.0.86-1_amd64.deb ...\n",
            "Unpacking libnpp-dev-11-8 (11.8.0.86-1) ...\n",
            "Selecting previously unselected package libnvjpeg-dev-11-8.\n",
            "Preparing to unpack .../054-libnvjpeg-dev-11-8_11.9.0.86-1_amd64.deb ...\n",
            "Unpacking libnvjpeg-dev-11-8 (11.9.0.86-1) ...\n",
            "Selecting previously unselected package cuda-libraries-dev-11-8.\n",
            "Preparing to unpack .../055-cuda-libraries-dev-11-8_11.8.0-1_amd64.deb ...\n",
            "Unpacking cuda-libraries-dev-11-8 (11.8.0-1) ...\n",
            "Selecting previously unselected package cuda-cupti-11-8.\n",
            "Preparing to unpack .../056-cuda-cupti-11-8_11.8.87-1_amd64.deb ...\n",
            "Unpacking cuda-cupti-11-8 (11.8.87-1) ...\n",
            "Selecting previously unselected package cuda-cupti-dev-11-8.\n",
            "Preparing to unpack .../057-cuda-cupti-dev-11-8_11.8.87-1_amd64.deb ...\n",
            "Unpacking cuda-cupti-dev-11-8 (11.8.87-1) ...\n",
            "Selecting previously unselected package cuda-nvdisasm-11-8.\n",
            "Preparing to unpack .../058-cuda-nvdisasm-11-8_11.8.86-1_amd64.deb ...\n",
            "Unpacking cuda-nvdisasm-11-8 (11.8.86-1) ...\n",
            "Selecting previously unselected package cuda-gdb-11-8.\n",
            "Preparing to unpack .../059-cuda-gdb-11-8_11.8.86-1_amd64.deb ...\n",
            "Unpacking cuda-gdb-11-8 (11.8.86-1) ...\n",
            "Selecting previously unselected package cuda-memcheck-11-8.\n",
            "Preparing to unpack .../060-cuda-memcheck-11-8_11.8.86-1_amd64.deb ...\n",
            "Unpacking cuda-memcheck-11-8 (11.8.86-1) ...\n",
            "Selecting previously unselected package cuda-nvprof-11-8.\n",
            "Preparing to unpack .../061-cuda-nvprof-11-8_11.8.87-1_amd64.deb ...\n",
            "Unpacking cuda-nvprof-11-8 (11.8.87-1) ...\n",
            "Selecting previously unselected package cuda-nvtx-11-8.\n",
            "Preparing to unpack .../062-cuda-nvtx-11-8_11.8.86-1_amd64.deb ...\n",
            "Unpacking cuda-nvtx-11-8 (11.8.86-1) ...\n",
            "Selecting previously unselected package cuda-sanitizer-11-8.\n",
            "Preparing to unpack .../063-cuda-sanitizer-11-8_11.8.86-1_amd64.deb ...\n",
            "Unpacking cuda-sanitizer-11-8 (11.8.86-1) ...\n",
            "Selecting previously unselected package cuda-command-line-tools-11-8.\n",
            "Preparing to unpack .../064-cuda-command-line-tools-11-8_11.8.0-1_amd64.deb ...\n",
            "Unpacking cuda-command-line-tools-11-8 (11.8.0-1) ...\n",
            "Selecting previously unselected package nsight-compute-2022.3.0.\n",
            "Preparing to unpack .../065-nsight-compute-2022.3.0_2022.3.0.22-1_amd64.deb ...\n",
            "Unpacking nsight-compute-2022.3.0 (2022.3.0.22-1) ...\n",
            "Selecting previously unselected package cuda-nsight-compute-11-8.\n",
            "Preparing to unpack .../066-cuda-nsight-compute-11-8_11.8.0-1_amd64.deb ...\n",
            "Unpacking cuda-nsight-compute-11-8 (11.8.0-1) ...\n",
            "Selecting previously unselected package libtinfo5:amd64.\n",
            "Preparing to unpack .../067-libtinfo5_6.3-2ubuntu0.1_amd64.deb ...\n",
            "Unpacking libtinfo5:amd64 (6.3-2ubuntu0.1) ...\n",
            "Selecting previously unselected package libxcb-xinerama0:amd64.\n",
            "Preparing to unpack .../068-libxcb-xinerama0_1.14-3ubuntu3_amd64.deb ...\n",
            "Unpacking libxcb-xinerama0:amd64 (1.14-3ubuntu3) ...\n",
            "Selecting previously unselected package libxcb-icccm4:amd64.\n",
            "Preparing to unpack .../069-libxcb-icccm4_0.4.1-1.1build2_amd64.deb ...\n",
            "Unpacking libxcb-icccm4:amd64 (0.4.1-1.1build2) ...\n",
            "Selecting previously unselected package libxcb-util1:amd64.\n",
            "Preparing to unpack .../070-libxcb-util1_0.4.0-1build2_amd64.deb ...\n",
            "Unpacking libxcb-util1:amd64 (0.4.0-1build2) ...\n",
            "Selecting previously unselected package libxcb-image0:amd64.\n",
            "Preparing to unpack .../071-libxcb-image0_0.4.0-2_amd64.deb ...\n",
            "Unpacking libxcb-image0:amd64 (0.4.0-2) ...\n",
            "Selecting previously unselected package libxcb-keysyms1:amd64.\n",
            "Preparing to unpack .../072-libxcb-keysyms1_0.4.0-1build3_amd64.deb ...\n",
            "Unpacking libxcb-keysyms1:amd64 (0.4.0-1build3) ...\n",
            "Selecting previously unselected package libxcb-render-util0:amd64.\n",
            "Preparing to unpack .../073-libxcb-render-util0_0.3.9-1build3_amd64.deb ...\n",
            "Unpacking libxcb-render-util0:amd64 (0.3.9-1build3) ...\n",
            "Selecting previously unselected package libxcb-xkb1:amd64.\n",
            "Preparing to unpack .../074-libxcb-xkb1_1.14-3ubuntu3_amd64.deb ...\n",
            "Unpacking libxcb-xkb1:amd64 (1.14-3ubuntu3) ...\n",
            "Selecting previously unselected package libxkbcommon-x11-0:amd64.\n",
            "Preparing to unpack .../075-libxkbcommon-x11-0_1.4.0-1_amd64.deb ...\n",
            "Unpacking libxkbcommon-x11-0:amd64 (1.4.0-1) ...\n",
            "Selecting previously unselected package libxcb-xinput0:amd64.\n",
            "Preparing to unpack .../076-libxcb-xinput0_1.14-3ubuntu3_amd64.deb ...\n",
            "Unpacking libxcb-xinput0:amd64 (1.14-3ubuntu3) ...\n",
            "Selecting previously unselected package nsight-systems-2022.4.2.\n",
            "Preparing to unpack .../077-nsight-systems-2022.4.2_2022.4.2.50-32196742v0_amd64.deb ...\n",
            "Unpacking nsight-systems-2022.4.2 (2022.4.2.50-32196742v0) ...\n",
            "Selecting previously unselected package cuda-nsight-systems-11-8.\n",
            "Preparing to unpack .../078-cuda-nsight-systems-11-8_11.8.0-1_amd64.deb ...\n",
            "Unpacking cuda-nsight-systems-11-8 (11.8.0-1) ...\n",
            "Selecting previously unselected package default-jre-headless.\n",
            "Preparing to unpack .../079-default-jre-headless_2%3a1.11-72build2_amd64.deb ...\n",
            "Unpacking default-jre-headless (2:1.11-72build2) ...\n",
            "Selecting previously unselected package libxtst6:amd64.\n",
            "Preparing to unpack .../080-libxtst6_2%3a1.2.3-1build4_amd64.deb ...\n",
            "Unpacking libxtst6:amd64 (2:1.2.3-1build4) ...\n",
            "Selecting previously unselected package openjdk-11-jre:amd64.\n",
            "Preparing to unpack .../081-openjdk-11-jre_11.0.26+4-1ubuntu1~22.04_amd64.deb ...\n",
            "Unpacking openjdk-11-jre:amd64 (11.0.26+4-1ubuntu1~22.04) ...\n",
            "Selecting previously unselected package default-jre.\n",
            "Preparing to unpack .../082-default-jre_2%3a1.11-72build2_amd64.deb ...\n",
            "Unpacking default-jre (2:1.11-72build2) ...\n",
            "Selecting previously unselected package cuda-nsight-11-8.\n",
            "Preparing to unpack .../083-cuda-nsight-11-8_11.8.86-1_amd64.deb ...\n",
            "Unpacking cuda-nsight-11-8 (11.8.86-1) ...\n",
            "Selecting previously unselected package cuda-nvml-dev-11-8.\n",
            "Preparing to unpack .../084-cuda-nvml-dev-11-8_11.8.86-1_amd64.deb ...\n",
            "Unpacking cuda-nvml-dev-11-8 (11.8.86-1) ...\n",
            "Selecting previously unselected package cuda-nvvp-11-8.\n",
            "Preparing to unpack .../085-cuda-nvvp-11-8_11.8.87-1_amd64.deb ...\n",
            "Unpacking cuda-nvvp-11-8 (11.8.87-1) ...\n",
            "Selecting previously unselected package cuda-visual-tools-11-8.\n",
            "Preparing to unpack .../086-cuda-visual-tools-11-8_11.8.0-1_amd64.deb ...\n",
            "Unpacking cuda-visual-tools-11-8 (11.8.0-1) ...\n",
            "Selecting previously unselected package gds-tools-11-8.\n",
            "Preparing to unpack .../087-gds-tools-11-8_1.4.0.31-1_amd64.deb ...\n",
            "Unpacking gds-tools-11-8 (1.4.0.31-1) ...\n",
            "Selecting previously unselected package cuda-tools-11-8.\n",
            "Preparing to unpack .../088-cuda-tools-11-8_11.8.0-1_amd64.deb ...\n",
            "Unpacking cuda-tools-11-8 (11.8.0-1) ...\n",
            "Selecting previously unselected package cuda-documentation-11-8.\n",
            "Preparing to unpack .../089-cuda-documentation-11-8_11.8.86-1_amd64.deb ...\n",
            "Unpacking cuda-documentation-11-8 (11.8.86-1) ...\n",
            "Selecting previously unselected package cuda-toolkit-11-8.\n",
            "Preparing to unpack .../090-cuda-toolkit-11-8_11.8.0-1_amd64.deb ...\n",
            "Unpacking cuda-toolkit-11-8 (11.8.0-1) ...\n",
            "Selecting previously unselected package cuda-demo-suite-11-8.\n",
            "Preparing to unpack .../091-cuda-demo-suite-11-8_11.8.86-1_amd64.deb ...\n",
            "Unpacking cuda-demo-suite-11-8 (11.8.86-1) ...\n",
            "Selecting previously unselected package cuda-11-8.\n",
            "Preparing to unpack .../092-cuda-11-8_11.8.0-1_amd64.deb ...\n",
            "Unpacking cuda-11-8 (11.8.0-1) ...\n",
            "Selecting previously unselected package libfakeroot:amd64.\n",
            "Preparing to unpack .../093-libfakeroot_1.28-1ubuntu1_amd64.deb ...\n",
            "Unpacking libfakeroot:amd64 (1.28-1ubuntu1) ...\n",
            "Selecting previously unselected package fakeroot.\n",
            "Preparing to unpack .../094-fakeroot_1.28-1ubuntu1_amd64.deb ...\n",
            "Unpacking fakeroot (1.28-1ubuntu1) ...\n",
            "Selecting previously unselected package fonts-dejavu-core.\n",
            "Preparing to unpack .../095-fonts-dejavu-core_2.37-2build1_all.deb ...\n",
            "Unpacking fonts-dejavu-core (2.37-2build1) ...\n",
            "Selecting previously unselected package fonts-dejavu-extra.\n",
            "Preparing to unpack .../096-fonts-dejavu-extra_2.37-2build1_all.deb ...\n",
            "Unpacking fonts-dejavu-extra (2.37-2build1) ...\n",
            "Selecting previously unselected package libxxf86dga1:amd64.\n",
            "Preparing to unpack .../097-libxxf86dga1_2%3a1.1.5-0ubuntu3_amd64.deb ...\n",
            "Unpacking libxxf86dga1:amd64 (2:1.1.5-0ubuntu3) ...\n",
            "Selecting previously unselected package x11-utils.\n",
            "Preparing to unpack .../098-x11-utils_7.7+5build2_amd64.deb ...\n",
            "Unpacking x11-utils (7.7+5build2) ...\n",
            "Selecting previously unselected package libatk-wrapper-java.\n",
            "Preparing to unpack .../099-libatk-wrapper-java_0.38.0-5build1_all.deb ...\n",
            "Unpacking libatk-wrapper-java (0.38.0-5build1) ...\n",
            "Selecting previously unselected package libatk-wrapper-java-jni:amd64.\n",
            "Preparing to unpack .../100-libatk-wrapper-java-jni_0.38.0-5build1_amd64.deb ...\n",
            "Unpacking libatk-wrapper-java-jni:amd64 (0.38.0-5build1) ...\n",
            "Selecting previously unselected package libgtk2.0-common.\n",
            "Preparing to unpack .../101-libgtk2.0-common_2.24.33-2ubuntu2.1_all.deb ...\n",
            "Unpacking libgtk2.0-common (2.24.33-2ubuntu2.1) ...\n",
            "Selecting previously unselected package libgtk2.0-0:amd64.\n",
            "Preparing to unpack .../102-libgtk2.0-0_2.24.33-2ubuntu2.1_amd64.deb ...\n",
            "Unpacking libgtk2.0-0:amd64 (2.24.33-2ubuntu2.1) ...\n",
            "Selecting previously unselected package libgail18:amd64.\n",
            "Preparing to unpack .../103-libgail18_2.24.33-2ubuntu2.1_amd64.deb ...\n",
            "Unpacking libgail18:amd64 (2.24.33-2ubuntu2.1) ...\n",
            "Selecting previously unselected package libgail-common:amd64.\n",
            "Preparing to unpack .../104-libgail-common_2.24.33-2ubuntu2.1_amd64.deb ...\n",
            "Unpacking libgail-common:amd64 (2.24.33-2ubuntu2.1) ...\n",
            "Selecting previously unselected package libgtk2.0-bin.\n",
            "Preparing to unpack .../105-libgtk2.0-bin_2.24.33-2ubuntu2.1_amd64.deb ...\n",
            "Unpacking libgtk2.0-bin (2.24.33-2ubuntu2.1) ...\n",
            "Selecting previously unselected package libgudev-1.0-0:amd64.\n",
            "Preparing to unpack .../106-libgudev-1.0-0_1%3a237-2build1_amd64.deb ...\n",
            "Unpacking libgudev-1.0-0:amd64 (1:237-2build1) ...\n",
            "Selecting previously unselected package librsvg2-common:amd64.\n",
            "Preparing to unpack .../107-librsvg2-common_2.52.5+dfsg-3ubuntu0.2_amd64.deb ...\n",
            "Unpacking librsvg2-common:amd64 (2.52.5+dfsg-3ubuntu0.2) ...\n",
            "Selecting previously unselected package python3-xkit.\n",
            "Preparing to unpack .../108-python3-xkit_0.5.0ubuntu5_all.deb ...\n",
            "Unpacking python3-xkit (0.5.0ubuntu5) ...\n",
            "Selecting previously unselected package screen-resolution-extra.\n",
            "Preparing to unpack .../109-screen-resolution-extra_0.18.2_all.deb ...\n",
            "Unpacking screen-resolution-extra (0.18.2) ...\n",
            "Selecting previously unselected package nvidia-settings.\n",
            "Preparing to unpack .../110-nvidia-settings_570.124.06-0ubuntu1_amd64.deb ...\n",
            "Unpacking nvidia-settings (570.124.06-0ubuntu1) ...\n",
            "Selecting previously unselected package switcheroo-control.\n",
            "Preparing to unpack .../111-switcheroo-control_2.4-3build2_amd64.deb ...\n",
            "Unpacking switcheroo-control (2.4-3build2) ...\n",
            "Selecting previously unselected package systemd-hwe-hwdb.\n",
            "Preparing to unpack .../112-systemd-hwe-hwdb_249.11.5_all.deb ...\n",
            "Unpacking systemd-hwe-hwdb (249.11.5) ...\n",
            "Selecting previously unselected package xcvt.\n",
            "Preparing to unpack .../113-xcvt_0.1.1-3_amd64.deb ...\n",
            "Unpacking xcvt (0.1.1-3) ...\n",
            "Setting up nvidia-firmware-570-570.124.06 (570.124.06-0ubuntu1) ...\n",
            "Setting up cpp-12 (12.3.0-1ubuntu1~22.04) ...\n",
            "Setting up cuda-nvml-dev-11-8 (11.8.86-1) ...\n",
            "Setting up default-jre-headless (2:1.11-72build2) ...\n",
            "Setting up cuda-toolkit-11-config-common (11.8.89-1) ...\n",
            "Setting up libxcb-xinput0:amd64 (1.14-3ubuntu3) ...\n",
            "Setting up cuda-cccl-11-8 (11.8.89-1) ...\n",
            "Setting up cuda-cuobjdump-11-8 (11.8.86-1) ...\n",
            "Setting up cuda-nvrtc-11-8 (11.8.89-1) ...\n",
            "Setting up cuda-sanitizer-11-8 (11.8.86-1) ...\n",
            "Setting up libnvidia-extra-570:amd64 (570.124.06-0ubuntu1) ...\n",
            "Setting up libxtst6:amd64 (2:1.2.3-1build4) ...\n",
            "Setting up cuda-cupti-11-8 (11.8.87-1) ...\n",
            "Setting up libxcb-keysyms1:amd64 (0.4.0-1build3) ...\n",
            "Setting up nvidia-kernel-source-570 (570.124.06-0ubuntu1) ...\n",
            "Setting up libxxf86dga1:amd64 (2:1.1.5-0ubuntu3) ...\n",
            "Setting up libxcb-render-util0:amd64 (0.3.9-1build3) ...\n",
            "Setting up openjdk-11-jre:amd64 (11.0.26+4-1ubuntu1~22.04) ...\n",
            "Setting up cuda-nvdisasm-11-8 (11.8.86-1) ...\n",
            "Setting up libxcb-icccm4:amd64 (0.4.1-1.1build2) ...\n",
            "Setting up default-jre (2:1.11-72build2) ...\n",
            "Setting up cuda-cuxxfilt-11-8 (11.8.86-1) ...\n",
            "Setting up libfakeroot:amd64 (1.28-1ubuntu1) ...\n",
            "Setting up libxcb-util1:amd64 (0.4.0-1build2) ...\n",
            "Setting up libjansson4:amd64 (2.13.1-1.1build3) ...\n",
            "Setting up libxcb-xkb1:amd64 (1.14-3ubuntu3) ...\n",
            "Setting up nvidia-modprobe (570.124.06-0ubuntu1) ...\n",
            "Setting up libxcb-image0:amd64 (0.4.0-2) ...\n",
            "Setting up fakeroot (1.28-1ubuntu1) ...\n",
            "update-alternatives: using /usr/bin/fakeroot-sysv to provide /usr/bin/fakeroot (fakeroot) in auto mode\n",
            "Setting up libnvidia-common-570 (570.124.06-0ubuntu1) ...\n",
            "Setting up libxcb-xinerama0:amd64 (1.14-3ubuntu3) ...\n",
            "Setting up cuda-nvvp-11-8 (11.8.87-1) ...\n",
            "Setting up cuda-nvtx-11-8 (11.8.86-1) ...\n",
            "Setting up libnvidia-cfg1-570:amd64 (570.124.06-0ubuntu1) ...\n",
            "Setting up cuda-gdb-11-8 (11.8.86-1) ...\n",
            "Setting up cuda-toolkit-11-8-config-common (11.8.89-1) ...\n",
            "Setting alternatives\n",
            "update-alternatives: using /usr/local/cuda-11.8 to provide /usr/local/cuda-11 (cuda-11) in auto mode\n",
            "Setting up libxkbcommon-x11-0:amd64 (1.4.0-1) ...\n",
            "Setting up udev (249.11-0ubuntu3.15) ...\n",
            "invoke-rc.d: could not determine current runlevel\n",
            "invoke-rc.d: policy-rc.d denied execution of start.\n",
            "Setting up libcusolver-11-8 (11.4.1.48-1) ...\n",
            "Setting up cuda-nvrtc-dev-11-8 (11.8.89-1) ...\n",
            "Setting up fonts-dejavu-core (2.37-2build1) ...\n",
            "Setting up librsvg2-common:amd64 (2.52.5+dfsg-3ubuntu0.2) ...\n",
            "Setting up cuda-driver-dev-11-8 (11.8.89-1) ...\n",
            "Setting up systemd-hwe-hwdb (249.11.5) ...\n",
            "Setting up cuda-memcheck-11-8 (11.8.86-1) ...\n",
            "Setting up fonts-dejavu-extra (2.37-2build1) ...\n",
            "Setting up gds-tools-11-8 (1.4.0.31-1) ...\n",
            "Setting up cuda-nsight-11-8 (11.8.86-1) ...\n",
            "Setting up cuda-profiler-api-11-8 (11.8.86-1) ...\n",
            "Setting up libasan8:amd64 (12.3.0-1ubuntu1~22.04) ...\n",
            "Setting up libxcvt0:amd64 (0.1.1-3) ...\n",
            "Setting up x11-utils (7.7+5build2) ...\n",
            "Setting up libgtk2.0-common (2.24.33-2ubuntu2.1) ...\n",
            "Setting up cuda-documentation-11-8 (11.8.86-1) ...\n",
            "Setting up libatk-wrapper-java (0.38.0-5build1) ...\n",
            "Setting up libtsan2:amd64 (12.3.0-1ubuntu1~22.04) ...\n",
            "Setting up python3-xkit (0.5.0ubuntu5) ...\n",
            "Setting up libtinfo5:amd64 (6.3-2ubuntu0.1) ...\n",
            "Setting up cuda-nvprune-11-8 (11.8.86-1) ...\n",
            "Setting up cuda-cudart-11-8 (11.8.89-1) ...\n",
            "Setting up libnvjpeg-11-8 (11.9.0.86-1) ...\n",
            "Setting up liblocale-gettext-perl (1.07-4build3) ...\n",
            "Setting up libnvidia-fbc1-570:amd64 (570.124.06-0ubuntu1) ...\n",
            "Setting up libgudev-1.0-0:amd64 (1:237-2build1) ...\n",
            "Setting up dctrl-tools (2.24-3build2) ...\n",
            "Setting up cuda-nvprof-11-8 (11.8.87-1) ...\n",
            "Setting up nsight-compute-2022.3.0 (2022.3.0.22-1) ...\n",
            "Setting up nvidia-kernel-common-570 (570.124.06-0ubuntu1) ...\n",
            "Setting up nsight-systems-2022.4.2 (2022.4.2.50-32196742v0) ...\n",
            "update-alternatives: using /opt/nvidia/nsight-systems/2022.4.2/target-linux-x64/nsys to provide /usr/local/bin/nsys (nsys) in auto mode\n",
            "update-alternatives: using /opt/nvidia/nsight-systems/2022.4.2/host-linux-x64/nsys-ui to provide /usr/local/bin/nsys-ui (nsys-ui) in auto mode\n",
            "Setting up libcusparse-11-8 (11.7.5.86-1) ...\n",
            "Setting up libnvidia-gl-570:amd64 (570.124.06-0ubuntu1) ...\n",
            "Setting up libcufft-11-8 (10.9.0.58-1) ...\n",
            "Setting up cuda-cupti-dev-11-8 (11.8.87-1) ...\n",
            "Setting up libcufft-dev-11-8 (10.9.0.58-1) ...\n",
            "Setting up cuda-cudart-dev-11-8 (11.8.89-1) ...\n",
            "Setting up libnpp-11-8 (11.8.0.86-1) ...\n",
            "Setting up libcusolver-dev-11-8 (11.4.1.48-1) ...\n",
            "Setting up libgtk2.0-0:amd64 (2.24.33-2ubuntu2.1) ...\n",
            "Setting up libatk-wrapper-java-jni:amd64 (0.38.0-5build1) ...\n",
            "Setting up xcvt (0.1.1-3) ...\n",
            "Setting up cuda-nsight-systems-11-8 (11.8.0-1) ...\n",
            "Setting up cuda-command-line-tools-11-8 (11.8.0-1) ...\n",
            "Setting up libcusparse-dev-11-8 (11.7.5.86-1) ...\n",
            "Setting up libcurand-11-8 (10.3.0.86-1) ...\n",
            "Setting up libcufile-11-8 (1.4.0.31-1) ...\n",
            "Setting alternatives\n",
            "Setting up libcublas-11-8 (11.11.3.6-1) ...\n",
            "Setting up libnpp-dev-11-8 (11.8.0.86-1) ...\n",
            "Setting up libgcc-12-dev:amd64 (12.3.0-1ubuntu1~22.04) ...\n",
            "Setting up cuda-libraries-11-8 (11.8.0-1) ...\n",
            "Setting up cuda-nsight-compute-11-8 (11.8.0-1) ...\n",
            "Setting up screen-resolution-extra (0.18.2) ...\n",
            "Setting up libgail18:amd64 (2.24.33-2ubuntu2.1) ...\n",
            "Setting up libgtk2.0-bin (2.24.33-2ubuntu2.1) ...\n",
            "Setting up switcheroo-control (2.4-3build2) ...\n",
            "Created symlink /etc/systemd/system/graphical.target.wants/switcheroo-control.service → /lib/systemd/system/switcheroo-control.service.\n",
            "Setting up nvidia-settings (570.124.06-0ubuntu1) ...\n",
            "Setting up libnvjpeg-dev-11-8 (11.9.0.86-1) ...\n",
            "Setting up keyboard-configuration (1.205ubuntu3) ...\n",
            "Your console font configuration will be updated the next time your system\n",
            "boots. If you want to update it now, run 'setupcon' from a virtual console.\n",
            "Setting up cuda-nvcc-11-8 (11.8.89-1) ...\n",
            "Setting up libgail-common:amd64 (2.24.33-2ubuntu2.1) ...\n",
            "Setting up xserver-xorg-core (2:21.1.4-2ubuntu1.7~22.04.14) ...\n",
            "Setting up libcublas-dev-11-8 (11.11.3.6-1) ...\n",
            "Setting up libcurand-dev-11-8 (10.3.0.86-1) ...\n",
            "Setting up libcufile-dev-11-8 (1.4.0.31-1) ...\n",
            "Setting up gcc-12 (12.3.0-1ubuntu1~22.04) ...\n",
            "Setting up cuda-compiler-11-8 (11.8.0-1) ...\n",
            "Setting up xserver-xorg-video-nvidia-570 (570.124.06-0ubuntu1) ...\n",
            "Setting up cuda-libraries-dev-11-8 (11.8.0-1) ...\n",
            "Setting up dkms (2.8.7-2ubuntu2.2) ...\n",
            "Setting up cuda-visual-tools-11-8 (11.8.0-1) ...\n",
            "Setting up nvidia-dkms-570 (570.124.06-0ubuntu1) ...\n",
            "Loading new nvidia-570.124.06 DKMS files...\n",
            "It is likely that 6.1.123+ belongs to a chroot's host\n",
            "Building for 5.15.0-138-generic\n",
            "Building for architecture x86_64\n",
            "Building initial module for 5.15.0-138-generic\n",
            "Done.\n",
            "\n",
            "nvidia.ko:\n",
            "Running module version sanity check.\n",
            " - Original module\n",
            "   - No original module exists within this kernel\n",
            " - Installation\n",
            "   - Installing to /lib/modules/5.15.0-138-generic/updates/dkms/\n",
            "\n",
            "nvidia-modeset.ko:\n",
            "Running module version sanity check.\n",
            " - Original module\n",
            "   - No original module exists within this kernel\n",
            " - Installation\n",
            "   - Installing to /lib/modules/5.15.0-138-generic/updates/dkms/\n",
            "\n",
            "nvidia-drm.ko:\n",
            "Running module version sanity check.\n",
            " - Original module\n",
            "   - No original module exists within this kernel\n",
            " - Installation\n",
            "   - Installing to /lib/modules/5.15.0-138-generic/updates/dkms/\n",
            "\n",
            "nvidia-uvm.ko:\n",
            "Running module version sanity check.\n",
            " - Original module\n",
            "   - No original module exists within this kernel\n",
            " - Installation\n",
            "   - Installing to /lib/modules/5.15.0-138-generic/updates/dkms/\n",
            "\n",
            "nvidia-peermem.ko:\n",
            "Running module version sanity check.\n",
            " - Original module\n",
            "   - No original module exists within this kernel\n",
            " - Installation\n",
            "   - Installing to /lib/modules/5.15.0-138-generic/updates/dkms/\n",
            "\n",
            "depmod...\n",
            "Setting up cuda-tools-11-8 (11.8.0-1) ...\n",
            "Setting up cuda-toolkit-11-8 (11.8.0-1) ...\n",
            "Setting alternatives\n",
            "Setting up libnvidia-decode-570:amd64 (570.124.06-0ubuntu1) ...\n",
            "Setting up libnvidia-compute-570:amd64 (570.124.06-0ubuntu1) ...\n",
            "Setting up libnvidia-encode-570:amd64 (570.124.06-0ubuntu1) ...\n",
            "Setting up nvidia-utils-570 (570.124.06-0ubuntu1) ...\n",
            "Setting up nvidia-compute-utils-570 (570.124.06-0ubuntu1) ...\n",
            "Setting up nvidia-driver-570 (570.124.06-0ubuntu1) ...\n",
            "Setting up cuda-drivers-570 (570.124.06-0ubuntu1) ...\n",
            "Setting up cuda-drivers (570.124.06-0ubuntu1) ...\n",
            "Setting up cuda-runtime-11-8 (11.8.0-1) ...\n",
            "Setting up cuda-demo-suite-11-8 (11.8.86-1) ...\n",
            "Setting up cuda-11-8 (11.8.0-1) ...\n",
            "Processing triggers for fontconfig (2.13.1-4.2ubuntu5) ...\n",
            "Processing triggers for hicolor-icon-theme (0.17-2) ...\n",
            "Processing triggers for libc-bin (2.35-0ubuntu3.8) ...\n",
            "/sbin/ldconfig.real: /usr/local/lib/libtbbbind_2_5.so.3 is not a symbolic link\n",
            "\n",
            "/sbin/ldconfig.real: /usr/local/lib/libtcm_debug.so.1 is not a symbolic link\n",
            "\n",
            "/sbin/ldconfig.real: /usr/local/lib/libur_adapter_opencl.so.0 is not a symbolic link\n",
            "\n",
            "/sbin/ldconfig.real: /usr/local/lib/libtbbbind.so.3 is not a symbolic link\n",
            "\n",
            "/sbin/ldconfig.real: /usr/local/lib/libur_loader.so.0 is not a symbolic link\n",
            "\n",
            "/sbin/ldconfig.real: /usr/local/lib/libtbbbind_2_0.so.3 is not a symbolic link\n",
            "\n",
            "/sbin/ldconfig.real: /usr/local/lib/libtcm.so.1 is not a symbolic link\n",
            "\n",
            "/sbin/ldconfig.real: /usr/local/lib/libumf.so.0 is not a symbolic link\n",
            "\n",
            "/sbin/ldconfig.real: /usr/local/lib/libur_adapter_level_zero.so.0 is not a symbolic link\n",
            "\n",
            "/sbin/ldconfig.real: /usr/local/lib/libhwloc.so.15 is not a symbolic link\n",
            "\n",
            "Processing triggers for man-db (2.10.2-1) ...\n",
            "Processing triggers for dbus (1.12.20-2ubuntu4.1) ...\n",
            "Processing triggers for libgdk-pixbuf-2.0-0:amd64 (2.42.8+dfsg-1ubuntu0.3) ...\n",
            "Processing triggers for mailcap (3.70+nmu1ubuntu1) ...\n",
            "Reading package lists... Done\n",
            "Building dependency tree... Done\n",
            "Reading state information... Done\n",
            "The following NEW packages will be installed:\n",
            "  libcudnn8\n",
            "0 upgraded, 1 newly installed, 0 to remove and 33 not upgraded.\n",
            "Need to get 446 MB of archives.\n",
            "After this operation, 1,140 MB of additional disk space will be used.\n",
            "Get:1 https://developer.download.nvidia.com/compute/cuda/repos/ubuntu2204/x86_64  libcudnn8 8.6.0.163-1+cuda11.8 [446 MB]\n",
            "Fetched 446 MB in 6s (77.4 MB/s)\n",
            "Selecting previously unselected package libcudnn8.\n",
            "(Reading database ... 133170 files and directories currently installed.)\n",
            "Preparing to unpack .../libcudnn8_8.6.0.163-1+cuda11.8_amd64.deb ...\n",
            "Unpacking libcudnn8 (8.6.0.163-1+cuda11.8) ...\n",
            "Setting up libcudnn8 (8.6.0.163-1+cuda11.8) ...\n",
            "Collecting numpy==1.23\n",
            "  Downloading numpy-1.23.0-cp310-cp310-manylinux_2_17_x86_64.manylinux2014_x86_64.whl (17.0 MB)\n",
            "\u001b[2K     \u001b[90m━━━━━━━━━━━━━━━━━━━━━━━━━━━━━━━━━━━━━━━━\u001b[0m \u001b[32m17.0/17.0 MB\u001b[0m \u001b[31m10.0 MB/s\u001b[0m eta \u001b[36m0:00:00\u001b[0m\n",
            "\u001b[?25hInstalling collected packages: numpy\n",
            "  Attempting uninstall: numpy\n",
            "    Found existing installation: numpy 1.22.4\n",
            "    Uninstalling numpy-1.22.4:\n",
            "      Successfully uninstalled numpy-1.22.4\n",
            "Successfully installed numpy-1.23.0\n"
          ]
        }
      ]
    },
    {
      "cell_type": "code",
      "source": [
        "# restart runtime so GPU changes take effect\n",
        "import os\n",
        "os.kill(os.getpid(), 9)"
      ],
      "metadata": {
        "id": "y3OzvdGE9orY"
      },
      "execution_count": null,
      "outputs": []
    },
    {
      "cell_type": "markdown",
      "metadata": {
        "id": "qjfoeOZvpV8o"
      },
      "source": [
        "Import SLEAP to make sure it installed correctly and print out some information about the system:"
      ]
    },
    {
      "cell_type": "code",
      "execution_count": 1,
      "metadata": {
        "colab": {
          "base_uri": "https://localhost:8080/"
        },
        "id": "jftAOyvvuQeh",
        "outputId": "9c9aa3b0-83e2-437d-f079-3477bfc3fd9e"
      },
      "outputs": [
        {
          "output_type": "stream",
          "name": "stdout",
          "text": [
            "INFO:numexpr.utils:NumExpr defaulting to 8 threads.\n",
            "INFO:matplotlib.font_manager:generated new fontManager\n",
            "2025-04-21 01:38:10.975795: I tensorflow/stream_executor/cuda/cuda_gpu_executor.cc:936] successful NUMA node read from SysFS had negative value (-1), but there must be at least one NUMA node, so returning NUMA node zero\n",
            "2025-04-21 01:38:11.488107: I tensorflow/stream_executor/cuda/cuda_gpu_executor.cc:936] successful NUMA node read from SysFS had negative value (-1), but there must be at least one NUMA node, so returning NUMA node zero\n",
            "2025-04-21 01:38:11.488435: I tensorflow/stream_executor/cuda/cuda_gpu_executor.cc:936] successful NUMA node read from SysFS had negative value (-1), but there must be at least one NUMA node, so returning NUMA node zero\n",
            "SLEAP: 1.4.1\n",
            "TensorFlow: 2.8.4\n",
            "Numpy: 1.23.0\n",
            "Python: 3.10.16\n",
            "OS: Linux-6.1.123+-x86_64-with-glibc2.35\n",
            "GPUs: 1/1 available\n",
            "  Device: /physical_device:GPU:0\n",
            "         Available: True\n",
            "       Initialized: False\n",
            "     Memory growth: True\n"
          ]
        }
      ],
      "source": [
        "# This initializes the GPU and prevents TensorFlow from filling the entire GPU memory\n",
        "!python -c \"import sleap; sleap.disable_preallocation(); sleap.versions(); sleap.system_summary()\""
      ]
    },
    {
      "cell_type": "markdown",
      "metadata": {
        "id": "wSdTJYOdu4L6"
      },
      "source": [
        "## 2. Setup training data\n",
        "\n",
        "Here we will download an existing training dataset package. This is an `.slp` file that contains both the labeled poses, as well as the image data for labeled frames.\n",
        "\n",
        "If running on Google Colab, you'll want to replace this with mounting your Google Drive folder containing your own data, or if running locally, simply change the path to your labels below in `TRAINING_SLP_FILE`."
      ]
    },
    {
      "cell_type": "code",
      "execution_count": 2,
      "metadata": {
        "colab": {
          "base_uri": "https://localhost:8080/"
        },
        "id": "sDIF3RKdM86u",
        "outputId": "e425e52a-10de-4d55-806a-134978652a13"
      },
      "outputs": [
        {
          "output_type": "stream",
          "name": "stdout",
          "text": [
            "curl: /usr/local/lib/libcurl.so.4: no version information available (required by curl)\n",
            "  % Total    % Received % Xferd  Average Speed   Time    Time     Time  Current\n",
            "                                 Dload  Upload   Total   Spent    Left  Speed\n",
            "100  619M  100  619M    0     0  17.4M      0  0:00:35  0:00:35 --:--:-- 19.3M\n",
            "total 689M\n",
            "drwxr-xr-x 1 root root 4.0K Apr 21 01:42 .\n",
            "drwxr-xr-x 1 root root 4.0K Apr 21 01:13 ..\n",
            "drwxr-xr-x 4 root root 4.0K Apr 17 13:36 .config\n",
            "-rw-r--r-- 1 root root 620M Apr 21 01:42 labels.pkg.slp\n",
            "-rwxr-xr-x 1 root root  70M Feb 13 19:43 mini.sh\n",
            "drwxr-xr-x 1 root root 4.0K Apr 17 13:36 sample_data\n"
          ]
        }
      ],
      "source": [
        "# !curl -L --output labels.pkg.slp https://www.dropbox.com/s/b990gxjt3d3j3jh/210205.sleap_wt_gold.13pt.pkg.slp?dl=1\n",
        "!curl -L --output labels.pkg.slp https://storage.googleapis.com/sleap-data/datasets/wt_gold.13pt/tracking_split2/train.pkg.slp\n",
        "!ls -lah"
      ]
    },
    {
      "cell_type": "code",
      "execution_count": 3,
      "metadata": {
        "id": "vbpBugZRp_S7"
      },
      "outputs": [],
      "source": [
        "TRAINING_SLP_FILE = \"labels.pkg.slp\""
      ]
    },
    {
      "cell_type": "code",
      "source": [
        "from google.colab import drive\n",
        "drive.mount('/content/drive')"
      ],
      "metadata": {
        "id": "Duh14ZmKBaC7",
        "outputId": "8c5a4728-76db-4507-f738-7814be4c00bc",
        "colab": {
          "base_uri": "https://localhost:8080/"
        }
      },
      "execution_count": 5,
      "outputs": [
        {
          "output_type": "stream",
          "name": "stdout",
          "text": [
            "Mounted at /content/drive\n"
          ]
        }
      ]
    },
    {
      "cell_type": "code",
      "source": [
        "import os\n",
        "\n",
        "# Change to your current Google Drive working directory\n",
        "os.chdir('/content/drive/MyDrive/sleap/random')\n",
        "!ls"
      ],
      "metadata": {
        "id": "5G7xaHoWBd-U"
      },
      "execution_count": null,
      "outputs": []
    },
    {
      "cell_type": "markdown",
      "metadata": {
        "id": "-vYsPusvviiu"
      },
      "source": [
        "## 3. Setup training job\n",
        "\n",
        "A SLEAP `TrainingJobConfig` is a structure that contains all of the hyperparameters needed to train a SLEAP model. This is typically saved out to `initial_config.json` and `training_config.json` in the model folder so that training runs can be reproduced if needed, as well as to store metadata necessary for inference.\n",
        "\n",
        "Normally, these are generated interactively by the GUI, or manually by editing an existing JSON file in a text editor. Here, we will define a configuration interactively entirely in Python."
      ]
    },
    {
      "cell_type": "code",
      "execution_count": null,
      "metadata": {
        "id": "Cqt1Bhp-OIsi"
      },
      "outputs": [],
      "source": [
        "from sleap.nn.config import *\n",
        "\n",
        "# Initialize the default training job configuration.\n",
        "cfg = TrainingJobConfig()\n",
        "\n",
        "# Update path to training data we just downloaded.\n",
        "cfg.data.labels.training_labels = TRAINING_SLP_FILE\n",
        "cfg.data.labels.validation_fraction = 0.1\n",
        "\n",
        "# Preprocesssing and training parameters.\n",
        "cfg.data.instance_cropping.center_on_part = \"thorax\"\n",
        "cfg.optimization.augmentation_config.rotate = True\n",
        "cfg.optimization.epochs = 10  # This is the maximum number of training rounds.\n",
        "\n",
        "# These configures the actual neural network and the model type:\n",
        "cfg.model.backbone.unet = UNetConfig(\n",
        "    filters=16,\n",
        "    output_stride=4\n",
        ")\n",
        "cfg.model.heads.centered_instance = CenteredInstanceConfmapsHeadConfig(\n",
        "    anchor_part=\"thorax\",\n",
        "    sigma=1.5,\n",
        "    output_stride=4\n",
        ")\n",
        "\n",
        "# Setup how we want to save the trained model.\n",
        "cfg.outputs.run_name = \"baseline_model.topdown\""
      ]
    },
    {
      "cell_type": "markdown",
      "metadata": {
        "id": "9qSU7BcKv4Gw"
      },
      "source": [
        "Existing configs can also be loaded from a `.json` file with:\n",
        "\n",
        "```python\n",
        "cfg = sleap.load_config(\"training_config.json\")\n",
        "```"
      ]
    },
    {
      "cell_type": "markdown",
      "metadata": {
        "id": "Noq-XINMv8nz"
      },
      "source": [
        "## 4. Training\n",
        "Next we will create a SLEAP `Trainer` from the configuration we just specified. This handles all the nitty gritty mechanics necessary to setup training in the backend."
      ]
    },
    {
      "cell_type": "code",
      "execution_count": null,
      "metadata": {
        "id": "enbK9O5Dv8Pd",
        "cellView": "code"
      },
      "outputs": [],
      "source": [
        "trainer = sleap.nn.training.Trainer.from_config(cfg)"
      ]
    },
    {
      "cell_type": "markdown",
      "metadata": {
        "id": "JwMTtOrmwUM9"
      },
      "source": [
        "Great, now we're ready to do the first round of training. This is when the model will actually start to improve over time:"
      ]
    },
    {
      "cell_type": "code",
      "execution_count": null,
      "metadata": {
        "colab": {
          "base_uri": "https://localhost:8080/",
          "height": 1000,
          "referenced_widgets": [
            "6b2a262ed72e4c659969f996ac889aa7",
            "b30cb8d1b5bc4e12b554794098bd2c46",
            "973660ab9cb2472786b368a18db11c63",
            "cdb03dbf1b804f0b8b9bfd738c5eb2ad",
            "9864dea73605449cb08b26c938812cfb",
            "243984a359bc41e9975653fa6206ac27"
          ]
        },
        "id": "L8jNydTEwNA1",
        "outputId": "51828b8c-6d8b-4743-e9d2-9153f5b571c3"
      },
      "outputs": [
        {
          "name": "stdout",
          "output_type": "stream",
          "text": [
            "INFO:sleap.nn.training:Setting up for training...\n",
            "INFO:sleap.nn.training:Setting up pipeline builders...\n",
            "INFO:sleap.nn.training:Setting up model...\n",
            "INFO:sleap.nn.training:Building test pipeline...\n"
          ]
        },
        {
          "name": "stderr",
          "output_type": "stream",
          "text": [
            "2023-09-01 14:24:11.775633: I tensorflow/core/platform/cpu_feature_guard.cc:151] This TensorFlow binary is optimized with oneAPI Deep Neural Network Library (oneDNN) to use the following CPU instructions in performance-critical operations:  AVX2 AVX512F FMA\n",
            "To enable them in other operations, rebuild TensorFlow with the appropriate compiler flags.\n",
            "2023-09-01 14:24:11.776555: I tensorflow/stream_executor/cuda/cuda_gpu_executor.cc:939] successful NUMA node read from SysFS had negative value (-1), but there must be at least one NUMA node, so returning NUMA node zero\n",
            "2023-09-01 14:24:11.777493: I tensorflow/stream_executor/cuda/cuda_gpu_executor.cc:939] successful NUMA node read from SysFS had negative value (-1), but there must be at least one NUMA node, so returning NUMA node zero\n",
            "2023-09-01 14:24:11.778196: I tensorflow/stream_executor/cuda/cuda_gpu_executor.cc:939] successful NUMA node read from SysFS had negative value (-1), but there must be at least one NUMA node, so returning NUMA node zero\n",
            "2023-09-01 14:24:12.055738: I tensorflow/stream_executor/cuda/cuda_gpu_executor.cc:939] successful NUMA node read from SysFS had negative value (-1), but there must be at least one NUMA node, so returning NUMA node zero\n",
            "2023-09-01 14:24:12.056597: I tensorflow/stream_executor/cuda/cuda_gpu_executor.cc:939] successful NUMA node read from SysFS had negative value (-1), but there must be at least one NUMA node, so returning NUMA node zero\n",
            "2023-09-01 14:24:12.057389: I tensorflow/stream_executor/cuda/cuda_gpu_executor.cc:939] successful NUMA node read from SysFS had negative value (-1), but there must be at least one NUMA node, so returning NUMA node zero\n",
            "2023-09-01 14:24:12.058046: I tensorflow/core/common_runtime/gpu/gpu_device.cc:1525] Created device /job:localhost/replica:0/task:0/device:GPU:0 with 21261 MB memory:  -> device: 0, name: NVIDIA RTX A5000, pci bus id: 0000:01:00.0, compute capability: 8.6\n"
          ]
        },
        {
          "name": "stdout",
          "output_type": "stream",
          "text": [
            "INFO:sleap.nn.training:Loaded test example. [1.799s]\n",
            "INFO:sleap.nn.training:  Input shape: (160, 160, 1)\n",
            "INFO:sleap.nn.training:Created Keras model.\n",
            "INFO:sleap.nn.training:  Backbone: UNet(stacks=1, filters=16, filters_rate=2, kernel_size=3, stem_kernel_size=7, convs_per_block=2, stem_blocks=0, down_blocks=4, middle_block=True, up_blocks=2, up_interpolate=False, block_contraction=False)\n",
            "INFO:sleap.nn.training:  Max stride: 16\n",
            "INFO:sleap.nn.training:  Parameters: 2,101,501\n",
            "INFO:sleap.nn.training:  Heads: \n",
            "INFO:sleap.nn.training:    [0] = CenteredInstanceConfmapsHead(part_names=['head', 'thorax', 'abdomen', 'wingL', 'wingR', 'forelegL4', 'forelegR4', 'midlegL4', 'midlegR4', 'hindlegL4', 'hindlegR4', 'eyeL', 'eyeR'], anchor_part='thorax', sigma=1.5, output_stride=4, loss_weight=1.0)\n",
            "INFO:sleap.nn.training:  Outputs: \n",
            "INFO:sleap.nn.training:    [0] = KerasTensor(type_spec=TensorSpec(shape=(None, 40, 40, 13), dtype=tf.float32, name=None), name='CenteredInstanceConfmapsHead/BiasAdd:0', description=\"created by layer 'CenteredInstanceConfmapsHead'\")\n",
            "INFO:sleap.nn.training:Training from scratch\n",
            "INFO:sleap.nn.training:Setting up data pipelines...\n",
            "INFO:sleap.nn.training:Training set: n = 1440\n",
            "INFO:sleap.nn.training:Validation set: n = 160\n",
            "INFO:sleap.nn.training:Setting up optimization...\n",
            "INFO:sleap.nn.training:  Learning rate schedule: LearningRateScheduleConfig(reduce_on_plateau=True, reduction_factor=0.5, plateau_min_delta=1e-06, plateau_patience=5, plateau_cooldown=3, min_learning_rate=1e-08)\n",
            "INFO:sleap.nn.training:  Early stopping: EarlyStoppingConfig(stop_training_on_plateau=True, plateau_min_delta=1e-06, plateau_patience=10)\n",
            "INFO:sleap.nn.training:Setting up outputs...\n",
            "INFO:sleap.nn.training:Created run path: models/baseline_model.topdown\n",
            "INFO:sleap.nn.training:Setting up visualization...\n",
            "INFO:sleap.nn.training:Finished trainer set up. [3.3s]\n",
            "INFO:sleap.nn.training:Creating tf.data.Datasets for training data generation...\n",
            "INFO:sleap.nn.training:Finished creating training datasets. [16.2s]\n",
            "INFO:sleap.nn.training:Starting training loop...\n",
            "Epoch 1/10\n"
          ]
        },
        {
          "name": "stderr",
          "output_type": "stream",
          "text": [
            "2023-09-01 14:24:32.586040: I tensorflow/stream_executor/cuda/cuda_dnn.cc:366] Loaded cuDNN version 8201\n",
            "2023-09-01 14:24:42.104556: I tensorflow/stream_executor/cuda/cuda_blas.cc:1774] TensorFloat-32 will be used for the matrix multiplication. This will only be logged once.\n"
          ]
        },
        {
          "name": "stdout",
          "output_type": "stream",
          "text": [
            "360/360 - 12s - loss: 0.0037 - head: 0.0030 - thorax: 0.0030 - abdomen: 0.0036 - wingL: 0.0040 - wingR: 0.0040 - forelegL4: 0.0037 - forelegR4: 0.0038 - midlegL4: 0.0041 - midlegR4: 0.0041 - hindlegL4: 0.0039 - hindlegR4: 0.0040 - eyeL: 0.0035 - eyeR: 0.0035 - val_loss: 0.0033 - val_head: 0.0020 - val_thorax: 0.0029 - val_abdomen: 0.0030 - val_wingL: 0.0033 - val_wingR: 0.0034 - val_forelegL4: 0.0037 - val_forelegR4: 0.0036 - val_midlegL4: 0.0039 - val_midlegR4: 0.0039 - val_hindlegL4: 0.0037 - val_hindlegR4: 0.0038 - val_eyeL: 0.0029 - val_eyeR: 0.0027 - lr: 1.0000e-04 - 12s/epoch - 32ms/step\n",
            "Epoch 2/10\n",
            "360/360 - 7s - loss: 0.0028 - head: 0.0013 - thorax: 0.0018 - abdomen: 0.0026 - wingL: 0.0027 - wingR: 0.0028 - forelegL4: 0.0032 - forelegR4: 0.0033 - midlegL4: 0.0038 - midlegR4: 0.0038 - hindlegL4: 0.0037 - hindlegR4: 0.0038 - eyeL: 0.0015 - eyeR: 0.0015 - val_loss: 0.0025 - val_head: 9.7323e-04 - val_thorax: 0.0011 - val_abdomen: 0.0026 - val_wingL: 0.0024 - val_wingR: 0.0026 - val_forelegL4: 0.0030 - val_forelegR4: 0.0030 - val_midlegL4: 0.0036 - val_midlegR4: 0.0037 - val_hindlegL4: 0.0038 - val_hindlegR4: 0.0037 - val_eyeL: 0.0012 - val_eyeR: 0.0012 - lr: 1.0000e-04 - 7s/epoch - 21ms/step\n",
            "Epoch 3/10\n",
            "360/360 - 7s - loss: 0.0022 - head: 8.0630e-04 - thorax: 6.7199e-04 - abdomen: 0.0022 - wingL: 0.0020 - wingR: 0.0021 - forelegL4: 0.0027 - forelegR4: 0.0027 - midlegL4: 0.0033 - midlegR4: 0.0035 - hindlegL4: 0.0034 - hindlegR4: 0.0035 - eyeL: 8.7345e-04 - eyeR: 8.4145e-04 - val_loss: 0.0020 - val_head: 8.6439e-04 - val_thorax: 5.9914e-04 - val_abdomen: 0.0020 - val_wingL: 0.0019 - val_wingR: 0.0020 - val_forelegL4: 0.0025 - val_forelegR4: 0.0024 - val_midlegL4: 0.0030 - val_midlegR4: 0.0031 - val_hindlegL4: 0.0030 - val_hindlegR4: 0.0031 - val_eyeL: 8.9466e-04 - val_eyeR: 9.5174e-04 - lr: 1.0000e-04 - 7s/epoch - 20ms/step\n",
            "Epoch 4/10\n",
            "360/360 - 7s - loss: 0.0018 - head: 6.7854e-04 - thorax: 4.6945e-04 - abdomen: 0.0020 - wingL: 0.0017 - wingR: 0.0018 - forelegL4: 0.0023 - forelegR4: 0.0023 - midlegL4: 0.0026 - midlegR4: 0.0027 - hindlegL4: 0.0028 - hindlegR4: 0.0029 - eyeL: 7.4546e-04 - eyeR: 6.9585e-04 - val_loss: 0.0018 - val_head: 7.7640e-04 - val_thorax: 5.3180e-04 - val_abdomen: 0.0020 - val_wingL: 0.0018 - val_wingR: 0.0018 - val_forelegL4: 0.0022 - val_forelegR4: 0.0022 - val_midlegL4: 0.0024 - val_midlegR4: 0.0025 - val_hindlegL4: 0.0026 - val_hindlegR4: 0.0026 - val_eyeL: 9.2650e-04 - val_eyeR: 9.0064e-04 - lr: 1.0000e-04 - 7s/epoch - 20ms/step\n",
            "Epoch 5/10\n",
            "360/360 - 7s - loss: 0.0015 - head: 5.8714e-04 - thorax: 4.0531e-04 - abdomen: 0.0017 - wingL: 0.0015 - wingR: 0.0015 - forelegL4: 0.0020 - forelegR4: 0.0019 - midlegL4: 0.0020 - midlegR4: 0.0021 - hindlegL4: 0.0023 - hindlegR4: 0.0024 - eyeL: 6.7827e-04 - eyeR: 6.2254e-04 - val_loss: 0.0015 - val_head: 6.5523e-04 - val_thorax: 4.4019e-04 - val_abdomen: 0.0016 - val_wingL: 0.0016 - val_wingR: 0.0015 - val_forelegL4: 0.0019 - val_forelegR4: 0.0020 - val_midlegL4: 0.0021 - val_midlegR4: 0.0020 - val_hindlegL4: 0.0021 - val_hindlegR4: 0.0021 - val_eyeL: 7.9871e-04 - val_eyeR: 7.8608e-04 - lr: 1.0000e-04 - 7s/epoch - 20ms/step\n",
            "Epoch 6/10\n",
            "360/360 - 7s - loss: 0.0013 - head: 5.3215e-04 - thorax: 3.5232e-04 - abdomen: 0.0016 - wingL: 0.0014 - wingR: 0.0014 - forelegL4: 0.0017 - forelegR4: 0.0018 - midlegL4: 0.0017 - midlegR4: 0.0018 - hindlegL4: 0.0020 - hindlegR4: 0.0021 - eyeL: 5.9826e-04 - eyeR: 5.6906e-04 - val_loss: 0.0013 - val_head: 5.3776e-04 - val_thorax: 3.7946e-04 - val_abdomen: 0.0014 - val_wingL: 0.0014 - val_wingR: 0.0013 - val_forelegL4: 0.0017 - val_forelegR4: 0.0018 - val_midlegL4: 0.0016 - val_midlegR4: 0.0017 - val_hindlegL4: 0.0017 - val_hindlegR4: 0.0018 - val_eyeL: 6.6378e-04 - val_eyeR: 6.5611e-04 - lr: 1.0000e-04 - 7s/epoch - 19ms/step\n",
            "Epoch 7/10\n",
            "360/360 - 7s - loss: 0.0012 - head: 4.8557e-04 - thorax: 3.1089e-04 - abdomen: 0.0014 - wingL: 0.0012 - wingR: 0.0012 - forelegL4: 0.0016 - forelegR4: 0.0016 - midlegL4: 0.0015 - midlegR4: 0.0016 - hindlegL4: 0.0018 - hindlegR4: 0.0019 - eyeL: 5.6096e-04 - eyeR: 5.3123e-04 - val_loss: 0.0012 - val_head: 5.2092e-04 - val_thorax: 3.4376e-04 - val_abdomen: 0.0014 - val_wingL: 0.0012 - val_wingR: 0.0012 - val_forelegL4: 0.0015 - val_forelegR4: 0.0017 - val_midlegL4: 0.0015 - val_midlegR4: 0.0015 - val_hindlegL4: 0.0017 - val_hindlegR4: 0.0017 - val_eyeL: 6.4288e-04 - val_eyeR: 6.0581e-04 - lr: 1.0000e-04 - 7s/epoch - 19ms/step\n",
            "Epoch 8/10\n",
            "360/360 - 7s - loss: 0.0011 - head: 4.3752e-04 - thorax: 2.7513e-04 - abdomen: 0.0013 - wingL: 0.0011 - wingR: 0.0011 - forelegL4: 0.0015 - forelegR4: 0.0015 - midlegL4: 0.0014 - midlegR4: 0.0014 - hindlegL4: 0.0017 - hindlegR4: 0.0017 - eyeL: 5.1807e-04 - eyeR: 4.9554e-04 - val_loss: 0.0011 - val_head: 5.6743e-04 - val_thorax: 3.5883e-04 - val_abdomen: 0.0014 - val_wingL: 0.0012 - val_wingR: 0.0011 - val_forelegL4: 0.0015 - val_forelegR4: 0.0016 - val_midlegL4: 0.0014 - val_midlegR4: 0.0014 - val_hindlegL4: 0.0015 - val_hindlegR4: 0.0015 - val_eyeL: 6.2925e-04 - val_eyeR: 6.5965e-04 - lr: 1.0000e-04 - 7s/epoch - 19ms/step\n",
            "Epoch 9/10\n",
            "360/360 - 7s - loss: 0.0011 - head: 4.2635e-04 - thorax: 2.4829e-04 - abdomen: 0.0012 - wingL: 0.0010 - wingR: 0.0010 - forelegL4: 0.0015 - forelegR4: 0.0014 - midlegL4: 0.0013 - midlegR4: 0.0013 - hindlegL4: 0.0016 - hindlegR4: 0.0017 - eyeL: 5.0197e-04 - eyeR: 4.8384e-04 - val_loss: 0.0011 - val_head: 4.8699e-04 - val_thorax: 3.5631e-04 - val_abdomen: 0.0013 - val_wingL: 0.0011 - val_wingR: 0.0011 - val_forelegL4: 0.0014 - val_forelegR4: 0.0016 - val_midlegL4: 0.0013 - val_midlegR4: 0.0015 - val_hindlegL4: 0.0014 - val_hindlegR4: 0.0015 - val_eyeL: 6.1692e-04 - val_eyeR: 5.8370e-04 - lr: 1.0000e-04 - 7s/epoch - 19ms/step\n",
            "Epoch 10/10\n",
            "360/360 - 7s - loss: 9.8454e-04 - head: 3.9611e-04 - thorax: 2.2278e-04 - abdomen: 0.0012 - wingL: 9.4893e-04 - wingR: 9.5555e-04 - forelegL4: 0.0014 - forelegR4: 0.0014 - midlegL4: 0.0012 - midlegR4: 0.0012 - hindlegL4: 0.0015 - hindlegR4: 0.0016 - eyeL: 4.7396e-04 - eyeR: 4.4770e-04 - val_loss: 0.0010 - val_head: 4.9330e-04 - val_thorax: 2.9460e-04 - val_abdomen: 0.0013 - val_wingL: 9.5190e-04 - val_wingR: 9.9289e-04 - val_forelegL4: 0.0014 - val_forelegR4: 0.0015 - val_midlegL4: 0.0012 - val_midlegR4: 0.0012 - val_hindlegL4: 0.0014 - val_hindlegR4: 0.0014 - val_eyeL: 5.5512e-04 - val_eyeR: 5.3737e-04 - lr: 1.0000e-04 - 7s/epoch - 19ms/step\n",
            "INFO:sleap.nn.training:Finished training loop. [1.3 min]\n",
            "INFO:sleap.nn.training:Deleting visualization directory: models/baseline_model.topdown/viz\n",
            "INFO:sleap.nn.training:Saving evaluation metrics to model folder...\n"
          ]
        },
        {
          "data": {
            "application/vnd.jupyter.widget-view+json": {
              "model_id": "9864dea73605449cb08b26c938812cfb",
              "version_major": 2,
              "version_minor": 0
            },
            "text/plain": [
              "Output()"
            ]
          },
          "metadata": {},
          "output_type": "display_data"
        },
        {
          "data": {
            "text/html": [
              "<pre style=\"white-space:pre;overflow-x:auto;line-height:normal;font-family:Menlo,'DejaVu Sans Mono',consolas,'Courier New',monospace\"></pre>\n"
            ],
            "text/plain": []
          },
          "metadata": {},
          "output_type": "display_data"
        },
        {
          "data": {
            "text/html": [
              "<pre style=\"white-space:pre;overflow-x:auto;line-height:normal;font-family:Menlo,'DejaVu Sans Mono',consolas,'Courier New',monospace\">\n",
              "</pre>\n"
            ],
            "text/plain": [
              "\n"
            ]
          },
          "metadata": {},
          "output_type": "display_data"
        },
        {
          "name": "stdout",
          "output_type": "stream",
          "text": [
            "INFO:sleap.nn.evals:Saved predictions: models/baseline_model.topdown/labels_pr.train.slp\n",
            "INFO:sleap.nn.evals:Saved metrics: models/baseline_model.topdown/metrics.train.npz\n",
            "INFO:sleap.nn.evals:OKS mAP: 0.508754\n"
          ]
        },
        {
          "data": {
            "application/vnd.jupyter.widget-view+json": {
              "model_id": "243984a359bc41e9975653fa6206ac27",
              "version_major": 2,
              "version_minor": 0
            },
            "text/plain": [
              "Output()"
            ]
          },
          "metadata": {},
          "output_type": "display_data"
        },
        {
          "data": {
            "text/html": [
              "<pre style=\"white-space:pre;overflow-x:auto;line-height:normal;font-family:Menlo,'DejaVu Sans Mono',consolas,'Courier New',monospace\"></pre>\n"
            ],
            "text/plain": []
          },
          "metadata": {},
          "output_type": "display_data"
        },
        {
          "data": {
            "text/html": [
              "<pre style=\"white-space:pre;overflow-x:auto;line-height:normal;font-family:Menlo,'DejaVu Sans Mono',consolas,'Courier New',monospace\">\n",
              "</pre>\n"
            ],
            "text/plain": [
              "\n"
            ]
          },
          "metadata": {},
          "output_type": "display_data"
        },
        {
          "name": "stdout",
          "output_type": "stream",
          "text": [
            "INFO:sleap.nn.evals:Saved predictions: models/baseline_model.topdown/labels_pr.val.slp\n",
            "INFO:sleap.nn.evals:Saved metrics: models/baseline_model.topdown/metrics.val.npz\n",
            "INFO:sleap.nn.evals:OKS mAP: 0.477220\n"
          ]
        }
      ],
      "source": [
        "trainer.train()"
      ]
    },
    {
      "cell_type": "markdown",
      "metadata": {
        "id": "0RHAJkqowaF5"
      },
      "source": [
        "## 5. Continuing training\n",
        "\n",
        "If we still have the trainer in memory, we can continue training by simply calling `trainer.train()` again with a potentially different number of epochs:"
      ]
    },
    {
      "cell_type": "code",
      "execution_count": null,
      "metadata": {
        "colab": {
          "base_uri": "https://localhost:8080/",
          "height": 381,
          "referenced_widgets": [
            "d49529f91f6d4090a7820b081094823d",
            "f5a6112df0964befa6704030d2995ecd",
            "8291326df0b9435b8ba2298c8977778b",
            "3e68443331b44baa9cb8f8e077e2075b",
            "f1bb0ee48431420d9cb6d99c4db4680d",
            "db5de880cd154476a097178972c8f0a3"
          ]
        },
        "id": "ENOiptvQwrtI",
        "outputId": "ccdec444-17ae-4040-9aa3-509086e3dc37"
      },
      "outputs": [
        {
          "name": "stdout",
          "output_type": "stream",
          "text": [
            "INFO:sleap.nn.training:Creating tf.data.Datasets for training data generation...\n",
            "INFO:sleap.nn.training:Finished creating training datasets. [17.1s]\n",
            "INFO:sleap.nn.training:Starting training loop...\n",
            "Epoch 1/3\n",
            "360/360 - 7s - loss: 9.3201e-04 - head: 3.7118e-04 - thorax: 2.0303e-04 - abdomen: 0.0011 - wingL: 8.9319e-04 - wingR: 9.0134e-04 - forelegL4: 0.0013 - forelegR4: 0.0013 - midlegL4: 0.0011 - midlegR4: 0.0011 - hindlegL4: 0.0014 - hindlegR4: 0.0015 - eyeL: 4.4919e-04 - eyeR: 4.2012e-04 - val_loss: 9.4680e-04 - val_head: 3.9131e-04 - val_thorax: 2.4191e-04 - val_abdomen: 0.0010 - val_wingL: 8.9155e-04 - val_wingR: 8.9295e-04 - val_forelegL4: 0.0013 - val_forelegR4: 0.0014 - val_midlegL4: 0.0012 - val_midlegR4: 0.0012 - val_hindlegL4: 0.0013 - val_hindlegR4: 0.0013 - val_eyeL: 5.3658e-04 - val_eyeR: 5.0085e-04 - lr: 1.0000e-04 - 7s/epoch - 20ms/step\n",
            "Epoch 2/3\n",
            "360/360 - 7s - loss: 8.8906e-04 - head: 3.6015e-04 - thorax: 1.9128e-04 - abdomen: 0.0010 - wingL: 8.5054e-04 - wingR: 8.5352e-04 - forelegL4: 0.0013 - forelegR4: 0.0013 - midlegL4: 0.0010 - midlegR4: 0.0011 - hindlegL4: 0.0014 - hindlegR4: 0.0014 - eyeL: 4.3093e-04 - eyeR: 4.0690e-04 - val_loss: 8.9501e-04 - val_head: 4.1907e-04 - val_thorax: 2.3487e-04 - val_abdomen: 0.0010 - val_wingL: 8.6145e-04 - val_wingR: 8.4151e-04 - val_forelegL4: 0.0013 - val_forelegR4: 0.0014 - val_midlegL4: 0.0010 - val_midlegR4: 0.0011 - val_hindlegL4: 0.0013 - val_hindlegR4: 0.0012 - val_eyeL: 5.2130e-04 - val_eyeR: 4.9293e-04 - lr: 1.0000e-04 - 7s/epoch - 19ms/step\n",
            "Epoch 3/3\n",
            "360/360 - 7s - loss: 8.5396e-04 - head: 3.4440e-04 - thorax: 1.7180e-04 - abdomen: 9.9867e-04 - wingL: 8.1743e-04 - wingR: 8.2288e-04 - forelegL4: 0.0012 - forelegR4: 0.0012 - midlegL4: 9.7110e-04 - midlegR4: 0.0010 - hindlegL4: 0.0013 - hindlegR4: 0.0014 - eyeL: 4.1497e-04 - eyeR: 3.9294e-04 - val_loss: 8.8076e-04 - val_head: 3.7130e-04 - val_thorax: 2.4712e-04 - val_abdomen: 0.0010 - val_wingL: 8.2889e-04 - val_wingR: 8.5931e-04 - val_forelegL4: 0.0012 - val_forelegR4: 0.0014 - val_midlegL4: 9.9400e-04 - val_midlegR4: 0.0011 - val_hindlegL4: 0.0012 - val_hindlegR4: 0.0012 - val_eyeL: 4.9486e-04 - val_eyeR: 4.6961e-04 - lr: 1.0000e-04 - 7s/epoch - 19ms/step\n",
            "INFO:sleap.nn.training:Finished training loop. [0.4 min]\n",
            "INFO:sleap.nn.training:Deleting visualization directory: models/baseline_model.topdown/viz\n",
            "INFO:sleap.nn.training:Saving evaluation metrics to model folder...\n"
          ]
        },
        {
          "data": {
            "application/vnd.jupyter.widget-view+json": {
              "model_id": "f1bb0ee48431420d9cb6d99c4db4680d",
              "version_major": 2,
              "version_minor": 0
            },
            "text/plain": [
              "Output()"
            ]
          },
          "metadata": {},
          "output_type": "display_data"
        },
        {
          "data": {
            "text/html": [
              "<pre style=\"white-space:pre;overflow-x:auto;line-height:normal;font-family:Menlo,'DejaVu Sans Mono',consolas,'Courier New',monospace\"></pre>\n"
            ],
            "text/plain": []
          },
          "metadata": {},
          "output_type": "display_data"
        },
        {
          "data": {
            "text/html": [
              "<pre style=\"white-space:pre;overflow-x:auto;line-height:normal;font-family:Menlo,'DejaVu Sans Mono',consolas,'Courier New',monospace\">\n",
              "</pre>\n"
            ],
            "text/plain": [
              "\n"
            ]
          },
          "metadata": {},
          "output_type": "display_data"
        },
        {
          "name": "stdout",
          "output_type": "stream",
          "text": [
            "INFO:sleap.nn.evals:Saved predictions: models/baseline_model.topdown/labels_pr.train.slp\n",
            "INFO:sleap.nn.evals:Saved metrics: models/baseline_model.topdown/metrics.train.npz\n",
            "INFO:sleap.nn.evals:OKS mAP: 0.559100\n"
          ]
        },
        {
          "data": {
            "application/vnd.jupyter.widget-view+json": {
              "model_id": "db5de880cd154476a097178972c8f0a3",
              "version_major": 2,
              "version_minor": 0
            },
            "text/plain": [
              "Output()"
            ]
          },
          "metadata": {},
          "output_type": "display_data"
        },
        {
          "data": {
            "text/html": [
              "<pre style=\"white-space:pre;overflow-x:auto;line-height:normal;font-family:Menlo,'DejaVu Sans Mono',consolas,'Courier New',monospace\"></pre>\n"
            ],
            "text/plain": []
          },
          "metadata": {},
          "output_type": "display_data"
        },
        {
          "data": {
            "text/html": [
              "<pre style=\"white-space:pre;overflow-x:auto;line-height:normal;font-family:Menlo,'DejaVu Sans Mono',consolas,'Courier New',monospace\">\n",
              "</pre>\n"
            ],
            "text/plain": [
              "\n"
            ]
          },
          "metadata": {},
          "output_type": "display_data"
        },
        {
          "name": "stdout",
          "output_type": "stream",
          "text": [
            "INFO:sleap.nn.evals:Saved predictions: models/baseline_model.topdown/labels_pr.val.slp\n",
            "INFO:sleap.nn.evals:Saved metrics: models/baseline_model.topdown/metrics.val.npz\n",
            "INFO:sleap.nn.evals:OKS mAP: 0.529680\n"
          ]
        }
      ],
      "source": [
        "trainer.config.optimization.epochs = 3\n",
        "trainer.train()"
      ]
    },
    {
      "cell_type": "markdown",
      "metadata": {
        "id": "bUjjGVWGyYZu"
      },
      "source": [
        "As you can see, the loss and accuracy pick up from where it left off in the previous training.\n"
      ]
    },
    {
      "cell_type": "markdown",
      "metadata": {
        "id": "GSGW14-Px09E"
      },
      "source": [
        "Usually, however, if you're continuing training it's likely because you're starting off from an already trained model.\n",
        "\n",
        "In this case, all you need to do to continue training is to create a new `Trainer` from the existing model configuration and load up the weights before continuing training:"
      ]
    },
    {
      "cell_type": "code",
      "execution_count": null,
      "metadata": {
        "colab": {
          "base_uri": "https://localhost:8080/"
        },
        "id": "NDL6ScTDxrso",
        "outputId": "f63c3ef8-97d0-4484-e951-b120dcbbffac"
      },
      "outputs": [
        {
          "name": "stdout",
          "output_type": "stream",
          "text": [
            "INFO:sleap.nn.training:Loading training labels from: labels.pkg.slp\n",
            "INFO:sleap.nn.training:Creating training and validation splits from validation fraction: 0.1\n",
            "INFO:sleap.nn.training:  Splits: Training = 1440 / Validation = 160.\n",
            "INFO:sleap.nn.training:Setting up for training...\n",
            "INFO:sleap.nn.training:Setting up pipeline builders...\n",
            "INFO:sleap.nn.training:Setting up model...\n",
            "INFO:sleap.nn.training:Building test pipeline...\n",
            "INFO:sleap.nn.training:Loaded test example. [0.925s]\n",
            "INFO:sleap.nn.training:  Input shape: (160, 160, 1)\n",
            "INFO:sleap.nn.training:Created Keras model.\n",
            "INFO:sleap.nn.training:  Backbone: UNet(stacks=1, filters=16, filters_rate=2.0, kernel_size=3, stem_kernel_size=7, convs_per_block=2, stem_blocks=0, down_blocks=4, middle_block=True, up_blocks=2, up_interpolate=False, block_contraction=False)\n",
            "INFO:sleap.nn.training:  Max stride: 16\n",
            "INFO:sleap.nn.training:  Parameters: 2,101,501\n",
            "INFO:sleap.nn.training:  Heads: \n",
            "INFO:sleap.nn.training:    [0] = CenteredInstanceConfmapsHead(part_names=['head', 'thorax', 'abdomen', 'wingL', 'wingR', 'forelegL4', 'forelegR4', 'midlegL4', 'midlegR4', 'hindlegL4', 'hindlegR4', 'eyeL', 'eyeR'], anchor_part='thorax', sigma=1.5, output_stride=4, loss_weight=1.0)\n",
            "INFO:sleap.nn.training:  Outputs: \n",
            "INFO:sleap.nn.training:    [0] = KerasTensor(type_spec=TensorSpec(shape=(None, 40, 40, 13), dtype=tf.float32, name=None), name='CenteredInstanceConfmapsHead/BiasAdd:0', description=\"created by layer 'CenteredInstanceConfmapsHead'\")\n",
            "INFO:sleap.nn.training:Training from scratch\n",
            "INFO:sleap.nn.training:Setting up data pipelines...\n",
            "INFO:sleap.nn.training:Training set: n = 1440\n",
            "INFO:sleap.nn.training:Validation set: n = 160\n",
            "INFO:sleap.nn.training:Setting up optimization...\n",
            "INFO:sleap.nn.training:  Learning rate schedule: LearningRateScheduleConfig(reduce_on_plateau=True, reduction_factor=0.5, plateau_min_delta=1e-06, plateau_patience=5, plateau_cooldown=3, min_learning_rate=1e-08)\n",
            "INFO:sleap.nn.training:  Early stopping: EarlyStoppingConfig(stop_training_on_plateau=True, plateau_min_delta=1e-06, plateau_patience=10)\n",
            "INFO:sleap.nn.training:Setting up outputs...\n",
            "INFO:sleap.nn.training:Created run path: models/baseline_model.topdown\n",
            "INFO:sleap.nn.training:Setting up visualization...\n",
            "INFO:sleap.nn.training:Finished trainer set up. [2.2s]\n"
          ]
        }
      ],
      "source": [
        "# Load config.\n",
        "cfg = sleap.load_config(\"models/baseline_model.topdown\")\n",
        "# cfg.outputs.run_name = \"new_folder\"  # Set the run_name to a new value if you want the model to be saved to a different folder.\n",
        "\n",
        "# Create and initialize the trainer.\n",
        "trainer = sleap.nn.training.Trainer.from_config(cfg)\n",
        "trainer.setup()\n",
        "\n",
        "# Replace the randomly initialized weights with the saved weights.\n",
        "trainer.keras_model.load_weights(\"models/baseline_model.topdown/best_model.h5\")"
      ]
    },
    {
      "cell_type": "code",
      "execution_count": null,
      "metadata": {
        "colab": {
          "base_uri": "https://localhost:8080/",
          "height": 381,
          "referenced_widgets": [
            "c74d0a9e497146acaf8da36faf5f496a",
            "7558a9bb888840e19b42a0bf0faac822",
            "bf6a847899a24fcea5f14409a7ee1c33",
            "53b56611dfec45b49e92fa0716fa2f97",
            "b94057057f6442c990c6fc548910a685",
            "8f2e64c8d4d6457986ee8b43b47e2876"
          ]
        },
        "id": "HlGP3dYMy2NG",
        "outputId": "c32a4240-1abd-401b-caab-4d64bec8348d"
      },
      "outputs": [
        {
          "name": "stdout",
          "output_type": "stream",
          "text": [
            "INFO:sleap.nn.training:Creating tf.data.Datasets for training data generation...\n",
            "INFO:sleap.nn.training:Finished creating training datasets. [17.7s]\n",
            "INFO:sleap.nn.training:Starting training loop...\n",
            "Epoch 1/3\n",
            "360/360 - 9s - loss: 8.3664e-04 - head: 3.5190e-04 - thorax: 1.7037e-04 - abdomen: 9.8467e-04 - wingL: 7.9929e-04 - wingR: 8.0385e-04 - forelegL4: 0.0012 - forelegR4: 0.0012 - midlegL4: 9.5228e-04 - midlegR4: 9.8510e-04 - hindlegL4: 0.0013 - hindlegR4: 0.0013 - eyeL: 4.0772e-04 - eyeR: 3.9413e-04 - val_loss: 8.7351e-04 - val_head: 4.0943e-04 - val_thorax: 1.7453e-04 - val_abdomen: 9.4413e-04 - val_wingL: 8.3617e-04 - val_wingR: 8.4860e-04 - val_forelegL4: 0.0012 - val_forelegR4: 0.0012 - val_midlegL4: 9.4441e-04 - val_midlegR4: 0.0011 - val_hindlegL4: 0.0014 - val_hindlegR4: 0.0014 - val_eyeL: 4.4847e-04 - val_eyeR: 4.4179e-04 - lr: 1.0000e-04 - 9s/epoch - 24ms/step\n",
            "Epoch 2/3\n",
            "360/360 - 7s - loss: 8.0541e-04 - head: 3.4627e-04 - thorax: 1.6070e-04 - abdomen: 9.4325e-04 - wingL: 7.7257e-04 - wingR: 7.7434e-04 - forelegL4: 0.0012 - forelegR4: 0.0012 - midlegL4: 8.9573e-04 - midlegR4: 9.3483e-04 - hindlegL4: 0.0013 - hindlegR4: 0.0013 - eyeL: 4.0939e-04 - eyeR: 3.8417e-04 - val_loss: 8.2339e-04 - val_head: 3.9561e-04 - val_thorax: 1.2637e-04 - val_abdomen: 8.6513e-04 - val_wingL: 7.1751e-04 - val_wingR: 7.5540e-04 - val_forelegL4: 0.0012 - val_forelegR4: 0.0012 - val_midlegL4: 8.5588e-04 - val_midlegR4: 0.0010 - val_hindlegL4: 0.0013 - val_hindlegR4: 0.0014 - val_eyeL: 4.8189e-04 - val_eyeR: 4.2402e-04 - lr: 1.0000e-04 - 7s/epoch - 20ms/step\n",
            "Epoch 3/3\n",
            "360/360 - 7s - loss: 7.7741e-04 - head: 3.2087e-04 - thorax: 1.4398e-04 - abdomen: 9.1826e-04 - wingL: 7.4005e-04 - wingR: 7.5282e-04 - forelegL4: 0.0011 - forelegR4: 0.0011 - midlegL4: 8.6551e-04 - midlegR4: 8.9726e-04 - hindlegL4: 0.0012 - hindlegR4: 0.0013 - eyeL: 3.8423e-04 - eyeR: 3.7468e-04 - val_loss: 8.4657e-04 - val_head: 3.5649e-04 - val_thorax: 1.2162e-04 - val_abdomen: 8.9171e-04 - val_wingL: 7.9007e-04 - val_wingR: 8.2471e-04 - val_forelegL4: 0.0013 - val_forelegR4: 0.0013 - val_midlegL4: 8.1375e-04 - val_midlegR4: 9.8217e-04 - val_hindlegL4: 0.0014 - val_hindlegR4: 0.0013 - val_eyeL: 4.7370e-04 - val_eyeR: 4.2098e-04 - lr: 1.0000e-04 - 7s/epoch - 19ms/step\n",
            "INFO:sleap.nn.training:Finished training loop. [0.4 min]\n",
            "INFO:sleap.nn.training:Deleting visualization directory: models/baseline_model.topdown/viz\n",
            "INFO:sleap.nn.training:Saving evaluation metrics to model folder...\n"
          ]
        },
        {
          "data": {
            "application/vnd.jupyter.widget-view+json": {
              "model_id": "b94057057f6442c990c6fc548910a685",
              "version_major": 2,
              "version_minor": 0
            },
            "text/plain": [
              "Output()"
            ]
          },
          "metadata": {},
          "output_type": "display_data"
        },
        {
          "data": {
            "text/html": [
              "<pre style=\"white-space:pre;overflow-x:auto;line-height:normal;font-family:Menlo,'DejaVu Sans Mono',consolas,'Courier New',monospace\"></pre>\n"
            ],
            "text/plain": []
          },
          "metadata": {},
          "output_type": "display_data"
        },
        {
          "data": {
            "text/html": [
              "<pre style=\"white-space:pre;overflow-x:auto;line-height:normal;font-family:Menlo,'DejaVu Sans Mono',consolas,'Courier New',monospace\">\n",
              "</pre>\n"
            ],
            "text/plain": [
              "\n"
            ]
          },
          "metadata": {},
          "output_type": "display_data"
        },
        {
          "name": "stdout",
          "output_type": "stream",
          "text": [
            "INFO:sleap.nn.evals:Saved predictions: models/baseline_model.topdown/labels_pr.train.slp\n",
            "INFO:sleap.nn.evals:Saved metrics: models/baseline_model.topdown/metrics.train.npz\n",
            "INFO:sleap.nn.evals:OKS mAP: 0.585451\n"
          ]
        },
        {
          "data": {
            "application/vnd.jupyter.widget-view+json": {
              "model_id": "8f2e64c8d4d6457986ee8b43b47e2876",
              "version_major": 2,
              "version_minor": 0
            },
            "text/plain": [
              "Output()"
            ]
          },
          "metadata": {},
          "output_type": "display_data"
        },
        {
          "data": {
            "text/html": [
              "<pre style=\"white-space:pre;overflow-x:auto;line-height:normal;font-family:Menlo,'DejaVu Sans Mono',consolas,'Courier New',monospace\"></pre>\n"
            ],
            "text/plain": []
          },
          "metadata": {},
          "output_type": "display_data"
        },
        {
          "data": {
            "text/html": [
              "<pre style=\"white-space:pre;overflow-x:auto;line-height:normal;font-family:Menlo,'DejaVu Sans Mono',consolas,'Courier New',monospace\">\n",
              "</pre>\n"
            ],
            "text/plain": [
              "\n"
            ]
          },
          "metadata": {},
          "output_type": "display_data"
        },
        {
          "name": "stdout",
          "output_type": "stream",
          "text": [
            "INFO:sleap.nn.evals:Saved predictions: models/baseline_model.topdown/labels_pr.val.slp\n",
            "INFO:sleap.nn.evals:Saved metrics: models/baseline_model.topdown/metrics.val.npz\n",
            "INFO:sleap.nn.evals:OKS mAP: 0.574921\n"
          ]
        }
      ],
      "source": [
        "trainer.config.optimization.epochs = 3\n",
        "trainer.train()"
      ]
    },
    {
      "cell_type": "markdown",
      "metadata": {
        "id": "kb4YzP7AzYZB"
      },
      "source": [
        "Again, the loss and accuracy pick up from where they left off prior to this round of training.\n",
        "\n",
        "The resulting model can be used as usual for inference on new data."
      ]
    },
    {
      "cell_type": "code",
      "source": [
        "!python -c \"exec(open('/content/drive/My Drive/sleap/random/resumable_train_script.py').read())\""
      ],
      "metadata": {
        "id": "VZJl5RP-DQWX",
        "outputId": "5ce2f087-6a37-4d69-f40f-47f9bf1a2b39",
        "colab": {
          "base_uri": "https://localhost:8080/"
        }
      },
      "execution_count": 9,
      "outputs": [
        {
          "output_type": "stream",
          "name": "stdout",
          "text": [
            "INFO:numexpr.utils:NumExpr defaulting to 8 threads.\n",
            "INFO:sleap.nn.training:Loading training labels from: labels.pkg.slp\n",
            "/usr/local/lib/python3.10/site-packages/networkx/readwrite/json_graph/node_link.py:287: FutureWarning: \n",
            "The default value will be changed to `edges=\"edges\" in NetworkX 3.6.\n",
            "\n",
            "To make this warning go away, explicitly set the edges kwarg, e.g.:\n",
            "\n",
            "  nx.node_link_graph(data, edges=\"links\") to preserve current behavior, or\n",
            "  nx.node_link_graph(data, edges=\"edges\") for forward compatibility.\n",
            "  warnings.warn(\n",
            "INFO:sleap.nn.training:Creating training and validation splits from validation fraction: 0.1\n",
            "/usr/local/lib/python3.10/site-packages/networkx/readwrite/json_graph/node_link.py:142: FutureWarning: \n",
            "The default value will be `edges=\"edges\" in NetworkX 3.6.\n",
            "\n",
            "To make this warning go away, explicitly set the edges kwarg, e.g.:\n",
            "\n",
            "  nx.node_link_data(G, edges=\"links\") to preserve current behavior, or\n",
            "  nx.node_link_data(G, edges=\"edges\") for forward compatibility.\n",
            "  warnings.warn(\n",
            "INFO:sleap.nn.training:  Splits: Training = 1440 / Validation = 160.\n",
            "INFO:sleap.nn.training:Setting up for training...\n",
            "INFO:sleap.nn.training:Setting up pipeline builders...\n",
            "INFO:sleap.nn.training:Setting up model...\n",
            "INFO:sleap.nn.training:Building test pipeline...\n",
            "2025-04-21 01:55:23.827020: I tensorflow/stream_executor/cuda/cuda_gpu_executor.cc:936] successful NUMA node read from SysFS had negative value (-1), but there must be at least one NUMA node, so returning NUMA node zero\n",
            "2025-04-21 01:55:23.904283: I tensorflow/stream_executor/cuda/cuda_gpu_executor.cc:936] successful NUMA node read from SysFS had negative value (-1), but there must be at least one NUMA node, so returning NUMA node zero\n",
            "2025-04-21 01:55:23.904673: I tensorflow/stream_executor/cuda/cuda_gpu_executor.cc:936] successful NUMA node read from SysFS had negative value (-1), but there must be at least one NUMA node, so returning NUMA node zero\n",
            "2025-04-21 01:55:23.905197: I tensorflow/core/platform/cpu_feature_guard.cc:151] This TensorFlow binary is optimized with oneAPI Deep Neural Network Library (oneDNN) to use the following CPU instructions in performance-critical operations:  AVX2 FMA\n",
            "To enable them in other operations, rebuild TensorFlow with the appropriate compiler flags.\n",
            "2025-04-21 01:55:23.906008: I tensorflow/stream_executor/cuda/cuda_gpu_executor.cc:936] successful NUMA node read from SysFS had negative value (-1), but there must be at least one NUMA node, so returning NUMA node zero\n",
            "2025-04-21 01:55:23.906300: I tensorflow/stream_executor/cuda/cuda_gpu_executor.cc:936] successful NUMA node read from SysFS had negative value (-1), but there must be at least one NUMA node, so returning NUMA node zero\n",
            "2025-04-21 01:55:23.906529: I tensorflow/stream_executor/cuda/cuda_gpu_executor.cc:936] successful NUMA node read from SysFS had negative value (-1), but there must be at least one NUMA node, so returning NUMA node zero\n",
            "2025-04-21 01:55:24.117154: I tensorflow/stream_executor/cuda/cuda_gpu_executor.cc:936] successful NUMA node read from SysFS had negative value (-1), but there must be at least one NUMA node, so returning NUMA node zero\n",
            "2025-04-21 01:55:24.117547: I tensorflow/stream_executor/cuda/cuda_gpu_executor.cc:936] successful NUMA node read from SysFS had negative value (-1), but there must be at least one NUMA node, so returning NUMA node zero\n",
            "2025-04-21 01:55:24.117840: I tensorflow/stream_executor/cuda/cuda_gpu_executor.cc:936] successful NUMA node read from SysFS had negative value (-1), but there must be at least one NUMA node, so returning NUMA node zero\n",
            "2025-04-21 01:55:24.117987: W tensorflow/core/common_runtime/gpu/gpu_bfc_allocator.cc:39] Overriding allow_growth setting because the TF_FORCE_GPU_ALLOW_GROWTH environment variable is set. Original config value was 0.\n",
            "2025-04-21 01:55:24.118043: I tensorflow/core/common_runtime/gpu/gpu_device.cc:1525] Created device /job:localhost/replica:0/task:0/device:GPU:0 with 13942 MB memory:  -> device: 0, name: Tesla T4, pci bus id: 0000:00:04.0, compute capability: 7.5\n",
            "2025-04-21 01:55:26.211039: W tensorflow/core/grappler/costs/op_level_cost_estimator.cc:690] Error in PredictCost() for the op: op: \"CropAndResize\" attr { key: \"T\" value { type: DT_FLOAT } } attr { key: \"extrapolation_value\" value { f: 0 } } attr { key: \"method\" value { s: \"bilinear\" } } inputs { dtype: DT_FLOAT shape { dim { size: 1 } dim { size: 1024 } dim { size: 1024 } dim { size: 1 } } } inputs { dtype: DT_FLOAT shape { dim { size: -2 } dim { size: 4 } } } inputs { dtype: DT_INT32 shape { dim { size: -2 } } } inputs { dtype: DT_INT32 shape { dim { size: 2 } } } device { type: \"CPU\" vendor: \"GenuineIntel\" model: \"111\" frequency: 2199 num_cores: 8 environment { key: \"cpu_instruction_set\" value: \"AVX SSE, SSE2, SSE3, SSSE3, SSE4.1, SSE4.2\" } environment { key: \"eigen\" value: \"3.4.90\" } l1_cache_size: 32768 l2_cache_size: 262144 l3_cache_size: 57671680 memory_size: 268435456 } outputs { dtype: DT_FLOAT shape { dim { size: -2 } dim { size: 160 } dim { size: 160 } dim { size: 1 } } }\n",
            "INFO:sleap.nn.training:Loaded test example. [2.540s]\n",
            "INFO:sleap.nn.training:  Input shape: (160, 160, 1)\n",
            "INFO:sleap.nn.training:Created Keras model.\n",
            "INFO:sleap.nn.training:  Backbone: UNet(stacks=1, filters=16, filters_rate=2, kernel_size=3, stem_kernel_size=7, convs_per_block=2, stem_blocks=0, down_blocks=4, middle_block=True, up_blocks=2, up_interpolate=False, block_contraction=False)\n",
            "INFO:sleap.nn.training:  Max stride: 16\n",
            "INFO:sleap.nn.training:  Parameters: 2,101,501\n",
            "INFO:sleap.nn.training:  Heads: \n",
            "INFO:sleap.nn.training:    [0] = CenteredInstanceConfmapsHead(part_names=['head', 'thorax', 'abdomen', 'wingL', 'wingR', 'forelegL4', 'forelegR4', 'midlegL4', 'midlegR4', 'hindlegL4', 'hindlegR4', 'eyeL', 'eyeR'], anchor_part='thorax', sigma=1.5, output_stride=4, loss_weight=1.0)\n",
            "INFO:sleap.nn.training:  Outputs: \n",
            "INFO:sleap.nn.training:    [0] = KerasTensor(type_spec=TensorSpec(shape=(None, 40, 40, 13), dtype=tf.float32, name=None), name='CenteredInstanceConfmapsHead/BiasAdd:0', description=\"created by layer 'CenteredInstanceConfmapsHead'\")\n",
            "INFO:sleap.nn.training:Training from scratch\n",
            "INFO:sleap.nn.training:Setting up data pipelines...\n",
            "INFO:sleap.nn.training:Training set: n = 1440\n",
            "INFO:sleap.nn.training:Validation set: n = 160\n",
            "INFO:sleap.nn.training:Setting up optimization...\n",
            "INFO:sleap.nn.training:  Learning rate schedule: LearningRateScheduleConfig(reduce_on_plateau=True, reduction_factor=0.5, plateau_min_delta=1e-06, plateau_patience=5, plateau_cooldown=3, min_learning_rate=1e-08)\n",
            "INFO:sleap.nn.training:  Early stopping: EarlyStoppingConfig(stop_training_on_plateau=True, plateau_min_delta=1e-06, plateau_patience=10)\n",
            "INFO:sleap.nn.training:Setting up outputs...\n",
            "INFO:sleap.nn.training:Created run path: models/baseline_model.topdown\n",
            "/usr/local/lib/python3.10/site-packages/networkx/readwrite/json_graph/node_link.py:142: FutureWarning: \n",
            "The default value will be `edges=\"edges\" in NetworkX 3.6.\n",
            "\n",
            "To make this warning go away, explicitly set the edges kwarg, e.g.:\n",
            "\n",
            "  nx.node_link_data(G, edges=\"links\") to preserve current behavior, or\n",
            "  nx.node_link_data(G, edges=\"edges\") for forward compatibility.\n",
            "  warnings.warn(\n",
            "INFO:sleap.nn.training:Setting up visualization...\n",
            "2025-04-21 01:55:27.781870: W tensorflow/core/grappler/costs/op_level_cost_estimator.cc:690] Error in PredictCost() for the op: op: \"CropAndResize\" attr { key: \"T\" value { type: DT_FLOAT } } attr { key: \"extrapolation_value\" value { f: 0 } } attr { key: \"method\" value { s: \"bilinear\" } } inputs { dtype: DT_FLOAT shape { dim { size: 1 } dim { size: 1024 } dim { size: 1024 } dim { size: 1 } } } inputs { dtype: DT_FLOAT shape { dim { size: -2 } dim { size: 4 } } } inputs { dtype: DT_INT32 shape { dim { size: -2 } } } inputs { dtype: DT_INT32 shape { dim { size: 2 } } } device { type: \"CPU\" vendor: \"GenuineIntel\" model: \"111\" frequency: 2199 num_cores: 8 environment { key: \"cpu_instruction_set\" value: \"AVX SSE, SSE2, SSE3, SSSE3, SSE4.1, SSE4.2\" } environment { key: \"eigen\" value: \"3.4.90\" } l1_cache_size: 32768 l2_cache_size: 262144 l3_cache_size: 57671680 memory_size: 268435456 } outputs { dtype: DT_FLOAT shape { dim { size: -2 } dim { size: 160 } dim { size: 160 } dim { size: 1 } } }\n",
            "2025-04-21 01:55:28.869279: W tensorflow/core/grappler/costs/op_level_cost_estimator.cc:690] Error in PredictCost() for the op: op: \"CropAndResize\" attr { key: \"T\" value { type: DT_FLOAT } } attr { key: \"extrapolation_value\" value { f: 0 } } attr { key: \"method\" value { s: \"bilinear\" } } inputs { dtype: DT_FLOAT shape { dim { size: 1 } dim { size: 1024 } dim { size: 1024 } dim { size: 1 } } } inputs { dtype: DT_FLOAT shape { dim { size: -2 } dim { size: 4 } } } inputs { dtype: DT_INT32 shape { dim { size: -2 } } } inputs { dtype: DT_INT32 shape { dim { size: 2 } } } device { type: \"CPU\" vendor: \"GenuineIntel\" model: \"111\" frequency: 2199 num_cores: 8 environment { key: \"cpu_instruction_set\" value: \"AVX SSE, SSE2, SSE3, SSSE3, SSE4.1, SSE4.2\" } environment { key: \"eigen\" value: \"3.4.90\" } l1_cache_size: 32768 l2_cache_size: 262144 l3_cache_size: 57671680 memory_size: 268435456 } outputs { dtype: DT_FLOAT shape { dim { size: -2 } dim { size: 160 } dim { size: 160 } dim { size: 1 } } }\n",
            "Unable to use Qt backend for matplotlib. This probably means Qt is running headless.\n",
            "Unable to use Qt backend for matplotlib. This probably means Qt is running headless.\n",
            "INFO:sleap.nn.training:Finished trainer set up. [5.5s]\n",
            "INFO:sleap.nn.training:Creating tf.data.Datasets for training data generation...\n",
            "2025-04-21 01:55:48.555535: W tensorflow/core/grappler/costs/op_level_cost_estimator.cc:690] Error in PredictCost() for the op: op: \"CropAndResize\" attr { key: \"T\" value { type: DT_FLOAT } } attr { key: \"extrapolation_value\" value { f: 0 } } attr { key: \"method\" value { s: \"bilinear\" } } inputs { dtype: DT_FLOAT shape { dim { size: 1 } dim { size: 1024 } dim { size: 1024 } dim { size: 1 } } } inputs { dtype: DT_FLOAT shape { dim { size: -2 } dim { size: 4 } } } inputs { dtype: DT_INT32 shape { dim { size: -2 } } } inputs { dtype: DT_INT32 shape { dim { size: 2 } } } device { type: \"CPU\" vendor: \"GenuineIntel\" model: \"111\" frequency: 2199 num_cores: 8 environment { key: \"cpu_instruction_set\" value: \"AVX SSE, SSE2, SSE3, SSSE3, SSE4.1, SSE4.2\" } environment { key: \"eigen\" value: \"3.4.90\" } l1_cache_size: 32768 l2_cache_size: 262144 l3_cache_size: 57671680 memory_size: 268435456 } outputs { dtype: DT_FLOAT shape { dim { size: -2 } dim { size: 160 } dim { size: 160 } dim { size: 1 } } }\n",
            "2025-04-21 01:55:52.722119: W tensorflow/core/grappler/costs/op_level_cost_estimator.cc:690] Error in PredictCost() for the op: op: \"CropAndResize\" attr { key: \"T\" value { type: DT_FLOAT } } attr { key: \"extrapolation_value\" value { f: 0 } } attr { key: \"method\" value { s: \"bilinear\" } } inputs { dtype: DT_FLOAT shape { dim { size: 1 } dim { size: 1024 } dim { size: 1024 } dim { size: 1 } } } inputs { dtype: DT_FLOAT shape { dim { size: -2 } dim { size: 4 } } } inputs { dtype: DT_INT32 shape { dim { size: -2 } } } inputs { dtype: DT_INT32 shape { dim { size: 2 } } } device { type: \"CPU\" vendor: \"GenuineIntel\" model: \"111\" frequency: 2199 num_cores: 8 environment { key: \"cpu_instruction_set\" value: \"AVX SSE, SSE2, SSE3, SSSE3, SSE4.1, SSE4.2\" } environment { key: \"eigen\" value: \"3.4.90\" } l1_cache_size: 32768 l2_cache_size: 262144 l3_cache_size: 57671680 memory_size: 268435456 } outputs { dtype: DT_FLOAT shape { dim { size: -2 } dim { size: 160 } dim { size: 160 } dim { size: 1 } } }\n",
            "INFO:sleap.nn.training:Finished creating training datasets. [24.2s]\n",
            "INFO:sleap.nn.training:Starting training loop...\n",
            "2025-04-21 01:55:53.426178: W tensorflow/core/grappler/costs/op_level_cost_estimator.cc:690] Error in PredictCost() for the op: op: \"CropAndResize\" attr { key: \"T\" value { type: DT_FLOAT } } attr { key: \"extrapolation_value\" value { f: 0 } } attr { key: \"method\" value { s: \"bilinear\" } } inputs { dtype: DT_FLOAT shape { dim { size: 1 } dim { size: 1024 } dim { size: 1024 } dim { size: 1 } } } inputs { dtype: DT_FLOAT shape { dim { size: -2 } dim { size: 4 } } } inputs { dtype: DT_INT32 shape { dim { size: -2 } } } inputs { dtype: DT_INT32 shape { dim { size: 2 } } } device { type: \"CPU\" vendor: \"GenuineIntel\" model: \"111\" frequency: 2199 num_cores: 8 environment { key: \"cpu_instruction_set\" value: \"AVX SSE, SSE2, SSE3, SSSE3, SSE4.1, SSE4.2\" } environment { key: \"eigen\" value: \"3.4.90\" } l1_cache_size: 32768 l2_cache_size: 262144 l3_cache_size: 57671680 memory_size: 268435456 } outputs { dtype: DT_FLOAT shape { dim { size: -2 } dim { size: 160 } dim { size: 160 } dim { size: 1 } } }\n",
            "Epoch 1/10\n",
            "2025-04-21 01:55:55.318743: I tensorflow/stream_executor/cuda/cuda_dnn.cc:368] Loaded cuDNN version 8600\n",
            "2025-04-21 01:56:08.665667: W tensorflow/core/grappler/costs/op_level_cost_estimator.cc:690] Error in PredictCost() for the op: op: \"CropAndResize\" attr { key: \"T\" value { type: DT_FLOAT } } attr { key: \"extrapolation_value\" value { f: 0 } } attr { key: \"method\" value { s: \"bilinear\" } } inputs { dtype: DT_FLOAT shape { dim { size: 1 } dim { size: 1024 } dim { size: 1024 } dim { size: 1 } } } inputs { dtype: DT_FLOAT shape { dim { size: -2 } dim { size: 4 } } } inputs { dtype: DT_INT32 shape { dim { size: -2 } } } inputs { dtype: DT_INT32 shape { dim { size: 2 } } } device { type: \"CPU\" vendor: \"GenuineIntel\" model: \"111\" frequency: 2199 num_cores: 8 environment { key: \"cpu_instruction_set\" value: \"AVX SSE, SSE2, SSE3, SSSE3, SSE4.1, SSE4.2\" } environment { key: \"eigen\" value: \"3.4.90\" } l1_cache_size: 32768 l2_cache_size: 262144 l3_cache_size: 57671680 memory_size: 268435456 } outputs { dtype: DT_FLOAT shape { dim { size: -2 } dim { size: 160 } dim { size: 160 } dim { size: 1 } } }\n",
            "2025-04-21 01:56:11.555866: W tensorflow/core/grappler/costs/op_level_cost_estimator.cc:690] Error in PredictCost() for the op: op: \"CropAndResize\" attr { key: \"T\" value { type: DT_FLOAT } } attr { key: \"extrapolation_value\" value { f: 0 } } attr { key: \"method\" value { s: \"bilinear\" } } inputs { dtype: DT_FLOAT shape { dim { size: 13 } dim { size: 40 } dim { size: 40 } dim { size: 1 } } } inputs { dtype: DT_FLOAT shape { dim { size: -2 } dim { size: 4 } } } inputs { dtype: DT_INT32 shape { dim { size: -2 } } } inputs { dtype: DT_INT32 shape { dim { size: 2 } } } device { type: \"GPU\" vendor: \"NVIDIA\" model: \"Tesla T4\" frequency: 1590 num_cores: 40 environment { key: \"architecture\" value: \"7.5\" } environment { key: \"cuda\" value: \"11020\" } environment { key: \"cudnn\" value: \"8100\" } num_registers: 65536 l1_cache_size: 24576 l2_cache_size: 4194304 shared_memory_size_per_multiprocessor: 65536 memory_size: 14619377664 bandwidth: 320064000 } outputs { dtype: DT_FLOAT shape { dim { size: -2 } dim { size: -5 } dim { size: -6 } dim { size: 1 } } }\n",
            "360/360 - 19s - loss: 0.0038 - head: 0.0031 - thorax: 0.0032 - abdomen: 0.0039 - wingL: 0.0041 - wingR: 0.0041 - forelegL4: 0.0038 - forelegR4: 0.0038 - midlegL4: 0.0041 - midlegR4: 0.0041 - hindlegL4: 0.0039 - hindlegR4: 0.0040 - eyeL: 0.0035 - eyeR: 0.0035 - val_loss: 0.0034 - val_head: 0.0019 - val_thorax: 0.0026 - val_abdomen: 0.0035 - val_wingL: 0.0038 - val_wingR: 0.0038 - val_forelegL4: 0.0036 - val_forelegR4: 0.0036 - val_midlegL4: 0.0040 - val_midlegR4: 0.0040 - val_hindlegL4: 0.0038 - val_hindlegR4: 0.0039 - val_eyeL: 0.0029 - val_eyeR: 0.0027 - lr: 1.0000e-04 - 19s/epoch - 52ms/step\n",
            "Epoch 2/10\n",
            "2025-04-21 01:56:24.202324: W tensorflow/core/grappler/costs/op_level_cost_estimator.cc:690] Error in PredictCost() for the op: op: \"CropAndResize\" attr { key: \"T\" value { type: DT_FLOAT } } attr { key: \"extrapolation_value\" value { f: 0 } } attr { key: \"method\" value { s: \"bilinear\" } } inputs { dtype: DT_FLOAT shape { dim { size: 1 } dim { size: 1024 } dim { size: 1024 } dim { size: 1 } } } inputs { dtype: DT_FLOAT shape { dim { size: -2 } dim { size: 4 } } } inputs { dtype: DT_INT32 shape { dim { size: -2 } } } inputs { dtype: DT_INT32 shape { dim { size: 2 } } } device { type: \"CPU\" vendor: \"GenuineIntel\" model: \"111\" frequency: 2199 num_cores: 8 environment { key: \"cpu_instruction_set\" value: \"AVX SSE, SSE2, SSE3, SSSE3, SSE4.1, SSE4.2\" } environment { key: \"eigen\" value: \"3.4.90\" } l1_cache_size: 32768 l2_cache_size: 262144 l3_cache_size: 57671680 memory_size: 268435456 } outputs { dtype: DT_FLOAT shape { dim { size: -2 } dim { size: 160 } dim { size: 160 } dim { size: 1 } } }\n",
            "360/360 - 14s - loss: 0.0029 - head: 0.0013 - thorax: 0.0020 - abdomen: 0.0029 - wingL: 0.0030 - wingR: 0.0030 - forelegL4: 0.0032 - forelegR4: 0.0033 - midlegL4: 0.0038 - midlegR4: 0.0039 - hindlegL4: 0.0037 - hindlegR4: 0.0038 - eyeL: 0.0018 - eyeR: 0.0015 - val_loss: 0.0024 - val_head: 7.8900e-04 - val_thorax: 0.0013 - val_abdomen: 0.0025 - val_wingL: 0.0024 - val_wingR: 0.0024 - val_forelegL4: 0.0029 - val_forelegR4: 0.0029 - val_midlegL4: 0.0036 - val_midlegR4: 0.0037 - val_hindlegL4: 0.0036 - val_hindlegR4: 0.0036 - val_eyeL: 9.5666e-04 - val_eyeR: 8.5488e-04 - lr: 1.0000e-04 - 14s/epoch - 38ms/step\n",
            "Epoch 3/10\n",
            "2025-04-21 01:56:37.822629: W tensorflow/core/grappler/costs/op_level_cost_estimator.cc:690] Error in PredictCost() for the op: op: \"CropAndResize\" attr { key: \"T\" value { type: DT_FLOAT } } attr { key: \"extrapolation_value\" value { f: 0 } } attr { key: \"method\" value { s: \"bilinear\" } } inputs { dtype: DT_FLOAT shape { dim { size: 1 } dim { size: 1024 } dim { size: 1024 } dim { size: 1 } } } inputs { dtype: DT_FLOAT shape { dim { size: -2 } dim { size: 4 } } } inputs { dtype: DT_INT32 shape { dim { size: -2 } } } inputs { dtype: DT_INT32 shape { dim { size: 2 } } } device { type: \"CPU\" vendor: \"GenuineIntel\" model: \"111\" frequency: 2199 num_cores: 8 environment { key: \"cpu_instruction_set\" value: \"AVX SSE, SSE2, SSE3, SSSE3, SSE4.1, SSE4.2\" } environment { key: \"eigen\" value: \"3.4.90\" } l1_cache_size: 32768 l2_cache_size: 262144 l3_cache_size: 57671680 memory_size: 268435456 } outputs { dtype: DT_FLOAT shape { dim { size: -2 } dim { size: 160 } dim { size: 160 } dim { size: 1 } } }\n",
            "360/360 - 14s - loss: 0.0022 - head: 7.3444e-04 - thorax: 9.3930e-04 - abdomen: 0.0022 - wingL: 0.0021 - wingR: 0.0021 - forelegL4: 0.0027 - forelegR4: 0.0027 - midlegL4: 0.0034 - midlegR4: 0.0035 - hindlegL4: 0.0034 - hindlegR4: 0.0033 - eyeL: 8.5981e-04 - eyeR: 8.3896e-04 - val_loss: 0.0020 - val_head: 6.0621e-04 - val_thorax: 6.3063e-04 - val_abdomen: 0.0022 - val_wingL: 0.0020 - val_wingR: 0.0020 - val_forelegL4: 0.0024 - val_forelegR4: 0.0026 - val_midlegL4: 0.0031 - val_midlegR4: 0.0034 - val_hindlegL4: 0.0032 - val_hindlegR4: 0.0032 - val_eyeL: 6.2746e-04 - val_eyeR: 6.2102e-04 - lr: 1.0000e-04 - 14s/epoch - 38ms/step\n",
            "Epoch 4/10\n",
            "2025-04-21 01:56:51.371352: W tensorflow/core/grappler/costs/op_level_cost_estimator.cc:690] Error in PredictCost() for the op: op: \"CropAndResize\" attr { key: \"T\" value { type: DT_FLOAT } } attr { key: \"extrapolation_value\" value { f: 0 } } attr { key: \"method\" value { s: \"bilinear\" } } inputs { dtype: DT_FLOAT shape { dim { size: 1 } dim { size: 1024 } dim { size: 1024 } dim { size: 1 } } } inputs { dtype: DT_FLOAT shape { dim { size: -2 } dim { size: 4 } } } inputs { dtype: DT_INT32 shape { dim { size: -2 } } } inputs { dtype: DT_INT32 shape { dim { size: 2 } } } device { type: \"CPU\" vendor: \"GenuineIntel\" model: \"111\" frequency: 2199 num_cores: 8 environment { key: \"cpu_instruction_set\" value: \"AVX SSE, SSE2, SSE3, SSSE3, SSE4.1, SSE4.2\" } environment { key: \"eigen\" value: \"3.4.90\" } l1_cache_size: 32768 l2_cache_size: 262144 l3_cache_size: 57671680 memory_size: 268435456 } outputs { dtype: DT_FLOAT shape { dim { size: -2 } dim { size: 160 } dim { size: 160 } dim { size: 1 } } }\n",
            "360/360 - 15s - loss: 0.0018 - head: 6.0135e-04 - thorax: 5.1263e-04 - abdomen: 0.0019 - wingL: 0.0018 - wingR: 0.0018 - forelegL4: 0.0022 - forelegR4: 0.0023 - midlegL4: 0.0026 - midlegR4: 0.0028 - hindlegL4: 0.0029 - hindlegR4: 0.0027 - eyeL: 6.8497e-04 - eyeR: 6.9849e-04 - val_loss: 0.0016 - val_head: 5.5889e-04 - val_thorax: 4.1489e-04 - val_abdomen: 0.0019 - val_wingL: 0.0016 - val_wingR: 0.0017 - val_forelegL4: 0.0020 - val_forelegR4: 0.0021 - val_midlegL4: 0.0023 - val_midlegR4: 0.0024 - val_hindlegL4: 0.0026 - val_hindlegR4: 0.0026 - val_eyeL: 5.6621e-04 - val_eyeR: 5.8171e-04 - lr: 1.0000e-04 - 15s/epoch - 42ms/step\n",
            "Epoch 5/10\n",
            "2025-04-21 01:57:06.435479: W tensorflow/core/grappler/costs/op_level_cost_estimator.cc:690] Error in PredictCost() for the op: op: \"CropAndResize\" attr { key: \"T\" value { type: DT_FLOAT } } attr { key: \"extrapolation_value\" value { f: 0 } } attr { key: \"method\" value { s: \"bilinear\" } } inputs { dtype: DT_FLOAT shape { dim { size: 1 } dim { size: 1024 } dim { size: 1024 } dim { size: 1 } } } inputs { dtype: DT_FLOAT shape { dim { size: -2 } dim { size: 4 } } } inputs { dtype: DT_INT32 shape { dim { size: -2 } } } inputs { dtype: DT_INT32 shape { dim { size: 2 } } } device { type: \"CPU\" vendor: \"GenuineIntel\" model: \"111\" frequency: 2199 num_cores: 8 environment { key: \"cpu_instruction_set\" value: \"AVX SSE, SSE2, SSE3, SSSE3, SSE4.1, SSE4.2\" } environment { key: \"eigen\" value: \"3.4.90\" } l1_cache_size: 32768 l2_cache_size: 262144 l3_cache_size: 57671680 memory_size: 268435456 } outputs { dtype: DT_FLOAT shape { dim { size: -2 } dim { size: 160 } dim { size: 160 } dim { size: 1 } } }\n",
            "360/360 - 15s - loss: 0.0015 - head: 5.1634e-04 - thorax: 3.9030e-04 - abdomen: 0.0017 - wingL: 0.0015 - wingR: 0.0016 - forelegL4: 0.0019 - forelegR4: 0.0020 - midlegL4: 0.0020 - midlegR4: 0.0021 - hindlegL4: 0.0024 - hindlegR4: 0.0023 - eyeL: 6.0789e-04 - eyeR: 6.1322e-04 - val_loss: 0.0014 - val_head: 4.2701e-04 - val_thorax: 3.3435e-04 - val_abdomen: 0.0017 - val_wingL: 0.0014 - val_wingR: 0.0014 - val_forelegL4: 0.0018 - val_forelegR4: 0.0018 - val_midlegL4: 0.0019 - val_midlegR4: 0.0019 - val_hindlegL4: 0.0022 - val_hindlegR4: 0.0022 - val_eyeL: 4.8070e-04 - val_eyeR: 4.6607e-04 - lr: 1.0000e-04 - 15s/epoch - 41ms/step\n",
            "Epoch 6/10\n",
            "2025-04-21 01:57:20.307048: W tensorflow/core/grappler/costs/op_level_cost_estimator.cc:690] Error in PredictCost() for the op: op: \"CropAndResize\" attr { key: \"T\" value { type: DT_FLOAT } } attr { key: \"extrapolation_value\" value { f: 0 } } attr { key: \"method\" value { s: \"bilinear\" } } inputs { dtype: DT_FLOAT shape { dim { size: 1 } dim { size: 1024 } dim { size: 1024 } dim { size: 1 } } } inputs { dtype: DT_FLOAT shape { dim { size: -2 } dim { size: 4 } } } inputs { dtype: DT_INT32 shape { dim { size: -2 } } } inputs { dtype: DT_INT32 shape { dim { size: 2 } } } device { type: \"CPU\" vendor: \"GenuineIntel\" model: \"111\" frequency: 2199 num_cores: 8 environment { key: \"cpu_instruction_set\" value: \"AVX SSE, SSE2, SSE3, SSSE3, SSE4.1, SSE4.2\" } environment { key: \"eigen\" value: \"3.4.90\" } l1_cache_size: 32768 l2_cache_size: 262144 l3_cache_size: 57671680 memory_size: 268435456 } outputs { dtype: DT_FLOAT shape { dim { size: -2 } dim { size: 160 } dim { size: 160 } dim { size: 1 } } }\n",
            "360/360 - 15s - loss: 0.0013 - head: 4.5487e-04 - thorax: 3.2463e-04 - abdomen: 0.0015 - wingL: 0.0014 - wingR: 0.0014 - forelegL4: 0.0017 - forelegR4: 0.0018 - midlegL4: 0.0017 - midlegR4: 0.0017 - hindlegL4: 0.0020 - hindlegR4: 0.0020 - eyeL: 5.5434e-04 - eyeR: 5.4948e-04 - val_loss: 0.0012 - val_head: 3.7670e-04 - val_thorax: 3.0449e-04 - val_abdomen: 0.0015 - val_wingL: 0.0012 - val_wingR: 0.0013 - val_forelegL4: 0.0017 - val_forelegR4: 0.0017 - val_midlegL4: 0.0017 - val_midlegR4: 0.0017 - val_hindlegL4: 0.0019 - val_hindlegR4: 0.0020 - val_eyeL: 4.4216e-04 - val_eyeR: 4.5726e-04 - lr: 1.0000e-04 - 15s/epoch - 41ms/step\n",
            "Epoch 7/10\n",
            "2025-04-21 01:57:34.234646: W tensorflow/core/grappler/costs/op_level_cost_estimator.cc:690] Error in PredictCost() for the op: op: \"CropAndResize\" attr { key: \"T\" value { type: DT_FLOAT } } attr { key: \"extrapolation_value\" value { f: 0 } } attr { key: \"method\" value { s: \"bilinear\" } } inputs { dtype: DT_FLOAT shape { dim { size: 1 } dim { size: 1024 } dim { size: 1024 } dim { size: 1 } } } inputs { dtype: DT_FLOAT shape { dim { size: -2 } dim { size: 4 } } } inputs { dtype: DT_INT32 shape { dim { size: -2 } } } inputs { dtype: DT_INT32 shape { dim { size: 2 } } } device { type: \"CPU\" vendor: \"GenuineIntel\" model: \"111\" frequency: 2199 num_cores: 8 environment { key: \"cpu_instruction_set\" value: \"AVX SSE, SSE2, SSE3, SSSE3, SSE4.1, SSE4.2\" } environment { key: \"eigen\" value: \"3.4.90\" } l1_cache_size: 32768 l2_cache_size: 262144 l3_cache_size: 57671680 memory_size: 268435456 } outputs { dtype: DT_FLOAT shape { dim { size: -2 } dim { size: 160 } dim { size: 160 } dim { size: 1 } } }\n",
            "360/360 - 14s - loss: 0.0012 - head: 4.0386e-04 - thorax: 2.8940e-04 - abdomen: 0.0013 - wingL: 0.0012 - wingR: 0.0012 - forelegL4: 0.0016 - forelegR4: 0.0016 - midlegL4: 0.0015 - midlegR4: 0.0015 - hindlegL4: 0.0018 - hindlegR4: 0.0018 - eyeL: 5.0761e-04 - eyeR: 5.1814e-04 - val_loss: 0.0012 - val_head: 3.7749e-04 - val_thorax: 2.9508e-04 - val_abdomen: 0.0014 - val_wingL: 0.0012 - val_wingR: 0.0012 - val_forelegL4: 0.0015 - val_forelegR4: 0.0015 - val_midlegL4: 0.0015 - val_midlegR4: 0.0015 - val_hindlegL4: 0.0018 - val_hindlegR4: 0.0019 - val_eyeL: 4.2121e-04 - val_eyeR: 4.2302e-04 - lr: 1.0000e-04 - 14s/epoch - 39ms/step\n",
            "Epoch 8/10\n",
            "2025-04-21 01:57:48.190457: W tensorflow/core/grappler/costs/op_level_cost_estimator.cc:690] Error in PredictCost() for the op: op: \"CropAndResize\" attr { key: \"T\" value { type: DT_FLOAT } } attr { key: \"extrapolation_value\" value { f: 0 } } attr { key: \"method\" value { s: \"bilinear\" } } inputs { dtype: DT_FLOAT shape { dim { size: 1 } dim { size: 1024 } dim { size: 1024 } dim { size: 1 } } } inputs { dtype: DT_FLOAT shape { dim { size: -2 } dim { size: 4 } } } inputs { dtype: DT_INT32 shape { dim { size: -2 } } } inputs { dtype: DT_INT32 shape { dim { size: 2 } } } device { type: \"CPU\" vendor: \"GenuineIntel\" model: \"111\" frequency: 2199 num_cores: 8 environment { key: \"cpu_instruction_set\" value: \"AVX SSE, SSE2, SSE3, SSSE3, SSE4.1, SSE4.2\" } environment { key: \"eigen\" value: \"3.4.90\" } l1_cache_size: 32768 l2_cache_size: 262144 l3_cache_size: 57671680 memory_size: 268435456 } outputs { dtype: DT_FLOAT shape { dim { size: -2 } dim { size: 160 } dim { size: 160 } dim { size: 1 } } }\n",
            "360/360 - 13s - loss: 0.0011 - head: 3.6439e-04 - thorax: 2.5088e-04 - abdomen: 0.0012 - wingL: 0.0011 - wingR: 0.0011 - forelegL4: 0.0015 - forelegR4: 0.0015 - midlegL4: 0.0013 - midlegR4: 0.0014 - hindlegL4: 0.0017 - hindlegR4: 0.0017 - eyeL: 4.7652e-04 - eyeR: 4.8300e-04 - val_loss: 0.0011 - val_head: 3.3674e-04 - val_thorax: 3.1602e-04 - val_abdomen: 0.0013 - val_wingL: 0.0010 - val_wingR: 0.0011 - val_forelegL4: 0.0015 - val_forelegR4: 0.0015 - val_midlegL4: 0.0014 - val_midlegR4: 0.0014 - val_hindlegL4: 0.0017 - val_hindlegR4: 0.0018 - val_eyeL: 3.9970e-04 - val_eyeR: 3.8968e-04 - lr: 1.0000e-04 - 13s/epoch - 37ms/step\n",
            "Epoch 9/10\n",
            "2025-04-21 01:58:02.108133: W tensorflow/core/grappler/costs/op_level_cost_estimator.cc:690] Error in PredictCost() for the op: op: \"CropAndResize\" attr { key: \"T\" value { type: DT_FLOAT } } attr { key: \"extrapolation_value\" value { f: 0 } } attr { key: \"method\" value { s: \"bilinear\" } } inputs { dtype: DT_FLOAT shape { dim { size: 1 } dim { size: 1024 } dim { size: 1024 } dim { size: 1 } } } inputs { dtype: DT_FLOAT shape { dim { size: -2 } dim { size: 4 } } } inputs { dtype: DT_INT32 shape { dim { size: -2 } } } inputs { dtype: DT_INT32 shape { dim { size: 2 } } } device { type: \"CPU\" vendor: \"GenuineIntel\" model: \"111\" frequency: 2199 num_cores: 8 environment { key: \"cpu_instruction_set\" value: \"AVX SSE, SSE2, SSE3, SSSE3, SSE4.1, SSE4.2\" } environment { key: \"eigen\" value: \"3.4.90\" } l1_cache_size: 32768 l2_cache_size: 262144 l3_cache_size: 57671680 memory_size: 268435456 } outputs { dtype: DT_FLOAT shape { dim { size: -2 } dim { size: 160 } dim { size: 160 } dim { size: 1 } } }\n",
            "360/360 - 14s - loss: 0.0010 - head: 3.3765e-04 - thorax: 2.2438e-04 - abdomen: 0.0012 - wingL: 0.0010 - wingR: 0.0010 - forelegL4: 0.0014 - forelegR4: 0.0014 - midlegL4: 0.0012 - midlegR4: 0.0013 - hindlegL4: 0.0016 - hindlegR4: 0.0016 - eyeL: 4.4613e-04 - eyeR: 4.4308e-04 - val_loss: 0.0010 - val_head: 3.1077e-04 - val_thorax: 2.4074e-04 - val_abdomen: 0.0012 - val_wingL: 0.0011 - val_wingR: 9.3896e-04 - val_forelegL4: 0.0014 - val_forelegR4: 0.0014 - val_midlegL4: 0.0013 - val_midlegR4: 0.0013 - val_hindlegL4: 0.0016 - val_hindlegR4: 0.0016 - val_eyeL: 3.8263e-04 - val_eyeR: 3.5238e-04 - lr: 1.0000e-04 - 14s/epoch - 39ms/step\n",
            "Epoch 10/10\n",
            "2025-04-21 01:58:15.963991: W tensorflow/core/grappler/costs/op_level_cost_estimator.cc:690] Error in PredictCost() for the op: op: \"CropAndResize\" attr { key: \"T\" value { type: DT_FLOAT } } attr { key: \"extrapolation_value\" value { f: 0 } } attr { key: \"method\" value { s: \"bilinear\" } } inputs { dtype: DT_FLOAT shape { dim { size: 1 } dim { size: 1024 } dim { size: 1024 } dim { size: 1 } } } inputs { dtype: DT_FLOAT shape { dim { size: -2 } dim { size: 4 } } } inputs { dtype: DT_INT32 shape { dim { size: -2 } } } inputs { dtype: DT_INT32 shape { dim { size: 2 } } } device { type: \"CPU\" vendor: \"GenuineIntel\" model: \"111\" frequency: 2199 num_cores: 8 environment { key: \"cpu_instruction_set\" value: \"AVX SSE, SSE2, SSE3, SSSE3, SSE4.1, SSE4.2\" } environment { key: \"eigen\" value: \"3.4.90\" } l1_cache_size: 32768 l2_cache_size: 262144 l3_cache_size: 57671680 memory_size: 268435456 } outputs { dtype: DT_FLOAT shape { dim { size: -2 } dim { size: 160 } dim { size: 160 } dim { size: 1 } } }\n",
            "360/360 - 14s - loss: 9.5906e-04 - head: 3.2101e-04 - thorax: 2.0578e-04 - abdomen: 0.0011 - wingL: 9.3531e-04 - wingR: 9.4581e-04 - forelegL4: 0.0013 - forelegR4: 0.0014 - midlegL4: 0.0012 - midlegR4: 0.0012 - hindlegL4: 0.0015 - hindlegR4: 0.0015 - eyeL: 4.1793e-04 - eyeR: 4.2607e-04 - val_loss: 9.1752e-04 - val_head: 2.9650e-04 - val_thorax: 1.7888e-04 - val_abdomen: 0.0011 - val_wingL: 8.4276e-04 - val_wingR: 8.6335e-04 - val_forelegL4: 0.0014 - val_forelegR4: 0.0013 - val_midlegL4: 0.0012 - val_midlegR4: 0.0011 - val_hindlegL4: 0.0015 - val_hindlegR4: 0.0015 - val_eyeL: 3.7608e-04 - val_eyeR: 3.2771e-04 - lr: 1.0000e-04 - 14s/epoch - 38ms/step\n",
            "INFO:sleap.nn.training:Finished training loop. [2.4 min]\n",
            "INFO:sleap.nn.training:Deleting visualization directory: models/baseline_model.topdown/viz\n",
            "INFO:sleap.nn.training:Saving evaluation metrics to model folder...\n",
            "\u001b[2KPredicting... \u001b[90m━━━━━━━━━━━━━━━━━━━━━━━━━━━━━━━━━━━━━━━━\u001b[0m \u001b[35m  0%\u001b[0m ETA: \u001b[36m-:--:--\u001b[0m \u001b[31m?\u001b[0m2025-04-21 01:58:21.696143: W tensorflow/core/grappler/costs/op_level_cost_estimator.cc:690] Error in PredictCost() for the op: op: \"CropAndResize\" attr { key: \"T\" value { type: DT_UINT8 } } attr { key: \"extrapolation_value\" value { f: 0 } } attr { key: \"method\" value { s: \"bilinear\" } } inputs { dtype: DT_UINT8 shape { dim { size: 4 } dim { size: 1024 } dim { size: 1024 } dim { size: 1 } } } inputs { dtype: DT_FLOAT shape { dim { size: -2 } dim { size: 4 } } } inputs { dtype: DT_INT32 shape { dim { size: -2 } } } inputs { dtype: DT_INT32 shape { dim { size: 2 } } } device { type: \"CPU\" vendor: \"GenuineIntel\" model: \"111\" frequency: 2199 num_cores: 8 environment { key: \"cpu_instruction_set\" value: \"AVX SSE, SSE2, SSE3, SSSE3, SSE4.1, SSE4.2\" } environment { key: \"eigen\" value: \"3.4.90\" } l1_cache_size: 32768 l2_cache_size: 262144 l3_cache_size: 57671680 memory_size: 268435456 } outputs { dtype: DT_FLOAT shape { dim { size: -2 } dim { size: -32 } dim { size: -33 } dim { size: 1 } } }\n",
            "2025-04-21 01:58:21.705663: W tensorflow/core/grappler/costs/op_level_cost_estimator.cc:690] Error in PredictCost() for the op: op: \"CropAndResize\" attr { key: \"T\" value { type: DT_FLOAT } } attr { key: \"extrapolation_value\" value { f: 0 } } attr { key: \"method\" value { s: \"bilinear\" } } inputs { dtype: DT_FLOAT shape { dim { size: -60 } dim { size: -61 } dim { size: -62 } dim { size: 1 } } } inputs { dtype: DT_FLOAT shape { dim { size: -15 } dim { size: 4 } } } inputs { dtype: DT_INT32 shape { dim { size: -15 } } } inputs { dtype: DT_INT32 shape { dim { size: 2 } } } device { type: \"GPU\" vendor: \"NVIDIA\" model: \"Tesla T4\" frequency: 1590 num_cores: 40 environment { key: \"architecture\" value: \"7.5\" } environment { key: \"cuda\" value: \"11020\" } environment { key: \"cudnn\" value: \"8100\" } num_registers: 65536 l1_cache_size: 24576 l2_cache_size: 4194304 shared_memory_size_per_multiprocessor: 65536 memory_size: 14619377664 bandwidth: 320064000 } outputs { dtype: DT_FLOAT shape { dim { size: -15 } dim { size: -66 } dim { size: -67 } dim { size: 1 } } }\n",
            "\u001b[2KPredicting... \u001b[90m━━━━━━━━━━━━━━━━━━━━━━━━━━━━━━━━━━━━━━━\u001b[0m \u001b[35m100%\u001b[0m ETA: \u001b[36m0:00:00\u001b[0m \u001b[31m67.0 FPS\u001b[0m\n",
            "\u001b[?25h/usr/local/lib/python3.10/site-packages/networkx/readwrite/json_graph/node_link.py:142: FutureWarning: \n",
            "The default value will be `edges=\"edges\" in NetworkX 3.6.\n",
            "\n",
            "To make this warning go away, explicitly set the edges kwarg, e.g.:\n",
            "\n",
            "  nx.node_link_data(G, edges=\"links\") to preserve current behavior, or\n",
            "  nx.node_link_data(G, edges=\"edges\") for forward compatibility.\n",
            "  warnings.warn(\n",
            "INFO:sleap.nn.evals:Saved predictions: models/baseline_model.topdown/labels_pr.train.slp\n",
            "INFO:sleap.nn.evals:Saved metrics: models/baseline_model.topdown/metrics.train.npz\n",
            "INFO:sleap.nn.evals:OKS mAP: 0.500691\n",
            "\u001b[2KPredicting... \u001b[90m━━━━━━━━━━━━━━━━━━━━━━━━━━━━━━━━━━━━━━━━\u001b[0m \u001b[35m  0%\u001b[0m ETA: \u001b[36m-:--:--\u001b[0m \u001b[31m?\u001b[0m2025-04-21 01:58:47.201779: W tensorflow/core/grappler/costs/op_level_cost_estimator.cc:690] Error in PredictCost() for the op: op: \"CropAndResize\" attr { key: \"T\" value { type: DT_UINT8 } } attr { key: \"extrapolation_value\" value { f: 0 } } attr { key: \"method\" value { s: \"bilinear\" } } inputs { dtype: DT_UINT8 shape { dim { size: 4 } dim { size: 1024 } dim { size: 1024 } dim { size: 1 } } } inputs { dtype: DT_FLOAT shape { dim { size: -2 } dim { size: 4 } } } inputs { dtype: DT_INT32 shape { dim { size: -2 } } } inputs { dtype: DT_INT32 shape { dim { size: 2 } } } device { type: \"CPU\" vendor: \"GenuineIntel\" model: \"111\" frequency: 2199 num_cores: 8 environment { key: \"cpu_instruction_set\" value: \"AVX SSE, SSE2, SSE3, SSSE3, SSE4.1, SSE4.2\" } environment { key: \"eigen\" value: \"3.4.90\" } l1_cache_size: 32768 l2_cache_size: 262144 l3_cache_size: 57671680 memory_size: 268435456 } outputs { dtype: DT_FLOAT shape { dim { size: -2 } dim { size: -32 } dim { size: -33 } dim { size: 1 } } }\n",
            "2025-04-21 01:58:47.211447: W tensorflow/core/grappler/costs/op_level_cost_estimator.cc:690] Error in PredictCost() for the op: op: \"CropAndResize\" attr { key: \"T\" value { type: DT_FLOAT } } attr { key: \"extrapolation_value\" value { f: 0 } } attr { key: \"method\" value { s: \"bilinear\" } } inputs { dtype: DT_FLOAT shape { dim { size: -60 } dim { size: -61 } dim { size: -62 } dim { size: 1 } } } inputs { dtype: DT_FLOAT shape { dim { size: -15 } dim { size: 4 } } } inputs { dtype: DT_INT32 shape { dim { size: -15 } } } inputs { dtype: DT_INT32 shape { dim { size: 2 } } } device { type: \"GPU\" vendor: \"NVIDIA\" model: \"Tesla T4\" frequency: 1590 num_cores: 40 environment { key: \"architecture\" value: \"7.5\" } environment { key: \"cuda\" value: \"11020\" } environment { key: \"cudnn\" value: \"8100\" } num_registers: 65536 l1_cache_size: 24576 l2_cache_size: 4194304 shared_memory_size_per_multiprocessor: 65536 memory_size: 14619377664 bandwidth: 320064000 } outputs { dtype: DT_FLOAT shape { dim { size: -15 } dim { size: -66 } dim { size: -67 } dim { size: 1 } } }\n",
            "\u001b[2KPredicting... \u001b[90m━━━━━━━━━━━━━━━━━━━━━━━━━━━━━━━━━━━━━━━\u001b[0m \u001b[35m100%\u001b[0m ETA: \u001b[36m0:00:00\u001b[0m \u001b[31m75.7 FPS\u001b[0m\n",
            "\u001b[?25h/usr/local/lib/python3.10/site-packages/networkx/readwrite/json_graph/node_link.py:142: FutureWarning: \n",
            "The default value will be `edges=\"edges\" in NetworkX 3.6.\n",
            "\n",
            "To make this warning go away, explicitly set the edges kwarg, e.g.:\n",
            "\n",
            "  nx.node_link_data(G, edges=\"links\") to preserve current behavior, or\n",
            "  nx.node_link_data(G, edges=\"edges\") for forward compatibility.\n",
            "  warnings.warn(\n",
            "INFO:sleap.nn.evals:Saved predictions: models/baseline_model.topdown/labels_pr.val.slp\n",
            "INFO:sleap.nn.evals:Saved metrics: models/baseline_model.topdown/metrics.val.npz\n",
            "INFO:sleap.nn.evals:OKS mAP: 0.505723\n",
            "Exception ignored in: <function IteratorResourceDeleter.__del__ at 0x785f3809f7f0>\n",
            "Traceback (most recent call last):\n",
            "  File \"/usr/local/lib/python3.10/site-packages/tensorflow/python/data/ops/iterator_ops.py\", line 570, in __del__\n",
            "AttributeError: 'NoneType' object has no attribute 'eager_mode'\n",
            "Exception ignored in: <function IteratorResourceDeleter.__del__ at 0x785f3809f7f0>\n",
            "Traceback (most recent call last):\n",
            "  File \"/usr/local/lib/python3.10/site-packages/tensorflow/python/data/ops/iterator_ops.py\", line 570, in __del__\n",
            "AttributeError: 'NoneType' object has no attribute 'eager_mode'\n"
          ]
        }
      ]
    }
  ],
  "metadata": {
    "accelerator": "GPU",
    "colab": {
      "machine_shape": "hm",
      "name": "SLEAP - Interactive and resumable training.ipynb",
      "provenance": [],
      "include_colab_link": true
    },
    "kernelspec": {
      "display_name": "Python 3",
      "name": "python3"
    },
    "language_info": {
      "codemirror_mode": {
        "name": "ipython",
        "version": 3
      },
      "file_extension": ".py",
      "mimetype": "text/x-python",
      "name": "python",
      "nbconvert_exporter": "python",
      "pygments_lexer": "ipython3",
      "version": "3.7.12"
    }
  },
  "nbformat": 4,
  "nbformat_minor": 0
}